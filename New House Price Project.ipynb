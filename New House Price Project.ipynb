{
 "cells": [
  {
   "cell_type": "code",
   "execution_count": 2,
   "id": "07c4dbaa",
   "metadata": {},
   "outputs": [
    {
     "name": "stderr",
     "output_type": "stream",
     "text": [
      "c:\\users\\asus\\appdata\\local\\programs\\python\\python37\\lib\\site-packages\\numpy\\_distributor_init.py:32: UserWarning: loaded more than 1 DLL from .libs:\n",
      "c:\\users\\asus\\appdata\\local\\programs\\python\\python37\\lib\\site-packages\\numpy\\.libs\\libopenblas.WCDJNK7YVMPZQ2ME2ZZHJJRJ3JIKNDB7.gfortran-win_amd64.dll\n",
      "c:\\users\\asus\\appdata\\local\\programs\\python\\python37\\lib\\site-packages\\numpy\\.libs\\libopenblas.XWYDX2IKJW2NMTWSFYNGFUWKQU3LYTCZ.gfortran-win_amd64.dll\n",
      "  stacklevel=1)\n"
     ]
    }
   ],
   "source": [
    "import pandas as pd\n",
    "import numpy as np\n",
    "import matplotlib.pyplot as plt\n",
    "import seaborn as sns\n",
    "import copy\n",
    "pd.set_option(\"display.max_column\", None)\n",
    "%matplotlib inline\n",
    "from sklearn.impute import SimpleImputer\n",
    "from sklearn.preprocessing import LabelEncoder"
   ]
  },
  {
   "cell_type": "code",
   "execution_count": 3,
   "id": "63c9b5dc",
   "metadata": {
    "scrolled": true
   },
   "outputs": [
    {
     "data": {
      "text/html": [
       "<div>\n",
       "<style scoped>\n",
       "    .dataframe tbody tr th:only-of-type {\n",
       "        vertical-align: middle;\n",
       "    }\n",
       "\n",
       "    .dataframe tbody tr th {\n",
       "        vertical-align: top;\n",
       "    }\n",
       "\n",
       "    .dataframe thead th {\n",
       "        text-align: right;\n",
       "    }\n",
       "</style>\n",
       "<table border=\"1\" class=\"dataframe\">\n",
       "  <thead>\n",
       "    <tr style=\"text-align: right;\">\n",
       "      <th></th>\n",
       "      <th>Sale Date</th>\n",
       "      <th>State</th>\n",
       "      <th>District</th>\n",
       "      <th>Address</th>\n",
       "      <th>Building Type</th>\n",
       "      <th>Tenure</th>\n",
       "      <th>Floors</th>\n",
       "      <th>Rooms</th>\n",
       "      <th>Land Area</th>\n",
       "      <th>Built Up Area</th>\n",
       "      <th>Interest Rate</th>\n",
       "      <th>Monthly payment</th>\n",
       "      <th>Minimum Income Formula</th>\n",
       "      <th>School</th>\n",
       "      <th>Hospital</th>\n",
       "      <th>Price psf</th>\n",
       "      <th>Comercial Areas</th>\n",
       "      <th>Purchase Price</th>\n",
       "    </tr>\n",
       "  </thead>\n",
       "  <tbody>\n",
       "    <tr>\n",
       "      <th>0</th>\n",
       "      <td>26/11/2019</td>\n",
       "      <td>MELAKA</td>\n",
       "      <td>PEGOH</td>\n",
       "      <td>A FARMOSA GOLF RESORT</td>\n",
       "      <td>BUNGALOW</td>\n",
       "      <td>LEASEHOLD</td>\n",
       "      <td>1</td>\n",
       "      <td>4.0</td>\n",
       "      <td>7,147 ft²</td>\n",
       "      <td>1,344 ft²</td>\n",
       "      <td>3.8</td>\n",
       "      <td>2562.765430</td>\n",
       "      <td>4271.275717</td>\n",
       "      <td>7.40</td>\n",
       "      <td>11.8</td>\n",
       "      <td>77</td>\n",
       "      <td>8.3</td>\n",
       "      <td>550,000</td>\n",
       "    </tr>\n",
       "    <tr>\n",
       "      <th>1</th>\n",
       "      <td>2/1/2020</td>\n",
       "      <td>MELAKA</td>\n",
       "      <td>PEGOH</td>\n",
       "      <td>A FARMOSA GOLF RESORT</td>\n",
       "      <td>BUNGALOW</td>\n",
       "      <td>LEASEHOLD</td>\n",
       "      <td>1</td>\n",
       "      <td>4.0</td>\n",
       "      <td>6,663 ft²</td>\n",
       "      <td>1,335 ft²</td>\n",
       "      <td>3.9</td>\n",
       "      <td>2358.341021</td>\n",
       "      <td>3930.568369</td>\n",
       "      <td>7.40</td>\n",
       "      <td>13.1</td>\n",
       "      <td>75</td>\n",
       "      <td>8.3</td>\n",
       "      <td>500,000</td>\n",
       "    </tr>\n",
       "    <tr>\n",
       "      <th>2</th>\n",
       "      <td>12/7/2019</td>\n",
       "      <td>MELAKA</td>\n",
       "      <td>PEGOH</td>\n",
       "      <td>A FARMOSA GOLF RESORT</td>\n",
       "      <td>BUNGALOW</td>\n",
       "      <td>LEASEHOLD</td>\n",
       "      <td>1</td>\n",
       "      <td>4.0</td>\n",
       "      <td>6,168 ft²</td>\n",
       "      <td>1,344 ft²</td>\n",
       "      <td>3.9</td>\n",
       "      <td>2287.590791</td>\n",
       "      <td>3812.651318</td>\n",
       "      <td>7.40</td>\n",
       "      <td>13.1</td>\n",
       "      <td>79</td>\n",
       "      <td>8.3</td>\n",
       "      <td>485,000</td>\n",
       "    </tr>\n",
       "    <tr>\n",
       "      <th>3</th>\n",
       "      <td>12/11/2019</td>\n",
       "      <td>MELAKA</td>\n",
       "      <td>PEGOH</td>\n",
       "      <td>A FARMOSA GOLF RESORT</td>\n",
       "      <td>BUNGALOW</td>\n",
       "      <td>LEASEHOLD</td>\n",
       "      <td>1</td>\n",
       "      <td>4.0</td>\n",
       "      <td>7,169 ft²</td>\n",
       "      <td>1,344 ft²</td>\n",
       "      <td>3.9</td>\n",
       "      <td>2264.007381</td>\n",
       "      <td>3773.345634</td>\n",
       "      <td>7.40</td>\n",
       "      <td>13.1</td>\n",
       "      <td>67</td>\n",
       "      <td>8.3</td>\n",
       "      <td>480,000</td>\n",
       "    </tr>\n",
       "    <tr>\n",
       "      <th>4</th>\n",
       "      <td>28/1/2020</td>\n",
       "      <td>MELAKA</td>\n",
       "      <td>PEGOH</td>\n",
       "      <td>A FARMOSA GOLF RESORT</td>\n",
       "      <td>BUNGALOW</td>\n",
       "      <td>LEASEHOLD</td>\n",
       "      <td>1½</td>\n",
       "      <td>3.0</td>\n",
       "      <td>6,146 ft²</td>\n",
       "      <td>1,670 ft²</td>\n",
       "      <td>3.9</td>\n",
       "      <td>2169.673740</td>\n",
       "      <td>3616.122900</td>\n",
       "      <td>5.00</td>\n",
       "      <td>8.5</td>\n",
       "      <td>75</td>\n",
       "      <td>5.1</td>\n",
       "      <td>460,000</td>\n",
       "    </tr>\n",
       "    <tr>\n",
       "      <th>5</th>\n",
       "      <td>16/7/2019</td>\n",
       "      <td>MELAKA</td>\n",
       "      <td>PEGOH</td>\n",
       "      <td>A FARMOSA GOLF RESORT</td>\n",
       "      <td>BUNGALOW</td>\n",
       "      <td>LEASEHOLD</td>\n",
       "      <td>1</td>\n",
       "      <td>4.0</td>\n",
       "      <td>6,846 ft²</td>\n",
       "      <td>1,344 ft²</td>\n",
       "      <td>3.9</td>\n",
       "      <td>2028.173278</td>\n",
       "      <td>3380.288797</td>\n",
       "      <td>7.40</td>\n",
       "      <td>13.1</td>\n",
       "      <td>63</td>\n",
       "      <td>8.3</td>\n",
       "      <td>430,000</td>\n",
       "    </tr>\n",
       "    <tr>\n",
       "      <th>6</th>\n",
       "      <td>24/10/2019</td>\n",
       "      <td>MELAKA</td>\n",
       "      <td>PEGOH</td>\n",
       "      <td>A FARMOSA GOLF RESORT</td>\n",
       "      <td>BUNGALOW</td>\n",
       "      <td>LEASEHOLD</td>\n",
       "      <td>1</td>\n",
       "      <td>4.0</td>\n",
       "      <td>7,147 ft²</td>\n",
       "      <td>1,488 ft²</td>\n",
       "      <td>3.9</td>\n",
       "      <td>2004.589868</td>\n",
       "      <td>3340.983114</td>\n",
       "      <td>7.40</td>\n",
       "      <td>13.1</td>\n",
       "      <td>59</td>\n",
       "      <td>8.3</td>\n",
       "      <td>425,000</td>\n",
       "    </tr>\n",
       "    <tr>\n",
       "      <th>7</th>\n",
       "      <td>18/7/2019</td>\n",
       "      <td>MELAKA</td>\n",
       "      <td>PEGOH</td>\n",
       "      <td>A FARMOSA GOLF RESORT</td>\n",
       "      <td>BUNGALOW</td>\n",
       "      <td>LEASEHOLD</td>\n",
       "      <td>1</td>\n",
       "      <td>4.0</td>\n",
       "      <td>9,235 ft²</td>\n",
       "      <td>1,512 ft²</td>\n",
       "      <td>3.9</td>\n",
       "      <td>1971.573094</td>\n",
       "      <td>3285.955157</td>\n",
       "      <td>4.20</td>\n",
       "      <td>8.5</td>\n",
       "      <td>45</td>\n",
       "      <td>5.1</td>\n",
       "      <td>418,000</td>\n",
       "    </tr>\n",
       "    <tr>\n",
       "      <th>8</th>\n",
       "      <td>20/9/2019</td>\n",
       "      <td>MELAKA</td>\n",
       "      <td>PEGOH</td>\n",
       "      <td>A FARMOSA GOLF RESORT</td>\n",
       "      <td>BUNGALOW</td>\n",
       "      <td>LEASEHOLD</td>\n",
       "      <td>2</td>\n",
       "      <td>4.0</td>\n",
       "      <td>10,689 ft²</td>\n",
       "      <td>2,314 ft²</td>\n",
       "      <td>4.1</td>\n",
       "      <td>1256.315765</td>\n",
       "      <td>2093.859608</td>\n",
       "      <td>3.30</td>\n",
       "      <td>8.3</td>\n",
       "      <td>24</td>\n",
       "      <td>3.3</td>\n",
       "      <td>260,000</td>\n",
       "    </tr>\n",
       "    <tr>\n",
       "      <th>9</th>\n",
       "      <td>26/7/2018</td>\n",
       "      <td>NEGERI SEMBILAN</td>\n",
       "      <td>SEREMBAN 2</td>\n",
       "      <td>AVIVA GREEN</td>\n",
       "      <td>SEMI-D</td>\n",
       "      <td>FREEHOLD</td>\n",
       "      <td>2</td>\n",
       "      <td>5.0</td>\n",
       "      <td>3,208 ft²</td>\n",
       "      <td>2,353 ft²</td>\n",
       "      <td>3.8</td>\n",
       "      <td>4566.382040</td>\n",
       "      <td>7610.636733</td>\n",
       "      <td>0.50</td>\n",
       "      <td>7.6</td>\n",
       "      <td>355</td>\n",
       "      <td>2.0</td>\n",
       "      <td>1,140,000</td>\n",
       "    </tr>\n",
       "    <tr>\n",
       "      <th>10</th>\n",
       "      <td>14/8/2020</td>\n",
       "      <td>NEGERI SEMBILAN</td>\n",
       "      <td>SEREMBAN 2</td>\n",
       "      <td>AVIVA GREEN</td>\n",
       "      <td>SEMI-D</td>\n",
       "      <td>FREEHOLD</td>\n",
       "      <td>2</td>\n",
       "      <td>NaN</td>\n",
       "      <td>3,604 ft²</td>\n",
       "      <td>NaN</td>\n",
       "      <td>3.8</td>\n",
       "      <td>3960.637483</td>\n",
       "      <td>6601.062472</td>\n",
       "      <td>0.65</td>\n",
       "      <td>7.8</td>\n",
       "      <td>314</td>\n",
       "      <td>2.2</td>\n",
       "      <td>1,130,000</td>\n",
       "    </tr>\n",
       "    <tr>\n",
       "      <th>11</th>\n",
       "      <td>15/6/2020</td>\n",
       "      <td>NEGERI SEMBILAN</td>\n",
       "      <td>SEREMBAN 2</td>\n",
       "      <td>AVIVA GREEN</td>\n",
       "      <td>SEMI-D</td>\n",
       "      <td>FREEHOLD</td>\n",
       "      <td>2</td>\n",
       "      <td>NaN</td>\n",
       "      <td>3,208 ft²</td>\n",
       "      <td>NaN</td>\n",
       "      <td>3.8</td>\n",
       "      <td>3914.041748</td>\n",
       "      <td>6523.402914</td>\n",
       "      <td>0.65</td>\n",
       "      <td>7.8</td>\n",
       "      <td>262</td>\n",
       "      <td>2.2</td>\n",
       "      <td>840,000</td>\n",
       "    </tr>\n",
       "    <tr>\n",
       "      <th>12</th>\n",
       "      <td>11/12/2019</td>\n",
       "      <td>NEGERI SEMBILAN</td>\n",
       "      <td>LABU</td>\n",
       "      <td>BANDAR AINSDALE</td>\n",
       "      <td>TERRACE HOUSE - INTERMEDIATE</td>\n",
       "      <td>FREEHOLD</td>\n",
       "      <td>2</td>\n",
       "      <td>4.0</td>\n",
       "      <td>1,804 ft²</td>\n",
       "      <td>1,984 ft²</td>\n",
       "      <td>3.8</td>\n",
       "      <td>3386.988069</td>\n",
       "      <td>5644.980116</td>\n",
       "      <td>5.00</td>\n",
       "      <td>9.9</td>\n",
       "      <td>403</td>\n",
       "      <td>5.8</td>\n",
       "      <td>726,888</td>\n",
       "    </tr>\n",
       "    <tr>\n",
       "      <th>13</th>\n",
       "      <td>10/8/2020</td>\n",
       "      <td>NEGERI SEMBILAN</td>\n",
       "      <td>LABU</td>\n",
       "      <td>BANDAR AINSDALE</td>\n",
       "      <td>TERRACE HOUSE - INTERMEDIATE</td>\n",
       "      <td>FREEHOLD</td>\n",
       "      <td>2</td>\n",
       "      <td>NaN</td>\n",
       "      <td>1,804 ft²</td>\n",
       "      <td>NaN</td>\n",
       "      <td>3.8</td>\n",
       "      <td>2679.254768</td>\n",
       "      <td>4465.424614</td>\n",
       "      <td>5.00</td>\n",
       "      <td>11.0</td>\n",
       "      <td>319</td>\n",
       "      <td>5.8</td>\n",
       "      <td>575,000</td>\n",
       "    </tr>\n",
       "    <tr>\n",
       "      <th>14</th>\n",
       "      <td>8/11/2019</td>\n",
       "      <td>NEGERI SEMBILAN</td>\n",
       "      <td>LABU</td>\n",
       "      <td>BANDAR AINSDALE</td>\n",
       "      <td>TERRACE HOUSE - CORNER LOT</td>\n",
       "      <td>FREEHOLD</td>\n",
       "      <td>2</td>\n",
       "      <td>4.0</td>\n",
       "      <td>2,423 ft²</td>\n",
       "      <td>1,269 ft²</td>\n",
       "      <td>3.9</td>\n",
       "      <td>2169.673740</td>\n",
       "      <td>3616.122900</td>\n",
       "      <td>5.00</td>\n",
       "      <td>11.0</td>\n",
       "      <td>190</td>\n",
       "      <td>5.8</td>\n",
       "      <td>460,000</td>\n",
       "    </tr>\n",
       "    <tr>\n",
       "      <th>15</th>\n",
       "      <td>20/5/2020</td>\n",
       "      <td>NEGERI SEMBILAN</td>\n",
       "      <td>LABU</td>\n",
       "      <td>BANDAR AINSDALE</td>\n",
       "      <td>TERRACE HOUSE - INTERMEDIATE</td>\n",
       "      <td>FREEHOLD</td>\n",
       "      <td>2</td>\n",
       "      <td>NaN</td>\n",
       "      <td>1,207 ft²</td>\n",
       "      <td>NaN</td>\n",
       "      <td>3.9</td>\n",
       "      <td>1839.505997</td>\n",
       "      <td>3065.843328</td>\n",
       "      <td>5.00</td>\n",
       "      <td>11.0</td>\n",
       "      <td>323</td>\n",
       "      <td>5.8</td>\n",
       "      <td>390,000</td>\n",
       "    </tr>\n",
       "    <tr>\n",
       "      <th>16</th>\n",
       "      <td>30/12/2019</td>\n",
       "      <td>NEGERI SEMBILAN</td>\n",
       "      <td>LABU</td>\n",
       "      <td>BANDAR AINSDALE</td>\n",
       "      <td>TERRACE HOUSE - INTERMEDIATE</td>\n",
       "      <td>FREEHOLD</td>\n",
       "      <td>2</td>\n",
       "      <td>4.0</td>\n",
       "      <td>1,207 ft²</td>\n",
       "      <td>1,269 ft²</td>\n",
       "      <td>3.9</td>\n",
       "      <td>1830.072633</td>\n",
       "      <td>3050.121054</td>\n",
       "      <td>5.00</td>\n",
       "      <td>11.0</td>\n",
       "      <td>321</td>\n",
       "      <td>5.8</td>\n",
       "      <td>388,000</td>\n",
       "    </tr>\n",
       "    <tr>\n",
       "      <th>17</th>\n",
       "      <td>28/1/2020</td>\n",
       "      <td>NEGERI SEMBILAN</td>\n",
       "      <td>LABU</td>\n",
       "      <td>BANDAR AINSDALE</td>\n",
       "      <td>TERRACE HOUSE - INTERMEDIATE</td>\n",
       "      <td>FREEHOLD</td>\n",
       "      <td>2</td>\n",
       "      <td>4.0</td>\n",
       "      <td>1,207 ft²</td>\n",
       "      <td>1,269 ft²</td>\n",
       "      <td>3.9</td>\n",
       "      <td>1721.588946</td>\n",
       "      <td>2869.314909</td>\n",
       "      <td>5.00</td>\n",
       "      <td>11.0</td>\n",
       "      <td>302</td>\n",
       "      <td>5.8</td>\n",
       "      <td>365,000</td>\n",
       "    </tr>\n",
       "    <tr>\n",
       "      <th>18</th>\n",
       "      <td>5/12/2019</td>\n",
       "      <td>NEGERI SEMBILAN</td>\n",
       "      <td>LABU</td>\n",
       "      <td>BANDAR AINSDALE</td>\n",
       "      <td>TERRACE HOUSE - INTERMEDIATE</td>\n",
       "      <td>FREEHOLD</td>\n",
       "      <td>2</td>\n",
       "      <td>4.0</td>\n",
       "      <td>1,207 ft²</td>\n",
       "      <td>1,269 ft²</td>\n",
       "      <td>3.9</td>\n",
       "      <td>1702.722218</td>\n",
       "      <td>2837.870363</td>\n",
       "      <td>5.00</td>\n",
       "      <td>11.0</td>\n",
       "      <td>299</td>\n",
       "      <td>5.8</td>\n",
       "      <td>361,000</td>\n",
       "    </tr>\n",
       "    <tr>\n",
       "      <th>19</th>\n",
       "      <td>10/1/2020</td>\n",
       "      <td>NEGERI SEMBILAN</td>\n",
       "      <td>LABU</td>\n",
       "      <td>BANDAR AINSDALE</td>\n",
       "      <td>TOWN HOUSE</td>\n",
       "      <td>FREEHOLD</td>\n",
       "      <td>3</td>\n",
       "      <td>3.0</td>\n",
       "      <td>1,115 ft²</td>\n",
       "      <td>1,115 ft²</td>\n",
       "      <td>4.1</td>\n",
       "      <td>1352.955439</td>\n",
       "      <td>2254.925732</td>\n",
       "      <td>5.00</td>\n",
       "      <td>11.0</td>\n",
       "      <td>251</td>\n",
       "      <td>5.8</td>\n",
       "      <td>280,000</td>\n",
       "    </tr>\n",
       "    <tr>\n",
       "      <th>20</th>\n",
       "      <td>5/11/2019</td>\n",
       "      <td>NEGERI SEMBILAN</td>\n",
       "      <td>LABU</td>\n",
       "      <td>BANDAR AINSDALE</td>\n",
       "      <td>TOWN HOUSE</td>\n",
       "      <td>FREEHOLD</td>\n",
       "      <td>3</td>\n",
       "      <td>3.0</td>\n",
       "      <td>10,592 ft²</td>\n",
       "      <td>984 ft²</td>\n",
       "      <td>4.1</td>\n",
       "      <td>1328.795521</td>\n",
       "      <td>2214.659201</td>\n",
       "      <td>5.00</td>\n",
       "      <td>11.0</td>\n",
       "      <td>26</td>\n",
       "      <td>5.8</td>\n",
       "      <td>275,000</td>\n",
       "    </tr>\n",
       "    <tr>\n",
       "      <th>21</th>\n",
       "      <td>25/11/2019</td>\n",
       "      <td>NEGERI SEMBILAN</td>\n",
       "      <td>LABU</td>\n",
       "      <td>BANDAR AINSDALE</td>\n",
       "      <td>TOWN HOUSE</td>\n",
       "      <td>FREEHOLD</td>\n",
       "      <td>3</td>\n",
       "      <td>3.0</td>\n",
       "      <td>1,038 ft²</td>\n",
       "      <td>1,038 ft²</td>\n",
       "      <td>4.1</td>\n",
       "      <td>1014.716579</td>\n",
       "      <td>1691.194299</td>\n",
       "      <td>5.00</td>\n",
       "      <td>11.0</td>\n",
       "      <td>202</td>\n",
       "      <td>5.8</td>\n",
       "      <td>210,000</td>\n",
       "    </tr>\n",
       "    <tr>\n",
       "      <th>22</th>\n",
       "      <td>14/11/2019</td>\n",
       "      <td>MELAKA</td>\n",
       "      <td>MERLIMAU</td>\n",
       "      <td>BANDAR BARU MERLIMAU</td>\n",
       "      <td>BUNGALOW</td>\n",
       "      <td>FREEHOLD</td>\n",
       "      <td>1</td>\n",
       "      <td>4.0</td>\n",
       "      <td>5,005 ft²</td>\n",
       "      <td>1,344 ft²</td>\n",
       "      <td>3.9</td>\n",
       "      <td>2028.173278</td>\n",
       "      <td>3380.288797</td>\n",
       "      <td>1.80</td>\n",
       "      <td>24.4</td>\n",
       "      <td>86</td>\n",
       "      <td>1.1</td>\n",
       "      <td>430,000</td>\n",
       "    </tr>\n",
       "    <tr>\n",
       "      <th>23</th>\n",
       "      <td>9/7/2019</td>\n",
       "      <td>MELAKA</td>\n",
       "      <td>MERLIMAU</td>\n",
       "      <td>BANDAR BARU MERLIMAU</td>\n",
       "      <td>BUNGALOW</td>\n",
       "      <td>FREEHOLD</td>\n",
       "      <td>1</td>\n",
       "      <td>3.0</td>\n",
       "      <td>11,667 ft²</td>\n",
       "      <td>1,890 ft²</td>\n",
       "      <td>4.1</td>\n",
       "      <td>1449.595113</td>\n",
       "      <td>2415.991856</td>\n",
       "      <td>0.27</td>\n",
       "      <td>23.7</td>\n",
       "      <td>26</td>\n",
       "      <td>1.7</td>\n",
       "      <td>300,000</td>\n",
       "    </tr>\n",
       "    <tr>\n",
       "      <th>24</th>\n",
       "      <td>21/10/2019</td>\n",
       "      <td>MELAKA</td>\n",
       "      <td>TABOH NANING</td>\n",
       "      <td>BANDAR BARU SIMPANG EMPAT</td>\n",
       "      <td>TERRACE HOUSE - INTERMEDIATE</td>\n",
       "      <td>LEASEHOLD</td>\n",
       "      <td>2</td>\n",
       "      <td>4.0</td>\n",
       "      <td>1,399 ft²</td>\n",
       "      <td>1,968 ft²</td>\n",
       "      <td>4.1</td>\n",
       "      <td>1546.234788</td>\n",
       "      <td>2577.057979</td>\n",
       "      <td>1.40</td>\n",
       "      <td>6.3</td>\n",
       "      <td>229</td>\n",
       "      <td>1.9</td>\n",
       "      <td>320,000</td>\n",
       "    </tr>\n",
       "    <tr>\n",
       "      <th>25</th>\n",
       "      <td>12/12/2019</td>\n",
       "      <td>MELAKA</td>\n",
       "      <td>TABOH NANING</td>\n",
       "      <td>BANDAR BARU SIMPANG EMPAT</td>\n",
       "      <td>TERRACE HOUSE - INTERMEDIATE</td>\n",
       "      <td>LEASEHOLD</td>\n",
       "      <td>1</td>\n",
       "      <td>3.0</td>\n",
       "      <td>1,399 ft²</td>\n",
       "      <td>860 ft²</td>\n",
       "      <td>4.2</td>\n",
       "      <td>948.693317</td>\n",
       "      <td>1581.155528</td>\n",
       "      <td>1.50</td>\n",
       "      <td>6.4</td>\n",
       "      <td>139</td>\n",
       "      <td>1.6</td>\n",
       "      <td>194,000</td>\n",
       "    </tr>\n",
       "    <tr>\n",
       "      <th>26</th>\n",
       "      <td>7/1/2020</td>\n",
       "      <td>MELAKA</td>\n",
       "      <td>TABOH NANING</td>\n",
       "      <td>BANDAR BARU SIMPANG EMPAT</td>\n",
       "      <td>TERRACE HOUSE - INTERMEDIATE</td>\n",
       "      <td>LEASEHOLD</td>\n",
       "      <td>1</td>\n",
       "      <td>3.0</td>\n",
       "      <td>1,399 ft²</td>\n",
       "      <td>860 ft²</td>\n",
       "      <td>4.2</td>\n",
       "      <td>948.693317</td>\n",
       "      <td>1581.155528</td>\n",
       "      <td>1.50</td>\n",
       "      <td>6.4</td>\n",
       "      <td>139</td>\n",
       "      <td>1.6</td>\n",
       "      <td>194,000</td>\n",
       "    </tr>\n",
       "    <tr>\n",
       "      <th>27</th>\n",
       "      <td>10/10/2019</td>\n",
       "      <td>MELAKA</td>\n",
       "      <td>SUNGAI UDANG</td>\n",
       "      <td>BANDAR BARU SUNGAI UDANG</td>\n",
       "      <td>TERRACE HOUSE - INTERMEDIATE</td>\n",
       "      <td>LEASEHOLD</td>\n",
       "      <td>1</td>\n",
       "      <td>3.0</td>\n",
       "      <td>1399 ft²</td>\n",
       "      <td>859 ft²</td>\n",
       "      <td>4.1</td>\n",
       "      <td>1207.995928</td>\n",
       "      <td>2013.326546</td>\n",
       "      <td>1.80</td>\n",
       "      <td>6.7</td>\n",
       "      <td>179</td>\n",
       "      <td>2.5</td>\n",
       "      <td>250000</td>\n",
       "    </tr>\n",
       "    <tr>\n",
       "      <th>28</th>\n",
       "      <td>27/2/2020</td>\n",
       "      <td>NEGERI SEMBILAN</td>\n",
       "      <td>TELOK KEMANG</td>\n",
       "      <td>BANDAR BARU SUNGGALA (TAMAN EKAR)</td>\n",
       "      <td>TERRACE HOUSE - INTERMEDIATE</td>\n",
       "      <td>FREEHOLD</td>\n",
       "      <td>1</td>\n",
       "      <td>NaN</td>\n",
       "      <td>1,195 ft²</td>\n",
       "      <td>NaN</td>\n",
       "      <td>4.2</td>\n",
       "      <td>880.230913</td>\n",
       "      <td>1467.051521</td>\n",
       "      <td>3.50</td>\n",
       "      <td>1.4</td>\n",
       "      <td>151</td>\n",
       "      <td>3.0</td>\n",
       "      <td>180,000</td>\n",
       "    </tr>\n",
       "    <tr>\n",
       "      <th>29</th>\n",
       "      <td>20/7/2020</td>\n",
       "      <td>NEGERI SEMBILAN</td>\n",
       "      <td>TELOK KEMANG</td>\n",
       "      <td>BANDAR BARU SUNGGALA (TAMAN EKAR)</td>\n",
       "      <td>TERRACE HOUSE - INTERMEDIATE</td>\n",
       "      <td>FREEHOLD</td>\n",
       "      <td>1</td>\n",
       "      <td>NaN</td>\n",
       "      <td>1,195 ft²</td>\n",
       "      <td>NaN</td>\n",
       "      <td>4.2</td>\n",
       "      <td>782.427478</td>\n",
       "      <td>1304.045797</td>\n",
       "      <td>3.80</td>\n",
       "      <td>1.5</td>\n",
       "      <td>134</td>\n",
       "      <td>3.4</td>\n",
       "      <td>160,000</td>\n",
       "    </tr>\n",
       "    <tr>\n",
       "      <th>30</th>\n",
       "      <td>2/12/2019</td>\n",
       "      <td>NEGERI SEMBILAN</td>\n",
       "      <td>TELOK KEMANG</td>\n",
       "      <td>BANDAR BARU SUNGGALA (TAMAN EKAR)</td>\n",
       "      <td>TERRACE HOUSE - INTERMEDIATE</td>\n",
       "      <td>FREEHOLD</td>\n",
       "      <td>1</td>\n",
       "      <td>3.0</td>\n",
       "      <td>1,744 ft²</td>\n",
       "      <td>822 ft²</td>\n",
       "      <td>4.2</td>\n",
       "      <td>782.427478</td>\n",
       "      <td>1304.045797</td>\n",
       "      <td>3.90</td>\n",
       "      <td>1.6</td>\n",
       "      <td>92</td>\n",
       "      <td>3.5</td>\n",
       "      <td>160,000</td>\n",
       "    </tr>\n",
       "    <tr>\n",
       "      <th>31</th>\n",
       "      <td>17/9/2020</td>\n",
       "      <td>NEGERI SEMBILAN</td>\n",
       "      <td>TELOK KEMANG</td>\n",
       "      <td>BANDAR BARU SUNGGALA (TAMAN EKAR)</td>\n",
       "      <td>TERRACE HOUSE - INTERMEDIATE</td>\n",
       "      <td>FREEHOLD</td>\n",
       "      <td>1</td>\n",
       "      <td>NaN</td>\n",
       "      <td>1,195 ft²</td>\n",
       "      <td>NaN</td>\n",
       "      <td>4.2</td>\n",
       "      <td>709.074902</td>\n",
       "      <td>1181.791503</td>\n",
       "      <td>3.90</td>\n",
       "      <td>1.6</td>\n",
       "      <td>121</td>\n",
       "      <td>3.5</td>\n",
       "      <td>145,000</td>\n",
       "    </tr>\n",
       "    <tr>\n",
       "      <th>32</th>\n",
       "      <td>24/2/2020</td>\n",
       "      <td>NEGERI SEMBILAN</td>\n",
       "      <td>TELOK KEMANG</td>\n",
       "      <td>BANDAR BARU SUNGGALA (TAMAN EKAR)</td>\n",
       "      <td>TERRACE HOUSE - INTERMEDIATE</td>\n",
       "      <td>FREEHOLD</td>\n",
       "      <td>1</td>\n",
       "      <td>3.0</td>\n",
       "      <td>1,195 ft²</td>\n",
       "      <td>651 ft²</td>\n",
       "      <td>4.2</td>\n",
       "      <td>400.994082</td>\n",
       "      <td>668.323471</td>\n",
       "      <td>3.80</td>\n",
       "      <td>1.4</td>\n",
       "      <td>69</td>\n",
       "      <td>3.4</td>\n",
       "      <td>82,000</td>\n",
       "    </tr>\n",
       "    <tr>\n",
       "      <th>33</th>\n",
       "      <td>21/2/2020</td>\n",
       "      <td>NEGERI SEMBILAN</td>\n",
       "      <td>TELOK KEMANG</td>\n",
       "      <td>BANDAR BARU SUNGGALA (TAMAN EKAR)</td>\n",
       "      <td>TERRACE HOUSE - INTERMEDIATE</td>\n",
       "      <td>FREEHOLD</td>\n",
       "      <td>1</td>\n",
       "      <td>3.0</td>\n",
       "      <td>1,195 ft²</td>\n",
       "      <td>651 ft²</td>\n",
       "      <td>4.2</td>\n",
       "      <td>268.959446</td>\n",
       "      <td>448.265743</td>\n",
       "      <td>3.50</td>\n",
       "      <td>1.1</td>\n",
       "      <td>46</td>\n",
       "      <td>3.0</td>\n",
       "      <td>55,000</td>\n",
       "    </tr>\n",
       "    <tr>\n",
       "      <th>34</th>\n",
       "      <td>7/9/2020</td>\n",
       "      <td>NEGERI SEMBILAN</td>\n",
       "      <td>TELOK KEMANG</td>\n",
       "      <td>BANDAR BARU SUNGGALA (TAMAN EKAR)</td>\n",
       "      <td>TERRACE HOUSE - END LOT</td>\n",
       "      <td>FREEHOLD</td>\n",
       "      <td>1</td>\n",
       "      <td>NaN</td>\n",
       "      <td>1,195 ft²</td>\n",
       "      <td>NaN</td>\n",
       "      <td>4.2</td>\n",
       "      <td>220.057728</td>\n",
       "      <td>366.762880</td>\n",
       "      <td>3.50</td>\n",
       "      <td>1.1</td>\n",
       "      <td>38</td>\n",
       "      <td>3.0</td>\n",
       "      <td>45,000</td>\n",
       "    </tr>\n",
       "    <tr>\n",
       "      <th>35</th>\n",
       "      <td>30/7/2020</td>\n",
       "      <td>NEGERI SEMBILAN</td>\n",
       "      <td>LUKUT</td>\n",
       "      <td>BANDAR DATARAN SEGAR</td>\n",
       "      <td>TERRACE HOUSE - CORNER LOT</td>\n",
       "      <td>FREEHOLD</td>\n",
       "      <td>2</td>\n",
       "      <td>NaN</td>\n",
       "      <td>2,691 ft²</td>\n",
       "      <td>NaN</td>\n",
       "      <td>3.8</td>\n",
       "      <td>3205.786575</td>\n",
       "      <td>5342.977625</td>\n",
       "      <td>1.10</td>\n",
       "      <td>13.4</td>\n",
       "      <td>256</td>\n",
       "      <td>6.2</td>\n",
       "      <td>688,000</td>\n",
       "    </tr>\n",
       "    <tr>\n",
       "      <th>36</th>\n",
       "      <td>24/6/2020</td>\n",
       "      <td>NEGERI SEMBILAN</td>\n",
       "      <td>LUKUT</td>\n",
       "      <td>BANDAR DATARAN SEGAR</td>\n",
       "      <td>SEMI-D</td>\n",
       "      <td>FREEHOLD</td>\n",
       "      <td>2</td>\n",
       "      <td>4.0</td>\n",
       "      <td>2,799 ft²</td>\n",
       "      <td>2,173 ft²</td>\n",
       "      <td>3.9</td>\n",
       "      <td>2358.341021</td>\n",
       "      <td>3930.568369</td>\n",
       "      <td>1.10</td>\n",
       "      <td>13.4</td>\n",
       "      <td>256</td>\n",
       "      <td>6.2</td>\n",
       "      <td>500,000</td>\n",
       "    </tr>\n",
       "    <tr>\n",
       "      <th>37</th>\n",
       "      <td>26/8/2020</td>\n",
       "      <td>NEGERI SEMBILAN</td>\n",
       "      <td>LUKUT</td>\n",
       "      <td>BANDAR DATARAN SEGAR</td>\n",
       "      <td>TERRACE HOUSE - INTERMEDIATE</td>\n",
       "      <td>FREEHOLD</td>\n",
       "      <td>2</td>\n",
       "      <td>NaN</td>\n",
       "      <td>1,399 ft²</td>\n",
       "      <td>NaN</td>\n",
       "      <td>3.9</td>\n",
       "      <td>2075.340099</td>\n",
       "      <td>3458.900165</td>\n",
       "      <td>1.10</td>\n",
       "      <td>13.4</td>\n",
       "      <td>256</td>\n",
       "      <td>6.2</td>\n",
       "      <td>440,000</td>\n",
       "    </tr>\n",
       "    <tr>\n",
       "      <th>38</th>\n",
       "      <td>28/2/2020</td>\n",
       "      <td>NEGERI SEMBILAN</td>\n",
       "      <td>LUKUT</td>\n",
       "      <td>BANDAR DATARAN SEGAR</td>\n",
       "      <td>TERRACE HOUSE - CORNER LOT</td>\n",
       "      <td>FREEHOLD</td>\n",
       "      <td>1</td>\n",
       "      <td>3.0</td>\n",
       "      <td>3,305 ft²</td>\n",
       "      <td>983 ft²</td>\n",
       "      <td>3.9</td>\n",
       "      <td>1815.922587</td>\n",
       "      <td>3026.537644</td>\n",
       "      <td>4.50</td>\n",
       "      <td>13.5</td>\n",
       "      <td>116</td>\n",
       "      <td>6.4</td>\n",
       "      <td>385,000</td>\n",
       "    </tr>\n",
       "    <tr>\n",
       "      <th>39</th>\n",
       "      <td>23/1/2020</td>\n",
       "      <td>NEGERI SEMBILAN</td>\n",
       "      <td>LUKUT</td>\n",
       "      <td>BANDAR DATARAN SEGAR</td>\n",
       "      <td>TERRACE HOUSE - INTERMEDIATE</td>\n",
       "      <td>FREEHOLD</td>\n",
       "      <td>2</td>\n",
       "      <td>4.0</td>\n",
       "      <td>1,399 ft²</td>\n",
       "      <td>1,556 ft²</td>\n",
       "      <td>3.9</td>\n",
       "      <td>1768.755766</td>\n",
       "      <td>2947.926277</td>\n",
       "      <td>1.10</td>\n",
       "      <td>13.4</td>\n",
       "      <td>256</td>\n",
       "      <td>6.2</td>\n",
       "      <td>375,000</td>\n",
       "    </tr>\n",
       "  </tbody>\n",
       "</table>\n",
       "</div>"
      ],
      "text/plain": [
       "     Sale Date            State      District  \\\n",
       "0   26/11/2019           MELAKA         PEGOH   \n",
       "1     2/1/2020           MELAKA         PEGOH   \n",
       "2    12/7/2019           MELAKA         PEGOH   \n",
       "3   12/11/2019           MELAKA         PEGOH   \n",
       "4    28/1/2020           MELAKA         PEGOH   \n",
       "5    16/7/2019           MELAKA         PEGOH   \n",
       "6   24/10/2019           MELAKA         PEGOH   \n",
       "7    18/7/2019           MELAKA         PEGOH   \n",
       "8    20/9/2019           MELAKA         PEGOH   \n",
       "9    26/7/2018  NEGERI SEMBILAN    SEREMBAN 2   \n",
       "10   14/8/2020  NEGERI SEMBILAN    SEREMBAN 2   \n",
       "11   15/6/2020  NEGERI SEMBILAN    SEREMBAN 2   \n",
       "12  11/12/2019  NEGERI SEMBILAN          LABU   \n",
       "13   10/8/2020  NEGERI SEMBILAN          LABU   \n",
       "14   8/11/2019  NEGERI SEMBILAN          LABU   \n",
       "15   20/5/2020  NEGERI SEMBILAN          LABU   \n",
       "16  30/12/2019  NEGERI SEMBILAN          LABU   \n",
       "17   28/1/2020  NEGERI SEMBILAN          LABU   \n",
       "18   5/12/2019  NEGERI SEMBILAN          LABU   \n",
       "19   10/1/2020  NEGERI SEMBILAN          LABU   \n",
       "20   5/11/2019  NEGERI SEMBILAN          LABU   \n",
       "21  25/11/2019  NEGERI SEMBILAN          LABU   \n",
       "22  14/11/2019           MELAKA      MERLIMAU   \n",
       "23    9/7/2019           MELAKA      MERLIMAU   \n",
       "24  21/10/2019           MELAKA  TABOH NANING   \n",
       "25  12/12/2019           MELAKA  TABOH NANING   \n",
       "26    7/1/2020           MELAKA  TABOH NANING   \n",
       "27  10/10/2019           MELAKA  SUNGAI UDANG   \n",
       "28   27/2/2020  NEGERI SEMBILAN  TELOK KEMANG   \n",
       "29   20/7/2020  NEGERI SEMBILAN  TELOK KEMANG   \n",
       "30   2/12/2019  NEGERI SEMBILAN  TELOK KEMANG   \n",
       "31   17/9/2020  NEGERI SEMBILAN  TELOK KEMANG   \n",
       "32   24/2/2020  NEGERI SEMBILAN  TELOK KEMANG   \n",
       "33   21/2/2020  NEGERI SEMBILAN  TELOK KEMANG   \n",
       "34    7/9/2020  NEGERI SEMBILAN  TELOK KEMANG   \n",
       "35   30/7/2020  NEGERI SEMBILAN         LUKUT   \n",
       "36   24/6/2020  NEGERI SEMBILAN         LUKUT   \n",
       "37   26/8/2020  NEGERI SEMBILAN         LUKUT   \n",
       "38   28/2/2020  NEGERI SEMBILAN         LUKUT   \n",
       "39   23/1/2020  NEGERI SEMBILAN         LUKUT   \n",
       "\n",
       "                              Address                 Building Type  \\\n",
       "0               A FARMOSA GOLF RESORT                      BUNGALOW   \n",
       "1               A FARMOSA GOLF RESORT                      BUNGALOW   \n",
       "2               A FARMOSA GOLF RESORT                      BUNGALOW   \n",
       "3               A FARMOSA GOLF RESORT                      BUNGALOW   \n",
       "4               A FARMOSA GOLF RESORT                      BUNGALOW   \n",
       "5               A FARMOSA GOLF RESORT                      BUNGALOW   \n",
       "6               A FARMOSA GOLF RESORT                      BUNGALOW   \n",
       "7               A FARMOSA GOLF RESORT                      BUNGALOW   \n",
       "8               A FARMOSA GOLF RESORT                      BUNGALOW   \n",
       "9                         AVIVA GREEN                        SEMI-D   \n",
       "10                        AVIVA GREEN                        SEMI-D   \n",
       "11                        AVIVA GREEN                        SEMI-D   \n",
       "12                    BANDAR AINSDALE  TERRACE HOUSE - INTERMEDIATE   \n",
       "13                    BANDAR AINSDALE  TERRACE HOUSE - INTERMEDIATE   \n",
       "14                    BANDAR AINSDALE    TERRACE HOUSE - CORNER LOT   \n",
       "15                    BANDAR AINSDALE  TERRACE HOUSE - INTERMEDIATE   \n",
       "16                    BANDAR AINSDALE  TERRACE HOUSE - INTERMEDIATE   \n",
       "17                    BANDAR AINSDALE  TERRACE HOUSE - INTERMEDIATE   \n",
       "18                    BANDAR AINSDALE  TERRACE HOUSE - INTERMEDIATE   \n",
       "19                    BANDAR AINSDALE                    TOWN HOUSE   \n",
       "20                    BANDAR AINSDALE                    TOWN HOUSE   \n",
       "21                    BANDAR AINSDALE                    TOWN HOUSE   \n",
       "22               BANDAR BARU MERLIMAU                      BUNGALOW   \n",
       "23               BANDAR BARU MERLIMAU                      BUNGALOW   \n",
       "24          BANDAR BARU SIMPANG EMPAT  TERRACE HOUSE - INTERMEDIATE   \n",
       "25          BANDAR BARU SIMPANG EMPAT  TERRACE HOUSE - INTERMEDIATE   \n",
       "26          BANDAR BARU SIMPANG EMPAT  TERRACE HOUSE - INTERMEDIATE   \n",
       "27           BANDAR BARU SUNGAI UDANG  TERRACE HOUSE - INTERMEDIATE   \n",
       "28  BANDAR BARU SUNGGALA (TAMAN EKAR)  TERRACE HOUSE - INTERMEDIATE   \n",
       "29  BANDAR BARU SUNGGALA (TAMAN EKAR)  TERRACE HOUSE - INTERMEDIATE   \n",
       "30  BANDAR BARU SUNGGALA (TAMAN EKAR)  TERRACE HOUSE - INTERMEDIATE   \n",
       "31  BANDAR BARU SUNGGALA (TAMAN EKAR)  TERRACE HOUSE - INTERMEDIATE   \n",
       "32  BANDAR BARU SUNGGALA (TAMAN EKAR)  TERRACE HOUSE - INTERMEDIATE   \n",
       "33  BANDAR BARU SUNGGALA (TAMAN EKAR)  TERRACE HOUSE - INTERMEDIATE   \n",
       "34  BANDAR BARU SUNGGALA (TAMAN EKAR)       TERRACE HOUSE - END LOT   \n",
       "35               BANDAR DATARAN SEGAR    TERRACE HOUSE - CORNER LOT   \n",
       "36               BANDAR DATARAN SEGAR                        SEMI-D   \n",
       "37               BANDAR DATARAN SEGAR  TERRACE HOUSE - INTERMEDIATE   \n",
       "38               BANDAR DATARAN SEGAR    TERRACE HOUSE - CORNER LOT   \n",
       "39               BANDAR DATARAN SEGAR  TERRACE HOUSE - INTERMEDIATE   \n",
       "\n",
       "       Tenure Floors  Rooms   Land Area Built Up Area  Interest Rate  \\\n",
       "0   LEASEHOLD      1    4.0   7,147 ft²     1,344 ft²            3.8   \n",
       "1   LEASEHOLD      1    4.0   6,663 ft²     1,335 ft²            3.9   \n",
       "2   LEASEHOLD      1    4.0   6,168 ft²     1,344 ft²            3.9   \n",
       "3   LEASEHOLD      1    4.0   7,169 ft²     1,344 ft²            3.9   \n",
       "4   LEASEHOLD     1½    3.0   6,146 ft²     1,670 ft²            3.9   \n",
       "5   LEASEHOLD      1    4.0   6,846 ft²     1,344 ft²            3.9   \n",
       "6   LEASEHOLD      1    4.0   7,147 ft²     1,488 ft²            3.9   \n",
       "7   LEASEHOLD      1    4.0   9,235 ft²     1,512 ft²            3.9   \n",
       "8   LEASEHOLD      2    4.0  10,689 ft²     2,314 ft²            4.1   \n",
       "9    FREEHOLD      2    5.0   3,208 ft²     2,353 ft²            3.8   \n",
       "10   FREEHOLD      2    NaN   3,604 ft²           NaN            3.8   \n",
       "11   FREEHOLD      2    NaN   3,208 ft²           NaN            3.8   \n",
       "12   FREEHOLD      2    4.0   1,804 ft²     1,984 ft²            3.8   \n",
       "13   FREEHOLD      2    NaN   1,804 ft²           NaN            3.8   \n",
       "14   FREEHOLD      2    4.0   2,423 ft²     1,269 ft²            3.9   \n",
       "15   FREEHOLD      2    NaN   1,207 ft²           NaN            3.9   \n",
       "16   FREEHOLD      2    4.0   1,207 ft²     1,269 ft²            3.9   \n",
       "17   FREEHOLD      2    4.0   1,207 ft²     1,269 ft²            3.9   \n",
       "18   FREEHOLD      2    4.0   1,207 ft²     1,269 ft²            3.9   \n",
       "19   FREEHOLD      3    3.0   1,115 ft²     1,115 ft²            4.1   \n",
       "20   FREEHOLD      3    3.0  10,592 ft²       984 ft²            4.1   \n",
       "21   FREEHOLD      3    3.0   1,038 ft²     1,038 ft²            4.1   \n",
       "22   FREEHOLD      1    4.0   5,005 ft²     1,344 ft²            3.9   \n",
       "23   FREEHOLD      1    3.0  11,667 ft²     1,890 ft²            4.1   \n",
       "24  LEASEHOLD      2    4.0   1,399 ft²     1,968 ft²            4.1   \n",
       "25  LEASEHOLD      1    3.0   1,399 ft²       860 ft²            4.2   \n",
       "26  LEASEHOLD      1    3.0   1,399 ft²       860 ft²            4.2   \n",
       "27  LEASEHOLD      1    3.0    1399 ft²       859 ft²            4.1   \n",
       "28   FREEHOLD      1    NaN   1,195 ft²           NaN            4.2   \n",
       "29   FREEHOLD      1    NaN   1,195 ft²           NaN            4.2   \n",
       "30   FREEHOLD      1    3.0   1,744 ft²       822 ft²            4.2   \n",
       "31   FREEHOLD      1    NaN   1,195 ft²           NaN            4.2   \n",
       "32   FREEHOLD      1    3.0   1,195 ft²       651 ft²            4.2   \n",
       "33   FREEHOLD      1    3.0   1,195 ft²       651 ft²            4.2   \n",
       "34   FREEHOLD      1    NaN   1,195 ft²           NaN            4.2   \n",
       "35   FREEHOLD      2    NaN   2,691 ft²           NaN            3.8   \n",
       "36   FREEHOLD      2    4.0   2,799 ft²     2,173 ft²            3.9   \n",
       "37   FREEHOLD      2    NaN   1,399 ft²           NaN            3.9   \n",
       "38   FREEHOLD      1    3.0   3,305 ft²       983 ft²            3.9   \n",
       "39   FREEHOLD      2    4.0   1,399 ft²     1,556 ft²            3.9   \n",
       "\n",
       "    Monthly payment  Minimum Income Formula  School  Hospital  Price psf  \\\n",
       "0       2562.765430             4271.275717    7.40      11.8         77   \n",
       "1       2358.341021             3930.568369    7.40      13.1         75   \n",
       "2       2287.590791             3812.651318    7.40      13.1         79   \n",
       "3       2264.007381             3773.345634    7.40      13.1         67   \n",
       "4       2169.673740             3616.122900    5.00       8.5         75   \n",
       "5       2028.173278             3380.288797    7.40      13.1         63   \n",
       "6       2004.589868             3340.983114    7.40      13.1         59   \n",
       "7       1971.573094             3285.955157    4.20       8.5         45   \n",
       "8       1256.315765             2093.859608    3.30       8.3         24   \n",
       "9       4566.382040             7610.636733    0.50       7.6        355   \n",
       "10      3960.637483             6601.062472    0.65       7.8        314   \n",
       "11      3914.041748             6523.402914    0.65       7.8        262   \n",
       "12      3386.988069             5644.980116    5.00       9.9        403   \n",
       "13      2679.254768             4465.424614    5.00      11.0        319   \n",
       "14      2169.673740             3616.122900    5.00      11.0        190   \n",
       "15      1839.505997             3065.843328    5.00      11.0        323   \n",
       "16      1830.072633             3050.121054    5.00      11.0        321   \n",
       "17      1721.588946             2869.314909    5.00      11.0        302   \n",
       "18      1702.722218             2837.870363    5.00      11.0        299   \n",
       "19      1352.955439             2254.925732    5.00      11.0        251   \n",
       "20      1328.795521             2214.659201    5.00      11.0         26   \n",
       "21      1014.716579             1691.194299    5.00      11.0        202   \n",
       "22      2028.173278             3380.288797    1.80      24.4         86   \n",
       "23      1449.595113             2415.991856    0.27      23.7         26   \n",
       "24      1546.234788             2577.057979    1.40       6.3        229   \n",
       "25       948.693317             1581.155528    1.50       6.4        139   \n",
       "26       948.693317             1581.155528    1.50       6.4        139   \n",
       "27      1207.995928             2013.326546    1.80       6.7        179   \n",
       "28       880.230913             1467.051521    3.50       1.4        151   \n",
       "29       782.427478             1304.045797    3.80       1.5        134   \n",
       "30       782.427478             1304.045797    3.90       1.6         92   \n",
       "31       709.074902             1181.791503    3.90       1.6        121   \n",
       "32       400.994082              668.323471    3.80       1.4         69   \n",
       "33       268.959446              448.265743    3.50       1.1         46   \n",
       "34       220.057728              366.762880    3.50       1.1         38   \n",
       "35      3205.786575             5342.977625    1.10      13.4        256   \n",
       "36      2358.341021             3930.568369    1.10      13.4        256   \n",
       "37      2075.340099             3458.900165    1.10      13.4        256   \n",
       "38      1815.922587             3026.537644    4.50      13.5        116   \n",
       "39      1768.755766             2947.926277    1.10      13.4        256   \n",
       "\n",
       "    Comercial Areas Purchase Price  \n",
       "0               8.3        550,000  \n",
       "1               8.3        500,000  \n",
       "2               8.3        485,000  \n",
       "3               8.3        480,000  \n",
       "4               5.1        460,000  \n",
       "5               8.3        430,000  \n",
       "6               8.3        425,000  \n",
       "7               5.1        418,000  \n",
       "8               3.3        260,000  \n",
       "9               2.0      1,140,000  \n",
       "10              2.2      1,130,000  \n",
       "11              2.2        840,000  \n",
       "12              5.8        726,888  \n",
       "13              5.8        575,000  \n",
       "14              5.8        460,000  \n",
       "15              5.8        390,000  \n",
       "16              5.8        388,000  \n",
       "17              5.8        365,000  \n",
       "18              5.8        361,000  \n",
       "19              5.8        280,000  \n",
       "20              5.8        275,000  \n",
       "21              5.8        210,000  \n",
       "22              1.1        430,000  \n",
       "23              1.7        300,000  \n",
       "24              1.9        320,000  \n",
       "25              1.6        194,000  \n",
       "26              1.6        194,000  \n",
       "27              2.5         250000  \n",
       "28              3.0        180,000  \n",
       "29              3.4        160,000  \n",
       "30              3.5        160,000  \n",
       "31              3.5        145,000  \n",
       "32              3.4         82,000  \n",
       "33              3.0         55,000  \n",
       "34              3.0         45,000  \n",
       "35              6.2        688,000  \n",
       "36              6.2        500,000  \n",
       "37              6.2        440,000  \n",
       "38              6.4        385,000  \n",
       "39              6.2        375,000  "
      ]
     },
     "execution_count": 3,
     "metadata": {},
     "output_type": "execute_result"
    }
   ],
   "source": [
    "house_price=pd.read_csv('House Price-Edit5.csv', encoding= 'unicode_escape' )\n",
    "house_price.head(40)"
   ]
  },
  {
   "cell_type": "code",
   "execution_count": 4,
   "id": "f17ecd5b",
   "metadata": {
    "scrolled": false
   },
   "outputs": [
    {
     "name": "stdout",
     "output_type": "stream",
     "text": [
      "<class 'pandas.core.frame.DataFrame'>\n",
      "RangeIndex: 3912 entries, 0 to 3911\n",
      "Data columns (total 18 columns):\n",
      " #   Column                  Non-Null Count  Dtype  \n",
      "---  ------                  --------------  -----  \n",
      " 0   Sale Date               3912 non-null   object \n",
      " 1   State                   3912 non-null   object \n",
      " 2   District                3911 non-null   object \n",
      " 3   Address                 3912 non-null   object \n",
      " 4   Building Type           3912 non-null   object \n",
      " 5   Tenure                  3912 non-null   object \n",
      " 6   Floors                  3912 non-null   object \n",
      " 7   Rooms                   3341 non-null   float64\n",
      " 8   Land Area               3912 non-null   object \n",
      " 9   Built Up Area           3341 non-null   object \n",
      " 10  Interest Rate           3912 non-null   float64\n",
      " 11  Monthly payment         3912 non-null   float64\n",
      " 12  Minimum Income Formula  3912 non-null   float64\n",
      " 13  School                  3912 non-null   float64\n",
      " 14  Hospital                3912 non-null   float64\n",
      " 15  Price psf               3912 non-null   int64  \n",
      " 16  Comercial Areas         3912 non-null   float64\n",
      " 17  Purchase Price          3912 non-null   object \n",
      "dtypes: float64(7), int64(1), object(10)\n",
      "memory usage: 550.2+ KB\n"
     ]
    }
   ],
   "source": [
    "house_price.info()"
   ]
  },
  {
   "cell_type": "code",
   "execution_count": 5,
   "id": "ead7d882",
   "metadata": {},
   "outputs": [
    {
     "data": {
      "text/plain": [
       "(3912, 18)"
      ]
     },
     "execution_count": 5,
     "metadata": {},
     "output_type": "execute_result"
    }
   ],
   "source": [
    "house_price.shape"
   ]
  },
  {
   "cell_type": "code",
   "execution_count": 6,
   "id": "4d632dfe",
   "metadata": {},
   "outputs": [
    {
     "data": {
      "text/plain": [
       "object     10\n",
       "float64     7\n",
       "int64       1\n",
       "dtype: int64"
      ]
     },
     "execution_count": 6,
     "metadata": {},
     "output_type": "execute_result"
    }
   ],
   "source": [
    "house_price.dtypes.value_counts()"
   ]
  },
  {
   "cell_type": "code",
   "execution_count": 7,
   "id": "a87f6f06",
   "metadata": {},
   "outputs": [
    {
     "data": {
      "text/plain": [
       "Sale Date                 677\n",
       "State                       2\n",
       "District                  108\n",
       "Address                   684\n",
       "Building Type               8\n",
       "Tenure                      2\n",
       "Floors                      6\n",
       "Rooms                       6\n",
       "Land Area                 619\n",
       "Built Up Area             891\n",
       "Interest Rate               4\n",
       "Monthly payment           506\n",
       "Minimum Income Formula    506\n",
       "School                     97\n",
       "Hospital                  201\n",
       "Price psf                 359\n",
       "Comercial Areas           197\n",
       "Purchase Price            552\n",
       "dtype: int64"
      ]
     },
     "execution_count": 7,
     "metadata": {},
     "output_type": "execute_result"
    }
   ],
   "source": [
    "house_price.nunique(dropna=True)"
   ]
  },
  {
   "cell_type": "markdown",
   "id": "be4f991a",
   "metadata": {},
   "source": [
    "## Check duplicate value"
   ]
  },
  {
   "cell_type": "code",
   "execution_count": 8,
   "id": "f5e1cb05",
   "metadata": {},
   "outputs": [],
   "source": [
    "duplicate = house_price[house_price.duplicated()]"
   ]
  },
  {
   "cell_type": "code",
   "execution_count": 9,
   "id": "22dc1e6d",
   "metadata": {},
   "outputs": [
    {
     "data": {
      "text/html": [
       "<div>\n",
       "<style scoped>\n",
       "    .dataframe tbody tr th:only-of-type {\n",
       "        vertical-align: middle;\n",
       "    }\n",
       "\n",
       "    .dataframe tbody tr th {\n",
       "        vertical-align: top;\n",
       "    }\n",
       "\n",
       "    .dataframe thead th {\n",
       "        text-align: right;\n",
       "    }\n",
       "</style>\n",
       "<table border=\"1\" class=\"dataframe\">\n",
       "  <thead>\n",
       "    <tr style=\"text-align: right;\">\n",
       "      <th></th>\n",
       "      <th>Sale Date</th>\n",
       "      <th>State</th>\n",
       "      <th>District</th>\n",
       "      <th>Address</th>\n",
       "      <th>Building Type</th>\n",
       "      <th>Tenure</th>\n",
       "      <th>Floors</th>\n",
       "      <th>Rooms</th>\n",
       "      <th>Land Area</th>\n",
       "      <th>Built Up Area</th>\n",
       "      <th>Interest Rate</th>\n",
       "      <th>Monthly payment</th>\n",
       "      <th>Minimum Income Formula</th>\n",
       "      <th>School</th>\n",
       "      <th>Hospital</th>\n",
       "      <th>Price psf</th>\n",
       "      <th>Comercial Areas</th>\n",
       "      <th>Purchase Price</th>\n",
       "    </tr>\n",
       "  </thead>\n",
       "  <tbody>\n",
       "    <tr>\n",
       "      <th>50</th>\n",
       "      <td>12/3/2020</td>\n",
       "      <td>NEGERI SEMBILAN</td>\n",
       "      <td>RANTAU</td>\n",
       "      <td>BANDAR EKAR</td>\n",
       "      <td>TERRACE HOUSE - INTERMEDIATE</td>\n",
       "      <td>FREEHOLD</td>\n",
       "      <td>1½</td>\n",
       "      <td>NaN</td>\n",
       "      <td>1,401 ft²</td>\n",
       "      <td>NaN</td>\n",
       "      <td>4.2</td>\n",
       "      <td>849.344588</td>\n",
       "      <td>1415.574313</td>\n",
       "      <td>0.70</td>\n",
       "      <td>15.2</td>\n",
       "      <td>201</td>\n",
       "      <td>1.8</td>\n",
       "      <td>173,684</td>\n",
       "    </tr>\n",
       "    <tr>\n",
       "      <th>243</th>\n",
       "      <td>17/1/2020</td>\n",
       "      <td>MELAKA</td>\n",
       "      <td>BUKIT BARU</td>\n",
       "      <td>KAMPUNG BARU BUKIT BERUANG</td>\n",
       "      <td>BUNGALOW</td>\n",
       "      <td>LEASEHOLD</td>\n",
       "      <td>2</td>\n",
       "      <td>3.0</td>\n",
       "      <td>6,286 ft²</td>\n",
       "      <td>3,162 ft²</td>\n",
       "      <td>4.1</td>\n",
       "      <td>1207.995928</td>\n",
       "      <td>2013.326546</td>\n",
       "      <td>1.90</td>\n",
       "      <td>5.6</td>\n",
       "      <td>40</td>\n",
       "      <td>2.4</td>\n",
       "      <td>250,000</td>\n",
       "    </tr>\n",
       "    <tr>\n",
       "      <th>255</th>\n",
       "      <td>3/3/2020</td>\n",
       "      <td>MELAKA</td>\n",
       "      <td>BUKIT KATIL</td>\n",
       "      <td>KAMPUNG BARU TUN RAZAK</td>\n",
       "      <td>BUNGALOW</td>\n",
       "      <td>LEASEHOLD</td>\n",
       "      <td>1</td>\n",
       "      <td>5.0</td>\n",
       "      <td>5,242 ft²</td>\n",
       "      <td>2,099 ft²</td>\n",
       "      <td>3.9</td>\n",
       "      <td>2264.007381</td>\n",
       "      <td>3773.345634</td>\n",
       "      <td>0.70</td>\n",
       "      <td>8.0</td>\n",
       "      <td>92</td>\n",
       "      <td>5.8</td>\n",
       "      <td>480,000</td>\n",
       "    </tr>\n",
       "    <tr>\n",
       "      <th>477</th>\n",
       "      <td>10/6/2019</td>\n",
       "      <td>NEGERI SEMBILAN</td>\n",
       "      <td>SEREMBAN 2</td>\n",
       "      <td>SAUJANA SUTERA @ S2 HEIGHTS</td>\n",
       "      <td>TERRACE HOUSE - INTERMEDIATE</td>\n",
       "      <td>FREEHOLD</td>\n",
       "      <td>1</td>\n",
       "      <td>3.0</td>\n",
       "      <td>1,539 ft²</td>\n",
       "      <td>866 ft²</td>\n",
       "      <td>3.9</td>\n",
       "      <td>1698.005535</td>\n",
       "      <td>2830.009226</td>\n",
       "      <td>4.40</td>\n",
       "      <td>8.2</td>\n",
       "      <td>234</td>\n",
       "      <td>1.5</td>\n",
       "      <td>360,000</td>\n",
       "    </tr>\n",
       "    <tr>\n",
       "      <th>529</th>\n",
       "      <td>10/10/2019</td>\n",
       "      <td>MELAKA</td>\n",
       "      <td>JASIN</td>\n",
       "      <td>TAMAN AIR MERBAU JAYA FI(RUMAH AWAM A.MERBAU</td>\n",
       "      <td>TERRACE HOUSE - INTERMEDIATE</td>\n",
       "      <td>LEASEHOLD</td>\n",
       "      <td>1</td>\n",
       "      <td>3.0</td>\n",
       "      <td>1,098 ft²</td>\n",
       "      <td>700 ft²</td>\n",
       "      <td>4.2</td>\n",
       "      <td>523.248376</td>\n",
       "      <td>872.080627</td>\n",
       "      <td>5.00</td>\n",
       "      <td>6.0</td>\n",
       "      <td>97</td>\n",
       "      <td>6.6</td>\n",
       "      <td>107,000</td>\n",
       "    </tr>\n",
       "    <tr>\n",
       "      <th>...</th>\n",
       "      <td>...</td>\n",
       "      <td>...</td>\n",
       "      <td>...</td>\n",
       "      <td>...</td>\n",
       "      <td>...</td>\n",
       "      <td>...</td>\n",
       "      <td>...</td>\n",
       "      <td>...</td>\n",
       "      <td>...</td>\n",
       "      <td>...</td>\n",
       "      <td>...</td>\n",
       "      <td>...</td>\n",
       "      <td>...</td>\n",
       "      <td>...</td>\n",
       "      <td>...</td>\n",
       "      <td>...</td>\n",
       "      <td>...</td>\n",
       "      <td>...</td>\n",
       "    </tr>\n",
       "    <tr>\n",
       "      <th>3676</th>\n",
       "      <td>20/11/2019</td>\n",
       "      <td>MELAKA</td>\n",
       "      <td>TANJONG MINYAK</td>\n",
       "      <td>TAMAN TANJUNG MINYAK PERDANA</td>\n",
       "      <td>BUNGALOW</td>\n",
       "      <td>LEASEHOLD</td>\n",
       "      <td>1</td>\n",
       "      <td>4.0</td>\n",
       "      <td>4,499 ft²</td>\n",
       "      <td>1,650 ft²</td>\n",
       "      <td>3.9</td>\n",
       "      <td>2240.423970</td>\n",
       "      <td>3734.039951</td>\n",
       "      <td>6.00</td>\n",
       "      <td>12.1</td>\n",
       "      <td>106</td>\n",
       "      <td>1.1</td>\n",
       "      <td>475,000</td>\n",
       "    </tr>\n",
       "    <tr>\n",
       "      <th>3712</th>\n",
       "      <td>14/11/2019</td>\n",
       "      <td>MELAKA</td>\n",
       "      <td>BUKIT KATIL</td>\n",
       "      <td>TAMAN TASIK UTAMA</td>\n",
       "      <td>SEMI-D</td>\n",
       "      <td>LEASEHOLD</td>\n",
       "      <td>1</td>\n",
       "      <td>4.0</td>\n",
       "      <td>4,004 ft²</td>\n",
       "      <td>1,386 ft²</td>\n",
       "      <td>3.9</td>\n",
       "      <td>2311.174201</td>\n",
       "      <td>3851.957002</td>\n",
       "      <td>1.50</td>\n",
       "      <td>9.4</td>\n",
       "      <td>122</td>\n",
       "      <td>3.0</td>\n",
       "      <td>490,000</td>\n",
       "    </tr>\n",
       "    <tr>\n",
       "      <th>3714</th>\n",
       "      <td>8/5/2020</td>\n",
       "      <td>MELAKA</td>\n",
       "      <td>BUKIT KATIL</td>\n",
       "      <td>TAMAN TASIK UTAMA</td>\n",
       "      <td>BUNGALOW</td>\n",
       "      <td>LEASEHOLD</td>\n",
       "      <td>1</td>\n",
       "      <td>4.0</td>\n",
       "      <td>5,662 ft²</td>\n",
       "      <td>1,470 ft²</td>\n",
       "      <td>3.9</td>\n",
       "      <td>2169.673740</td>\n",
       "      <td>3616.122900</td>\n",
       "      <td>1.50</td>\n",
       "      <td>9.4</td>\n",
       "      <td>81</td>\n",
       "      <td>3.0</td>\n",
       "      <td>460,000</td>\n",
       "    </tr>\n",
       "    <tr>\n",
       "      <th>3719</th>\n",
       "      <td>2/12/2019</td>\n",
       "      <td>MELAKA</td>\n",
       "      <td>BUKIT KATIL</td>\n",
       "      <td>TAMAN TASIK UTAMA</td>\n",
       "      <td>SEMI-D</td>\n",
       "      <td>LEASEHOLD</td>\n",
       "      <td>2</td>\n",
       "      <td>3.0</td>\n",
       "      <td>1,647 ft²</td>\n",
       "      <td>1,158 ft²</td>\n",
       "      <td>4.1</td>\n",
       "      <td>1449.595113</td>\n",
       "      <td>2415.991856</td>\n",
       "      <td>1.50</td>\n",
       "      <td>9.4</td>\n",
       "      <td>182</td>\n",
       "      <td>3.0</td>\n",
       "      <td>300,000</td>\n",
       "    </tr>\n",
       "    <tr>\n",
       "      <th>3731</th>\n",
       "      <td>9/12/2019</td>\n",
       "      <td>MELAKA</td>\n",
       "      <td>JASIN</td>\n",
       "      <td>TAMAN TEMAN JASIN</td>\n",
       "      <td>TERRACE HOUSE - CORNER LOT</td>\n",
       "      <td>FREEHOLD</td>\n",
       "      <td>1</td>\n",
       "      <td>3.0</td>\n",
       "      <td>2,852 ft²</td>\n",
       "      <td>880 ft²</td>\n",
       "      <td>4.1</td>\n",
       "      <td>1111.356254</td>\n",
       "      <td>1852.260423</td>\n",
       "      <td>0.11</td>\n",
       "      <td>1.0</td>\n",
       "      <td>81</td>\n",
       "      <td>1.0</td>\n",
       "      <td>230,000</td>\n",
       "    </tr>\n",
       "  </tbody>\n",
       "</table>\n",
       "<p>70 rows × 18 columns</p>\n",
       "</div>"
      ],
      "text/plain": [
       "       Sale Date            State        District  \\\n",
       "50     12/3/2020  NEGERI SEMBILAN          RANTAU   \n",
       "243    17/1/2020           MELAKA      BUKIT BARU   \n",
       "255     3/3/2020           MELAKA     BUKIT KATIL   \n",
       "477    10/6/2019  NEGERI SEMBILAN      SEREMBAN 2   \n",
       "529   10/10/2019           MELAKA           JASIN   \n",
       "...          ...              ...             ...   \n",
       "3676  20/11/2019           MELAKA  TANJONG MINYAK   \n",
       "3712  14/11/2019           MELAKA     BUKIT KATIL   \n",
       "3714    8/5/2020           MELAKA     BUKIT KATIL   \n",
       "3719   2/12/2019           MELAKA     BUKIT KATIL   \n",
       "3731   9/12/2019           MELAKA           JASIN   \n",
       "\n",
       "                                           Address  \\\n",
       "50                                     BANDAR EKAR   \n",
       "243                     KAMPUNG BARU BUKIT BERUANG   \n",
       "255                         KAMPUNG BARU TUN RAZAK   \n",
       "477                    SAUJANA SUTERA @ S2 HEIGHTS   \n",
       "529   TAMAN AIR MERBAU JAYA FI(RUMAH AWAM A.MERBAU   \n",
       "...                                            ...   \n",
       "3676                  TAMAN TANJUNG MINYAK PERDANA   \n",
       "3712                             TAMAN TASIK UTAMA   \n",
       "3714                             TAMAN TASIK UTAMA   \n",
       "3719                             TAMAN TASIK UTAMA   \n",
       "3731                             TAMAN TEMAN JASIN   \n",
       "\n",
       "                     Building Type     Tenure Floors  Rooms  Land Area  \\\n",
       "50    TERRACE HOUSE - INTERMEDIATE   FREEHOLD     1½    NaN  1,401 ft²   \n",
       "243                       BUNGALOW  LEASEHOLD      2    3.0  6,286 ft²   \n",
       "255                       BUNGALOW  LEASEHOLD      1    5.0  5,242 ft²   \n",
       "477   TERRACE HOUSE - INTERMEDIATE   FREEHOLD      1    3.0  1,539 ft²   \n",
       "529   TERRACE HOUSE - INTERMEDIATE  LEASEHOLD      1    3.0  1,098 ft²   \n",
       "...                            ...        ...    ...    ...        ...   \n",
       "3676                      BUNGALOW  LEASEHOLD      1    4.0  4,499 ft²   \n",
       "3712                        SEMI-D  LEASEHOLD      1    4.0  4,004 ft²   \n",
       "3714                      BUNGALOW  LEASEHOLD      1    4.0  5,662 ft²   \n",
       "3719                        SEMI-D  LEASEHOLD      2    3.0  1,647 ft²   \n",
       "3731    TERRACE HOUSE - CORNER LOT   FREEHOLD      1    3.0  2,852 ft²   \n",
       "\n",
       "     Built Up Area  Interest Rate  Monthly payment  Minimum Income Formula  \\\n",
       "50             NaN            4.2       849.344588             1415.574313   \n",
       "243      3,162 ft²            4.1      1207.995928             2013.326546   \n",
       "255      2,099 ft²            3.9      2264.007381             3773.345634   \n",
       "477        866 ft²            3.9      1698.005535             2830.009226   \n",
       "529        700 ft²            4.2       523.248376              872.080627   \n",
       "...            ...            ...              ...                     ...   \n",
       "3676     1,650 ft²            3.9      2240.423970             3734.039951   \n",
       "3712     1,386 ft²            3.9      2311.174201             3851.957002   \n",
       "3714     1,470 ft²            3.9      2169.673740             3616.122900   \n",
       "3719     1,158 ft²            4.1      1449.595113             2415.991856   \n",
       "3731       880 ft²            4.1      1111.356254             1852.260423   \n",
       "\n",
       "      School  Hospital  Price psf  Comercial Areas Purchase Price  \n",
       "50      0.70      15.2        201              1.8        173,684  \n",
       "243     1.90       5.6         40              2.4        250,000  \n",
       "255     0.70       8.0         92              5.8        480,000  \n",
       "477     4.40       8.2        234              1.5        360,000  \n",
       "529     5.00       6.0         97              6.6        107,000  \n",
       "...      ...       ...        ...              ...            ...  \n",
       "3676    6.00      12.1        106              1.1        475,000  \n",
       "3712    1.50       9.4        122              3.0        490,000  \n",
       "3714    1.50       9.4         81              3.0        460,000  \n",
       "3719    1.50       9.4        182              3.0        300,000  \n",
       "3731    0.11       1.0         81              1.0        230,000  \n",
       "\n",
       "[70 rows x 18 columns]"
      ]
     },
     "execution_count": 9,
     "metadata": {},
     "output_type": "execute_result"
    }
   ],
   "source": [
    "duplicate"
   ]
  },
  {
   "cell_type": "markdown",
   "id": "8a186fd0",
   "metadata": {},
   "source": [
    "## Drop The Columns which contain duplicate value"
   ]
  },
  {
   "cell_type": "code",
   "execution_count": 10,
   "id": "7189ca24",
   "metadata": {},
   "outputs": [],
   "source": [
    "house_price2 = house_price.drop_duplicates()"
   ]
  },
  {
   "cell_type": "code",
   "execution_count": 11,
   "id": "f222fe55",
   "metadata": {},
   "outputs": [
    {
     "data": {
      "text/plain": [
       "(3842, 18)"
      ]
     },
     "execution_count": 11,
     "metadata": {},
     "output_type": "execute_result"
    }
   ],
   "source": [
    "house_price2.shape"
   ]
  },
  {
   "cell_type": "code",
   "execution_count": 12,
   "id": "5d73f811",
   "metadata": {},
   "outputs": [
    {
     "data": {
      "text/html": [
       "<div>\n",
       "<style scoped>\n",
       "    .dataframe tbody tr th:only-of-type {\n",
       "        vertical-align: middle;\n",
       "    }\n",
       "\n",
       "    .dataframe tbody tr th {\n",
       "        vertical-align: top;\n",
       "    }\n",
       "\n",
       "    .dataframe thead th {\n",
       "        text-align: right;\n",
       "    }\n",
       "</style>\n",
       "<table border=\"1\" class=\"dataframe\">\n",
       "  <thead>\n",
       "    <tr style=\"text-align: right;\">\n",
       "      <th></th>\n",
       "      <th>Sale Date</th>\n",
       "      <th>State</th>\n",
       "      <th>District</th>\n",
       "      <th>Address</th>\n",
       "      <th>Building Type</th>\n",
       "      <th>Tenure</th>\n",
       "      <th>Floors</th>\n",
       "      <th>Rooms</th>\n",
       "      <th>Land Area</th>\n",
       "      <th>Built Up Area</th>\n",
       "      <th>Interest Rate</th>\n",
       "      <th>Monthly payment</th>\n",
       "      <th>Minimum Income Formula</th>\n",
       "      <th>School</th>\n",
       "      <th>Hospital</th>\n",
       "      <th>Price psf</th>\n",
       "      <th>Comercial Areas</th>\n",
       "      <th>Purchase Price</th>\n",
       "    </tr>\n",
       "  </thead>\n",
       "  <tbody>\n",
       "    <tr>\n",
       "      <th>0</th>\n",
       "      <td>26/11/2019</td>\n",
       "      <td>MELAKA</td>\n",
       "      <td>PEGOH</td>\n",
       "      <td>A FARMOSA GOLF RESORT</td>\n",
       "      <td>BUNGALOW</td>\n",
       "      <td>LEASEHOLD</td>\n",
       "      <td>1</td>\n",
       "      <td>4.0</td>\n",
       "      <td>7,147 ft²</td>\n",
       "      <td>1,344 ft²</td>\n",
       "      <td>3.8</td>\n",
       "      <td>2562.765430</td>\n",
       "      <td>4271.275717</td>\n",
       "      <td>7.4</td>\n",
       "      <td>11.8</td>\n",
       "      <td>77</td>\n",
       "      <td>8.30</td>\n",
       "      <td>550,000</td>\n",
       "    </tr>\n",
       "    <tr>\n",
       "      <th>1</th>\n",
       "      <td>2/1/2020</td>\n",
       "      <td>MELAKA</td>\n",
       "      <td>PEGOH</td>\n",
       "      <td>A FARMOSA GOLF RESORT</td>\n",
       "      <td>BUNGALOW</td>\n",
       "      <td>LEASEHOLD</td>\n",
       "      <td>1</td>\n",
       "      <td>4.0</td>\n",
       "      <td>6,663 ft²</td>\n",
       "      <td>1,335 ft²</td>\n",
       "      <td>3.9</td>\n",
       "      <td>2358.341021</td>\n",
       "      <td>3930.568369</td>\n",
       "      <td>7.4</td>\n",
       "      <td>13.1</td>\n",
       "      <td>75</td>\n",
       "      <td>8.30</td>\n",
       "      <td>500,000</td>\n",
       "    </tr>\n",
       "    <tr>\n",
       "      <th>2</th>\n",
       "      <td>12/7/2019</td>\n",
       "      <td>MELAKA</td>\n",
       "      <td>PEGOH</td>\n",
       "      <td>A FARMOSA GOLF RESORT</td>\n",
       "      <td>BUNGALOW</td>\n",
       "      <td>LEASEHOLD</td>\n",
       "      <td>1</td>\n",
       "      <td>4.0</td>\n",
       "      <td>6,168 ft²</td>\n",
       "      <td>1,344 ft²</td>\n",
       "      <td>3.9</td>\n",
       "      <td>2287.590791</td>\n",
       "      <td>3812.651318</td>\n",
       "      <td>7.4</td>\n",
       "      <td>13.1</td>\n",
       "      <td>79</td>\n",
       "      <td>8.30</td>\n",
       "      <td>485,000</td>\n",
       "    </tr>\n",
       "    <tr>\n",
       "      <th>3</th>\n",
       "      <td>12/11/2019</td>\n",
       "      <td>MELAKA</td>\n",
       "      <td>PEGOH</td>\n",
       "      <td>A FARMOSA GOLF RESORT</td>\n",
       "      <td>BUNGALOW</td>\n",
       "      <td>LEASEHOLD</td>\n",
       "      <td>1</td>\n",
       "      <td>4.0</td>\n",
       "      <td>7,169 ft²</td>\n",
       "      <td>1,344 ft²</td>\n",
       "      <td>3.9</td>\n",
       "      <td>2264.007381</td>\n",
       "      <td>3773.345634</td>\n",
       "      <td>7.4</td>\n",
       "      <td>13.1</td>\n",
       "      <td>67</td>\n",
       "      <td>8.30</td>\n",
       "      <td>480,000</td>\n",
       "    </tr>\n",
       "    <tr>\n",
       "      <th>4</th>\n",
       "      <td>28/1/2020</td>\n",
       "      <td>MELAKA</td>\n",
       "      <td>PEGOH</td>\n",
       "      <td>A FARMOSA GOLF RESORT</td>\n",
       "      <td>BUNGALOW</td>\n",
       "      <td>LEASEHOLD</td>\n",
       "      <td>1½</td>\n",
       "      <td>3.0</td>\n",
       "      <td>6,146 ft²</td>\n",
       "      <td>1,670 ft²</td>\n",
       "      <td>3.9</td>\n",
       "      <td>2169.673740</td>\n",
       "      <td>3616.122900</td>\n",
       "      <td>5.0</td>\n",
       "      <td>8.5</td>\n",
       "      <td>75</td>\n",
       "      <td>5.10</td>\n",
       "      <td>460,000</td>\n",
       "    </tr>\n",
       "    <tr>\n",
       "      <th>...</th>\n",
       "      <td>...</td>\n",
       "      <td>...</td>\n",
       "      <td>...</td>\n",
       "      <td>...</td>\n",
       "      <td>...</td>\n",
       "      <td>...</td>\n",
       "      <td>...</td>\n",
       "      <td>...</td>\n",
       "      <td>...</td>\n",
       "      <td>...</td>\n",
       "      <td>...</td>\n",
       "      <td>...</td>\n",
       "      <td>...</td>\n",
       "      <td>...</td>\n",
       "      <td>...</td>\n",
       "      <td>...</td>\n",
       "      <td>...</td>\n",
       "      <td>...</td>\n",
       "    </tr>\n",
       "    <tr>\n",
       "      <th>3907</th>\n",
       "      <td>7/2/2020</td>\n",
       "      <td>NEGERI SEMBILAN</td>\n",
       "      <td>SEREMBAN 2</td>\n",
       "      <td>VISION HOMES</td>\n",
       "      <td>CLUSTER HOUSE</td>\n",
       "      <td>FREEHOLD</td>\n",
       "      <td>2</td>\n",
       "      <td>NaN</td>\n",
       "      <td>1,798 ft²</td>\n",
       "      <td>NaN</td>\n",
       "      <td>3.9</td>\n",
       "      <td>1910.256227</td>\n",
       "      <td>3183.760379</td>\n",
       "      <td>2.6</td>\n",
       "      <td>8.2</td>\n",
       "      <td>225</td>\n",
       "      <td>4.65</td>\n",
       "      <td>405,000</td>\n",
       "    </tr>\n",
       "    <tr>\n",
       "      <th>3908</th>\n",
       "      <td>4/5/2020</td>\n",
       "      <td>NEGERI SEMBILAN</td>\n",
       "      <td>SEREMBAN 2</td>\n",
       "      <td>VISION HOMES</td>\n",
       "      <td>CLUSTER HOUSE</td>\n",
       "      <td>FREEHOLD</td>\n",
       "      <td>2</td>\n",
       "      <td>4.0</td>\n",
       "      <td>1,798 ft²</td>\n",
       "      <td>1,492 ft²</td>\n",
       "      <td>3.9</td>\n",
       "      <td>1886.672817</td>\n",
       "      <td>3144.454695</td>\n",
       "      <td>2.6</td>\n",
       "      <td>8.2</td>\n",
       "      <td>222</td>\n",
       "      <td>4.65</td>\n",
       "      <td>400,000</td>\n",
       "    </tr>\n",
       "    <tr>\n",
       "      <th>3909</th>\n",
       "      <td>28/7/2019</td>\n",
       "      <td>NEGERI SEMBILAN</td>\n",
       "      <td>SEREMBAN 2</td>\n",
       "      <td>VISION HOMES</td>\n",
       "      <td>CLUSTER HOUSE</td>\n",
       "      <td>FREEHOLD</td>\n",
       "      <td>2</td>\n",
       "      <td>4.0</td>\n",
       "      <td>1,798 ft²</td>\n",
       "      <td>1,492 ft²</td>\n",
       "      <td>3.9</td>\n",
       "      <td>1886.672817</td>\n",
       "      <td>3144.454695</td>\n",
       "      <td>2.6</td>\n",
       "      <td>8.2</td>\n",
       "      <td>222</td>\n",
       "      <td>4.65</td>\n",
       "      <td>400,000</td>\n",
       "    </tr>\n",
       "    <tr>\n",
       "      <th>3910</th>\n",
       "      <td>25/10/2019</td>\n",
       "      <td>NEGERI SEMBILAN</td>\n",
       "      <td>SEREMBAN 2</td>\n",
       "      <td>VISION HOMES</td>\n",
       "      <td>CLUSTER HOUSE</td>\n",
       "      <td>FREEHOLD</td>\n",
       "      <td>2</td>\n",
       "      <td>4.0</td>\n",
       "      <td>1,798 ft²</td>\n",
       "      <td>1,492 ft²</td>\n",
       "      <td>3.9</td>\n",
       "      <td>1792.339176</td>\n",
       "      <td>2987.231961</td>\n",
       "      <td>2.6</td>\n",
       "      <td>8.2</td>\n",
       "      <td>211</td>\n",
       "      <td>4.65</td>\n",
       "      <td>380,000</td>\n",
       "    </tr>\n",
       "    <tr>\n",
       "      <th>3911</th>\n",
       "      <td>24/6/2020</td>\n",
       "      <td>NEGERI SEMBILAN</td>\n",
       "      <td>SEREMBAN 2</td>\n",
       "      <td>VISION HOMES</td>\n",
       "      <td>CLUSTER HOUSE</td>\n",
       "      <td>FREEHOLD</td>\n",
       "      <td>2</td>\n",
       "      <td>4.0</td>\n",
       "      <td>1,798 ft²</td>\n",
       "      <td>1,492 ft²</td>\n",
       "      <td>4.1</td>\n",
       "      <td>1633.210494</td>\n",
       "      <td>2722.017491</td>\n",
       "      <td>2.6</td>\n",
       "      <td>8.2</td>\n",
       "      <td>188</td>\n",
       "      <td>4.65</td>\n",
       "      <td>338,000</td>\n",
       "    </tr>\n",
       "  </tbody>\n",
       "</table>\n",
       "<p>3842 rows × 18 columns</p>\n",
       "</div>"
      ],
      "text/plain": [
       "       Sale Date            State    District                Address  \\\n",
       "0     26/11/2019           MELAKA       PEGOH  A FARMOSA GOLF RESORT   \n",
       "1       2/1/2020           MELAKA       PEGOH  A FARMOSA GOLF RESORT   \n",
       "2      12/7/2019           MELAKA       PEGOH  A FARMOSA GOLF RESORT   \n",
       "3     12/11/2019           MELAKA       PEGOH  A FARMOSA GOLF RESORT   \n",
       "4      28/1/2020           MELAKA       PEGOH  A FARMOSA GOLF RESORT   \n",
       "...          ...              ...         ...                    ...   \n",
       "3907    7/2/2020  NEGERI SEMBILAN  SEREMBAN 2           VISION HOMES   \n",
       "3908    4/5/2020  NEGERI SEMBILAN  SEREMBAN 2           VISION HOMES   \n",
       "3909   28/7/2019  NEGERI SEMBILAN  SEREMBAN 2           VISION HOMES   \n",
       "3910  25/10/2019  NEGERI SEMBILAN  SEREMBAN 2           VISION HOMES   \n",
       "3911   24/6/2020  NEGERI SEMBILAN  SEREMBAN 2           VISION HOMES   \n",
       "\n",
       "      Building Type     Tenure Floors  Rooms  Land Area Built Up Area  \\\n",
       "0          BUNGALOW  LEASEHOLD      1    4.0  7,147 ft²     1,344 ft²   \n",
       "1          BUNGALOW  LEASEHOLD      1    4.0  6,663 ft²     1,335 ft²   \n",
       "2          BUNGALOW  LEASEHOLD      1    4.0  6,168 ft²     1,344 ft²   \n",
       "3          BUNGALOW  LEASEHOLD      1    4.0  7,169 ft²     1,344 ft²   \n",
       "4          BUNGALOW  LEASEHOLD     1½    3.0  6,146 ft²     1,670 ft²   \n",
       "...             ...        ...    ...    ...        ...           ...   \n",
       "3907  CLUSTER HOUSE   FREEHOLD      2    NaN  1,798 ft²           NaN   \n",
       "3908  CLUSTER HOUSE   FREEHOLD      2    4.0  1,798 ft²     1,492 ft²   \n",
       "3909  CLUSTER HOUSE   FREEHOLD      2    4.0  1,798 ft²     1,492 ft²   \n",
       "3910  CLUSTER HOUSE   FREEHOLD      2    4.0  1,798 ft²     1,492 ft²   \n",
       "3911  CLUSTER HOUSE   FREEHOLD      2    4.0  1,798 ft²     1,492 ft²   \n",
       "\n",
       "      Interest Rate  Monthly payment  Minimum Income Formula  School  \\\n",
       "0               3.8      2562.765430             4271.275717     7.4   \n",
       "1               3.9      2358.341021             3930.568369     7.4   \n",
       "2               3.9      2287.590791             3812.651318     7.4   \n",
       "3               3.9      2264.007381             3773.345634     7.4   \n",
       "4               3.9      2169.673740             3616.122900     5.0   \n",
       "...             ...              ...                     ...     ...   \n",
       "3907            3.9      1910.256227             3183.760379     2.6   \n",
       "3908            3.9      1886.672817             3144.454695     2.6   \n",
       "3909            3.9      1886.672817             3144.454695     2.6   \n",
       "3910            3.9      1792.339176             2987.231961     2.6   \n",
       "3911            4.1      1633.210494             2722.017491     2.6   \n",
       "\n",
       "      Hospital  Price psf  Comercial Areas Purchase Price  \n",
       "0         11.8         77             8.30        550,000  \n",
       "1         13.1         75             8.30        500,000  \n",
       "2         13.1         79             8.30        485,000  \n",
       "3         13.1         67             8.30        480,000  \n",
       "4          8.5         75             5.10        460,000  \n",
       "...        ...        ...              ...            ...  \n",
       "3907       8.2        225             4.65        405,000  \n",
       "3908       8.2        222             4.65        400,000  \n",
       "3909       8.2        222             4.65        400,000  \n",
       "3910       8.2        211             4.65        380,000  \n",
       "3911       8.2        188             4.65        338,000  \n",
       "\n",
       "[3842 rows x 18 columns]"
      ]
     },
     "execution_count": 12,
     "metadata": {},
     "output_type": "execute_result"
    }
   ],
   "source": [
    "house_price2"
   ]
  },
  {
   "cell_type": "markdown",
   "id": "71bd1ec0",
   "metadata": {},
   "source": [
    "## Drop Unnecessary Column"
   ]
  },
  {
   "cell_type": "code",
   "execution_count": 13,
   "id": "522fc11e",
   "metadata": {},
   "outputs": [],
   "source": [
    "house_price3 = house_price2.drop(['Sale Date','Address','Monthly payment','Price psf'],axis=1)"
   ]
  },
  {
   "cell_type": "code",
   "execution_count": 14,
   "id": "e15631d2",
   "metadata": {},
   "outputs": [
    {
     "data": {
      "text/html": [
       "<div>\n",
       "<style scoped>\n",
       "    .dataframe tbody tr th:only-of-type {\n",
       "        vertical-align: middle;\n",
       "    }\n",
       "\n",
       "    .dataframe tbody tr th {\n",
       "        vertical-align: top;\n",
       "    }\n",
       "\n",
       "    .dataframe thead th {\n",
       "        text-align: right;\n",
       "    }\n",
       "</style>\n",
       "<table border=\"1\" class=\"dataframe\">\n",
       "  <thead>\n",
       "    <tr style=\"text-align: right;\">\n",
       "      <th></th>\n",
       "      <th>State</th>\n",
       "      <th>District</th>\n",
       "      <th>Building Type</th>\n",
       "      <th>Tenure</th>\n",
       "      <th>Floors</th>\n",
       "      <th>Rooms</th>\n",
       "      <th>Land Area</th>\n",
       "      <th>Built Up Area</th>\n",
       "      <th>Interest Rate</th>\n",
       "      <th>Minimum Income Formula</th>\n",
       "      <th>School</th>\n",
       "      <th>Hospital</th>\n",
       "      <th>Comercial Areas</th>\n",
       "      <th>Purchase Price</th>\n",
       "    </tr>\n",
       "  </thead>\n",
       "  <tbody>\n",
       "    <tr>\n",
       "      <th>0</th>\n",
       "      <td>MELAKA</td>\n",
       "      <td>PEGOH</td>\n",
       "      <td>BUNGALOW</td>\n",
       "      <td>LEASEHOLD</td>\n",
       "      <td>1</td>\n",
       "      <td>4.0</td>\n",
       "      <td>7,147 ft²</td>\n",
       "      <td>1,344 ft²</td>\n",
       "      <td>3.8</td>\n",
       "      <td>4271.275717</td>\n",
       "      <td>7.4</td>\n",
       "      <td>11.8</td>\n",
       "      <td>8.30</td>\n",
       "      <td>550,000</td>\n",
       "    </tr>\n",
       "    <tr>\n",
       "      <th>1</th>\n",
       "      <td>MELAKA</td>\n",
       "      <td>PEGOH</td>\n",
       "      <td>BUNGALOW</td>\n",
       "      <td>LEASEHOLD</td>\n",
       "      <td>1</td>\n",
       "      <td>4.0</td>\n",
       "      <td>6,663 ft²</td>\n",
       "      <td>1,335 ft²</td>\n",
       "      <td>3.9</td>\n",
       "      <td>3930.568369</td>\n",
       "      <td>7.4</td>\n",
       "      <td>13.1</td>\n",
       "      <td>8.30</td>\n",
       "      <td>500,000</td>\n",
       "    </tr>\n",
       "    <tr>\n",
       "      <th>2</th>\n",
       "      <td>MELAKA</td>\n",
       "      <td>PEGOH</td>\n",
       "      <td>BUNGALOW</td>\n",
       "      <td>LEASEHOLD</td>\n",
       "      <td>1</td>\n",
       "      <td>4.0</td>\n",
       "      <td>6,168 ft²</td>\n",
       "      <td>1,344 ft²</td>\n",
       "      <td>3.9</td>\n",
       "      <td>3812.651318</td>\n",
       "      <td>7.4</td>\n",
       "      <td>13.1</td>\n",
       "      <td>8.30</td>\n",
       "      <td>485,000</td>\n",
       "    </tr>\n",
       "    <tr>\n",
       "      <th>3</th>\n",
       "      <td>MELAKA</td>\n",
       "      <td>PEGOH</td>\n",
       "      <td>BUNGALOW</td>\n",
       "      <td>LEASEHOLD</td>\n",
       "      <td>1</td>\n",
       "      <td>4.0</td>\n",
       "      <td>7,169 ft²</td>\n",
       "      <td>1,344 ft²</td>\n",
       "      <td>3.9</td>\n",
       "      <td>3773.345634</td>\n",
       "      <td>7.4</td>\n",
       "      <td>13.1</td>\n",
       "      <td>8.30</td>\n",
       "      <td>480,000</td>\n",
       "    </tr>\n",
       "    <tr>\n",
       "      <th>4</th>\n",
       "      <td>MELAKA</td>\n",
       "      <td>PEGOH</td>\n",
       "      <td>BUNGALOW</td>\n",
       "      <td>LEASEHOLD</td>\n",
       "      <td>1½</td>\n",
       "      <td>3.0</td>\n",
       "      <td>6,146 ft²</td>\n",
       "      <td>1,670 ft²</td>\n",
       "      <td>3.9</td>\n",
       "      <td>3616.122900</td>\n",
       "      <td>5.0</td>\n",
       "      <td>8.5</td>\n",
       "      <td>5.10</td>\n",
       "      <td>460,000</td>\n",
       "    </tr>\n",
       "    <tr>\n",
       "      <th>...</th>\n",
       "      <td>...</td>\n",
       "      <td>...</td>\n",
       "      <td>...</td>\n",
       "      <td>...</td>\n",
       "      <td>...</td>\n",
       "      <td>...</td>\n",
       "      <td>...</td>\n",
       "      <td>...</td>\n",
       "      <td>...</td>\n",
       "      <td>...</td>\n",
       "      <td>...</td>\n",
       "      <td>...</td>\n",
       "      <td>...</td>\n",
       "      <td>...</td>\n",
       "    </tr>\n",
       "    <tr>\n",
       "      <th>3907</th>\n",
       "      <td>NEGERI SEMBILAN</td>\n",
       "      <td>SEREMBAN 2</td>\n",
       "      <td>CLUSTER HOUSE</td>\n",
       "      <td>FREEHOLD</td>\n",
       "      <td>2</td>\n",
       "      <td>NaN</td>\n",
       "      <td>1,798 ft²</td>\n",
       "      <td>NaN</td>\n",
       "      <td>3.9</td>\n",
       "      <td>3183.760379</td>\n",
       "      <td>2.6</td>\n",
       "      <td>8.2</td>\n",
       "      <td>4.65</td>\n",
       "      <td>405,000</td>\n",
       "    </tr>\n",
       "    <tr>\n",
       "      <th>3908</th>\n",
       "      <td>NEGERI SEMBILAN</td>\n",
       "      <td>SEREMBAN 2</td>\n",
       "      <td>CLUSTER HOUSE</td>\n",
       "      <td>FREEHOLD</td>\n",
       "      <td>2</td>\n",
       "      <td>4.0</td>\n",
       "      <td>1,798 ft²</td>\n",
       "      <td>1,492 ft²</td>\n",
       "      <td>3.9</td>\n",
       "      <td>3144.454695</td>\n",
       "      <td>2.6</td>\n",
       "      <td>8.2</td>\n",
       "      <td>4.65</td>\n",
       "      <td>400,000</td>\n",
       "    </tr>\n",
       "    <tr>\n",
       "      <th>3909</th>\n",
       "      <td>NEGERI SEMBILAN</td>\n",
       "      <td>SEREMBAN 2</td>\n",
       "      <td>CLUSTER HOUSE</td>\n",
       "      <td>FREEHOLD</td>\n",
       "      <td>2</td>\n",
       "      <td>4.0</td>\n",
       "      <td>1,798 ft²</td>\n",
       "      <td>1,492 ft²</td>\n",
       "      <td>3.9</td>\n",
       "      <td>3144.454695</td>\n",
       "      <td>2.6</td>\n",
       "      <td>8.2</td>\n",
       "      <td>4.65</td>\n",
       "      <td>400,000</td>\n",
       "    </tr>\n",
       "    <tr>\n",
       "      <th>3910</th>\n",
       "      <td>NEGERI SEMBILAN</td>\n",
       "      <td>SEREMBAN 2</td>\n",
       "      <td>CLUSTER HOUSE</td>\n",
       "      <td>FREEHOLD</td>\n",
       "      <td>2</td>\n",
       "      <td>4.0</td>\n",
       "      <td>1,798 ft²</td>\n",
       "      <td>1,492 ft²</td>\n",
       "      <td>3.9</td>\n",
       "      <td>2987.231961</td>\n",
       "      <td>2.6</td>\n",
       "      <td>8.2</td>\n",
       "      <td>4.65</td>\n",
       "      <td>380,000</td>\n",
       "    </tr>\n",
       "    <tr>\n",
       "      <th>3911</th>\n",
       "      <td>NEGERI SEMBILAN</td>\n",
       "      <td>SEREMBAN 2</td>\n",
       "      <td>CLUSTER HOUSE</td>\n",
       "      <td>FREEHOLD</td>\n",
       "      <td>2</td>\n",
       "      <td>4.0</td>\n",
       "      <td>1,798 ft²</td>\n",
       "      <td>1,492 ft²</td>\n",
       "      <td>4.1</td>\n",
       "      <td>2722.017491</td>\n",
       "      <td>2.6</td>\n",
       "      <td>8.2</td>\n",
       "      <td>4.65</td>\n",
       "      <td>338,000</td>\n",
       "    </tr>\n",
       "  </tbody>\n",
       "</table>\n",
       "<p>3842 rows × 14 columns</p>\n",
       "</div>"
      ],
      "text/plain": [
       "                State    District  Building Type     Tenure Floors  Rooms  \\\n",
       "0              MELAKA       PEGOH       BUNGALOW  LEASEHOLD      1    4.0   \n",
       "1              MELAKA       PEGOH       BUNGALOW  LEASEHOLD      1    4.0   \n",
       "2              MELAKA       PEGOH       BUNGALOW  LEASEHOLD      1    4.0   \n",
       "3              MELAKA       PEGOH       BUNGALOW  LEASEHOLD      1    4.0   \n",
       "4              MELAKA       PEGOH       BUNGALOW  LEASEHOLD     1½    3.0   \n",
       "...               ...         ...            ...        ...    ...    ...   \n",
       "3907  NEGERI SEMBILAN  SEREMBAN 2  CLUSTER HOUSE   FREEHOLD      2    NaN   \n",
       "3908  NEGERI SEMBILAN  SEREMBAN 2  CLUSTER HOUSE   FREEHOLD      2    4.0   \n",
       "3909  NEGERI SEMBILAN  SEREMBAN 2  CLUSTER HOUSE   FREEHOLD      2    4.0   \n",
       "3910  NEGERI SEMBILAN  SEREMBAN 2  CLUSTER HOUSE   FREEHOLD      2    4.0   \n",
       "3911  NEGERI SEMBILAN  SEREMBAN 2  CLUSTER HOUSE   FREEHOLD      2    4.0   \n",
       "\n",
       "      Land Area Built Up Area  Interest Rate  Minimum Income Formula  School  \\\n",
       "0     7,147 ft²     1,344 ft²            3.8             4271.275717     7.4   \n",
       "1     6,663 ft²     1,335 ft²            3.9             3930.568369     7.4   \n",
       "2     6,168 ft²     1,344 ft²            3.9             3812.651318     7.4   \n",
       "3     7,169 ft²     1,344 ft²            3.9             3773.345634     7.4   \n",
       "4     6,146 ft²     1,670 ft²            3.9             3616.122900     5.0   \n",
       "...         ...           ...            ...                     ...     ...   \n",
       "3907  1,798 ft²           NaN            3.9             3183.760379     2.6   \n",
       "3908  1,798 ft²     1,492 ft²            3.9             3144.454695     2.6   \n",
       "3909  1,798 ft²     1,492 ft²            3.9             3144.454695     2.6   \n",
       "3910  1,798 ft²     1,492 ft²            3.9             2987.231961     2.6   \n",
       "3911  1,798 ft²     1,492 ft²            4.1             2722.017491     2.6   \n",
       "\n",
       "      Hospital  Comercial Areas Purchase Price  \n",
       "0         11.8             8.30        550,000  \n",
       "1         13.1             8.30        500,000  \n",
       "2         13.1             8.30        485,000  \n",
       "3         13.1             8.30        480,000  \n",
       "4          8.5             5.10        460,000  \n",
       "...        ...              ...            ...  \n",
       "3907       8.2             4.65        405,000  \n",
       "3908       8.2             4.65        400,000  \n",
       "3909       8.2             4.65        400,000  \n",
       "3910       8.2             4.65        380,000  \n",
       "3911       8.2             4.65        338,000  \n",
       "\n",
       "[3842 rows x 14 columns]"
      ]
     },
     "execution_count": 14,
     "metadata": {},
     "output_type": "execute_result"
    }
   ],
   "source": [
    "house_price3"
   ]
  },
  {
   "cell_type": "markdown",
   "id": "ab4ea276",
   "metadata": {},
   "source": [
    "## Check Null Value"
   ]
  },
  {
   "cell_type": "code",
   "execution_count": 15,
   "id": "c52e2671",
   "metadata": {
    "scrolled": false
   },
   "outputs": [
    {
     "data": {
      "text/plain": [
       "State                       0\n",
       "District                    1\n",
       "Building Type               0\n",
       "Tenure                      0\n",
       "Floors                      0\n",
       "Rooms                     568\n",
       "Land Area                   0\n",
       "Built Up Area             568\n",
       "Interest Rate               0\n",
       "Minimum Income Formula      0\n",
       "School                      0\n",
       "Hospital                    0\n",
       "Comercial Areas             0\n",
       "Purchase Price              0\n",
       "dtype: int64"
      ]
     },
     "execution_count": 15,
     "metadata": {},
     "output_type": "execute_result"
    }
   ],
   "source": [
    "house_price3.isna().sum()"
   ]
  },
  {
   "cell_type": "markdown",
   "id": "0d07a0ee",
   "metadata": {},
   "source": [
    "# Count Categorical Type"
   ]
  },
  {
   "cell_type": "code",
   "execution_count": null,
   "id": "549e5086",
   "metadata": {},
   "outputs": [],
   "source": [
    "house_price3['Building Type'].value_counts()"
   ]
  },
  {
   "cell_type": "code",
   "execution_count": null,
   "id": "bba9f599",
   "metadata": {},
   "outputs": [],
   "source": [
    "house_price3['Floors'].value_counts()"
   ]
  },
  {
   "cell_type": "code",
   "execution_count": null,
   "id": "232c5f0f",
   "metadata": {},
   "outputs": [],
   "source": [
    "house_price3['District'].value_counts()"
   ]
  },
  {
   "cell_type": "markdown",
   "id": "608625a4",
   "metadata": {},
   "source": [
    "## Change data type"
   ]
  },
  {
   "cell_type": "code",
   "execution_count": 16,
   "id": "29d9e98e",
   "metadata": {},
   "outputs": [],
   "source": [
    "house_price3[\"Land Area\"] = house_price3[\"Land Area\"].str.replace(',','').str.replace('ft²', '').astype(float)"
   ]
  },
  {
   "cell_type": "code",
   "execution_count": 17,
   "id": "4d3bf166",
   "metadata": {},
   "outputs": [],
   "source": [
    "house_price3[\"Built Up Area\"] = house_price3[\"Built Up Area\"].str.replace(',','').str.replace('ft²', '').astype(float)"
   ]
  },
  {
   "cell_type": "code",
   "execution_count": 18,
   "id": "b433a1ea",
   "metadata": {},
   "outputs": [],
   "source": [
    "house_price3['Floors'] =  house_price[\"Floors\"].str.replace('1½','1.5').str.replace('2½','2.5').str.replace('3½','3.5').astype(float)"
   ]
  },
  {
   "cell_type": "code",
   "execution_count": 19,
   "id": "83ba6139",
   "metadata": {},
   "outputs": [],
   "source": [
    "house_price3['Purchase Price'] =  house_price3[\"Purchase Price\"].str.replace(',','').astype(float)"
   ]
  },
  {
   "cell_type": "code",
   "execution_count": 20,
   "id": "8fe2b5b5",
   "metadata": {},
   "outputs": [],
   "source": [
    "house_price3['State']= pd.Categorical(house_price3['State'],  ordered=True)"
   ]
  },
  {
   "cell_type": "code",
   "execution_count": 21,
   "id": "28ff989b",
   "metadata": {},
   "outputs": [],
   "source": [
    "house_price3['District']= pd.Categorical(house_price3['District'],  ordered=True)"
   ]
  },
  {
   "cell_type": "code",
   "execution_count": 22,
   "id": "3c6f3c4d",
   "metadata": {},
   "outputs": [],
   "source": [
    "house_price3['Building Type']= pd.Categorical(house_price3['Building Type'],  ordered=True)"
   ]
  },
  {
   "cell_type": "code",
   "execution_count": 23,
   "id": "b37e2cae",
   "metadata": {},
   "outputs": [],
   "source": [
    "house_price3['Tenure']= pd.Categorical(house_price3['Tenure'],  ordered=True)"
   ]
  },
  {
   "cell_type": "code",
   "execution_count": 24,
   "id": "af36ee8d",
   "metadata": {},
   "outputs": [
    {
     "name": "stdout",
     "output_type": "stream",
     "text": [
      "<class 'pandas.core.frame.DataFrame'>\n",
      "Int64Index: 3842 entries, 0 to 3911\n",
      "Data columns (total 14 columns):\n",
      " #   Column                  Non-Null Count  Dtype   \n",
      "---  ------                  --------------  -----   \n",
      " 0   State                   3842 non-null   category\n",
      " 1   District                3841 non-null   category\n",
      " 2   Building Type           3842 non-null   category\n",
      " 3   Tenure                  3842 non-null   category\n",
      " 4   Floors                  3842 non-null   float64 \n",
      " 5   Rooms                   3274 non-null   float64 \n",
      " 6   Land Area               3842 non-null   float64 \n",
      " 7   Built Up Area           3274 non-null   float64 \n",
      " 8   Interest Rate           3842 non-null   float64 \n",
      " 9   Minimum Income Formula  3842 non-null   float64 \n",
      " 10  School                  3842 non-null   float64 \n",
      " 11  Hospital                3842 non-null   float64 \n",
      " 12  Comercial Areas         3842 non-null   float64 \n",
      " 13  Purchase Price          3842 non-null   float64 \n",
      "dtypes: category(4), float64(10)\n",
      "memory usage: 351.6 KB\n"
     ]
    }
   ],
   "source": [
    "house_price3.info()"
   ]
  },
  {
   "cell_type": "markdown",
   "id": "fe7ee7d7",
   "metadata": {},
   "source": [
    "## Descriptive Analysis"
   ]
  },
  {
   "cell_type": "code",
   "execution_count": null,
   "id": "a58566f9",
   "metadata": {},
   "outputs": [],
   "source": [
    "house_price3['Tenure'].describe() #describe Tenure dataset"
   ]
  },
  {
   "cell_type": "code",
   "execution_count": null,
   "id": "c426971a",
   "metadata": {},
   "outputs": [],
   "source": [
    "house_price3['District'].describe() #describe District dataset"
   ]
  },
  {
   "cell_type": "code",
   "execution_count": null,
   "id": "db9c1ef3",
   "metadata": {},
   "outputs": [],
   "source": [
    "house_price3['State'].describe() #describe  State dataset"
   ]
  },
  {
   "cell_type": "code",
   "execution_count": null,
   "id": "1924390e",
   "metadata": {},
   "outputs": [],
   "source": [
    "house_price3['Building Type'].describe() #describe Buildng Type dataset"
   ]
  },
  {
   "cell_type": "code",
   "execution_count": null,
   "id": "6499fe63",
   "metadata": {},
   "outputs": [],
   "source": [
    "house_price3.describe() #describe House Price distribution"
   ]
  },
  {
   "cell_type": "code",
   "execution_count": null,
   "id": "1a1a9a04",
   "metadata": {},
   "outputs": [],
   "source": [
    "house_price3['State'].hist(bins=10, grid=None)\n",
    "plt.title(\"State\")"
   ]
  },
  {
   "cell_type": "code",
   "execution_count": null,
   "id": "2f79b23a",
   "metadata": {},
   "outputs": [],
   "source": [
    "SMALL_SIZE = 8\n",
    "MEDIUM_SIZE = 18\n",
    "BIGGER_SIZE = 12\n"
   ]
  },
  {
   "cell_type": "code",
   "execution_count": null,
   "id": "1868cb80",
   "metadata": {},
   "outputs": [],
   "source": [
    "house_price3['Building Type'].hist(bins=30, grid=None)\n",
    "plt.title(\"Building Type\")\n",
    "plt.rc('xtick', labelsize=MEDIUM_SIZE) "
   ]
  },
  {
   "cell_type": "code",
   "execution_count": null,
   "id": "a7136ddc",
   "metadata": {},
   "outputs": [],
   "source": [
    "\n",
    "house_price3['Tenure'].hist(bins=2, grid=None)\n",
    "plt.xlabel('Tenure', fontsize=18)\n",
    "plt.ylabel('count', fontsize=18) "
   ]
  },
  {
   "cell_type": "code",
   "execution_count": null,
   "id": "f643fcfc",
   "metadata": {},
   "outputs": [],
   "source": [
    "house_price3['District'].hist(bins=10, grid=None)\n",
    "plt.title(\"District\")"
   ]
  },
  {
   "cell_type": "code",
   "execution_count": null,
   "id": "75519097",
   "metadata": {},
   "outputs": [],
   "source": []
  },
  {
   "cell_type": "markdown",
   "id": "8f7ee1ca",
   "metadata": {},
   "source": [
    "## Feature Engineering  - transform category data into number using labelencoder"
   ]
  },
  {
   "cell_type": "code",
   "execution_count": 25,
   "id": "7cf5d50e",
   "metadata": {},
   "outputs": [],
   "source": [
    "labelencoder=LabelEncoder()\n",
    "\n",
    "house_price3['Tenure'] = labelencoder.fit_transform(house_price3['Tenure']) "
   ]
  },
  {
   "cell_type": "code",
   "execution_count": 26,
   "id": "0b7c1a2b",
   "metadata": {},
   "outputs": [],
   "source": [
    "labelencoder=LabelEncoder()\n",
    "\n",
    "house_price3['Building Type'] = labelencoder.fit_transform(house_price3['Building Type'])"
   ]
  },
  {
   "cell_type": "code",
   "execution_count": 27,
   "id": "f226cfe9",
   "metadata": {},
   "outputs": [],
   "source": [
    "labelencoder=LabelEncoder()\n",
    "\n",
    "\n",
    "house_price3['State'] = labelencoder.fit_transform(house_price3['State'])"
   ]
  },
  {
   "cell_type": "code",
   "execution_count": 28,
   "id": "0799390a",
   "metadata": {},
   "outputs": [],
   "source": [
    "labelencoder=LabelEncoder()\n",
    "\n",
    "\n",
    "house_price3['District'] = labelencoder.fit_transform(house_price3['District'])"
   ]
  },
  {
   "cell_type": "code",
   "execution_count": 29,
   "id": "46e53b33",
   "metadata": {},
   "outputs": [
    {
     "data": {
      "text/html": [
       "<div>\n",
       "<style scoped>\n",
       "    .dataframe tbody tr th:only-of-type {\n",
       "        vertical-align: middle;\n",
       "    }\n",
       "\n",
       "    .dataframe tbody tr th {\n",
       "        vertical-align: top;\n",
       "    }\n",
       "\n",
       "    .dataframe thead th {\n",
       "        text-align: right;\n",
       "    }\n",
       "</style>\n",
       "<table border=\"1\" class=\"dataframe\">\n",
       "  <thead>\n",
       "    <tr style=\"text-align: right;\">\n",
       "      <th></th>\n",
       "      <th>State</th>\n",
       "      <th>District</th>\n",
       "      <th>Building Type</th>\n",
       "      <th>Tenure</th>\n",
       "      <th>Floors</th>\n",
       "      <th>Rooms</th>\n",
       "      <th>Land Area</th>\n",
       "      <th>Built Up Area</th>\n",
       "      <th>Interest Rate</th>\n",
       "      <th>Minimum Income Formula</th>\n",
       "      <th>School</th>\n",
       "      <th>Hospital</th>\n",
       "      <th>Comercial Areas</th>\n",
       "      <th>Purchase Price</th>\n",
       "    </tr>\n",
       "  </thead>\n",
       "  <tbody>\n",
       "    <tr>\n",
       "      <th>0</th>\n",
       "      <td>0</td>\n",
       "      <td>61</td>\n",
       "      <td>0</td>\n",
       "      <td>1</td>\n",
       "      <td>1.0</td>\n",
       "      <td>4.0</td>\n",
       "      <td>7147.0</td>\n",
       "      <td>1344.0</td>\n",
       "      <td>3.8</td>\n",
       "      <td>4271.275717</td>\n",
       "      <td>7.4</td>\n",
       "      <td>11.8</td>\n",
       "      <td>8.3</td>\n",
       "      <td>550000.0</td>\n",
       "    </tr>\n",
       "    <tr>\n",
       "      <th>1</th>\n",
       "      <td>0</td>\n",
       "      <td>61</td>\n",
       "      <td>0</td>\n",
       "      <td>1</td>\n",
       "      <td>1.0</td>\n",
       "      <td>4.0</td>\n",
       "      <td>6663.0</td>\n",
       "      <td>1335.0</td>\n",
       "      <td>3.9</td>\n",
       "      <td>3930.568369</td>\n",
       "      <td>7.4</td>\n",
       "      <td>13.1</td>\n",
       "      <td>8.3</td>\n",
       "      <td>500000.0</td>\n",
       "    </tr>\n",
       "    <tr>\n",
       "      <th>2</th>\n",
       "      <td>0</td>\n",
       "      <td>61</td>\n",
       "      <td>0</td>\n",
       "      <td>1</td>\n",
       "      <td>1.0</td>\n",
       "      <td>4.0</td>\n",
       "      <td>6168.0</td>\n",
       "      <td>1344.0</td>\n",
       "      <td>3.9</td>\n",
       "      <td>3812.651318</td>\n",
       "      <td>7.4</td>\n",
       "      <td>13.1</td>\n",
       "      <td>8.3</td>\n",
       "      <td>485000.0</td>\n",
       "    </tr>\n",
       "    <tr>\n",
       "      <th>3</th>\n",
       "      <td>0</td>\n",
       "      <td>61</td>\n",
       "      <td>0</td>\n",
       "      <td>1</td>\n",
       "      <td>1.0</td>\n",
       "      <td>4.0</td>\n",
       "      <td>7169.0</td>\n",
       "      <td>1344.0</td>\n",
       "      <td>3.9</td>\n",
       "      <td>3773.345634</td>\n",
       "      <td>7.4</td>\n",
       "      <td>13.1</td>\n",
       "      <td>8.3</td>\n",
       "      <td>480000.0</td>\n",
       "    </tr>\n",
       "    <tr>\n",
       "      <th>4</th>\n",
       "      <td>0</td>\n",
       "      <td>61</td>\n",
       "      <td>0</td>\n",
       "      <td>1</td>\n",
       "      <td>1.5</td>\n",
       "      <td>3.0</td>\n",
       "      <td>6146.0</td>\n",
       "      <td>1670.0</td>\n",
       "      <td>3.9</td>\n",
       "      <td>3616.122900</td>\n",
       "      <td>5.0</td>\n",
       "      <td>8.5</td>\n",
       "      <td>5.1</td>\n",
       "      <td>460000.0</td>\n",
       "    </tr>\n",
       "  </tbody>\n",
       "</table>\n",
       "</div>"
      ],
      "text/plain": [
       "   State  District  Building Type  Tenure  Floors  Rooms  Land Area  \\\n",
       "0      0        61              0       1     1.0    4.0     7147.0   \n",
       "1      0        61              0       1     1.0    4.0     6663.0   \n",
       "2      0        61              0       1     1.0    4.0     6168.0   \n",
       "3      0        61              0       1     1.0    4.0     7169.0   \n",
       "4      0        61              0       1     1.5    3.0     6146.0   \n",
       "\n",
       "   Built Up Area  Interest Rate  Minimum Income Formula  School  Hospital  \\\n",
       "0         1344.0            3.8             4271.275717     7.4      11.8   \n",
       "1         1335.0            3.9             3930.568369     7.4      13.1   \n",
       "2         1344.0            3.9             3812.651318     7.4      13.1   \n",
       "3         1344.0            3.9             3773.345634     7.4      13.1   \n",
       "4         1670.0            3.9             3616.122900     5.0       8.5   \n",
       "\n",
       "   Comercial Areas  Purchase Price  \n",
       "0              8.3        550000.0  \n",
       "1              8.3        500000.0  \n",
       "2              8.3        485000.0  \n",
       "3              8.3        480000.0  \n",
       "4              5.1        460000.0  "
      ]
     },
     "execution_count": 29,
     "metadata": {},
     "output_type": "execute_result"
    }
   ],
   "source": [
    "house_price3.head(5)"
   ]
  },
  {
   "cell_type": "code",
   "execution_count": 30,
   "id": "b8c176a5",
   "metadata": {},
   "outputs": [
    {
     "name": "stdout",
     "output_type": "stream",
     "text": [
      "<class 'pandas.core.frame.DataFrame'>\n",
      "Int64Index: 3842 entries, 0 to 3911\n",
      "Data columns (total 14 columns):\n",
      " #   Column                  Non-Null Count  Dtype  \n",
      "---  ------                  --------------  -----  \n",
      " 0   State                   3842 non-null   int32  \n",
      " 1   District                3842 non-null   int32  \n",
      " 2   Building Type           3842 non-null   int32  \n",
      " 3   Tenure                  3842 non-null   int32  \n",
      " 4   Floors                  3842 non-null   float64\n",
      " 5   Rooms                   3274 non-null   float64\n",
      " 6   Land Area               3842 non-null   float64\n",
      " 7   Built Up Area           3274 non-null   float64\n",
      " 8   Interest Rate           3842 non-null   float64\n",
      " 9   Minimum Income Formula  3842 non-null   float64\n",
      " 10  School                  3842 non-null   float64\n",
      " 11  Hospital                3842 non-null   float64\n",
      " 12  Comercial Areas         3842 non-null   float64\n",
      " 13  Purchase Price          3842 non-null   float64\n",
      "dtypes: float64(10), int32(4)\n",
      "memory usage: 390.2 KB\n"
     ]
    }
   ],
   "source": [
    "house_price3.info()"
   ]
  },
  {
   "cell_type": "markdown",
   "id": "18ea6ffa",
   "metadata": {},
   "source": [
    "## Imputed Missing Value"
   ]
  },
  {
   "cell_type": "code",
   "execution_count": 31,
   "id": "4c5fb5aa",
   "metadata": {},
   "outputs": [],
   "source": [
    "house_price3['Rooms'].fillna(house_price3['Rooms'].median(), inplace=True) # using median as it is a numerical data. Mean is not suitable as data is skewed. "
   ]
  },
  {
   "cell_type": "code",
   "execution_count": 32,
   "id": "36d5b9fa",
   "metadata": {},
   "outputs": [],
   "source": [
    "house_price3= house_price3.fillna({\n",
    "    'Built Up Area': house_price3['Built Up Area'].median() # using median as it is a numerical data. Mean is not suitable as data is skewed. \n",
    "})"
   ]
  },
  {
   "cell_type": "code",
   "execution_count": 33,
   "id": "3db5c5bd",
   "metadata": {},
   "outputs": [
    {
     "data": {
      "text/plain": [
       "State                     0\n",
       "District                  0\n",
       "Building Type             0\n",
       "Tenure                    0\n",
       "Floors                    0\n",
       "Rooms                     0\n",
       "Land Area                 0\n",
       "Built Up Area             0\n",
       "Interest Rate             0\n",
       "Minimum Income Formula    0\n",
       "School                    0\n",
       "Hospital                  0\n",
       "Comercial Areas           0\n",
       "Purchase Price            0\n",
       "dtype: int64"
      ]
     },
     "execution_count": 33,
     "metadata": {},
     "output_type": "execute_result"
    }
   ],
   "source": [
    "house_price3.isna().sum()"
   ]
  },
  {
   "cell_type": "markdown",
   "id": "1f7945cc",
   "metadata": {},
   "source": [
    "# EDA"
   ]
  },
  {
   "cell_type": "code",
   "execution_count": null,
   "id": "befc2bc0",
   "metadata": {},
   "outputs": [],
   "source": [
    "sns.set(rc={'figure.figsize':(11.7,8.27)})\n",
    "plt.hist(house_price3['Built Up Area'],color =\"brown\", bins=30)\n",
    "plt.xlabel(\"House prices in RM1000\")\n",
    "plt.show()"
   ]
  },
  {
   "cell_type": "code",
   "execution_count": null,
   "id": "2b1df17c",
   "metadata": {},
   "outputs": [],
   "source": [
    "from scipy import stats"
   ]
  },
  {
   "cell_type": "code",
   "execution_count": null,
   "id": "09df2235",
   "metadata": {},
   "outputs": [],
   "source": [
    "fig = plt.figure()\n",
    "res = stats.probplot(house_price3['Built Up Area'], plot=plt)"
   ]
  },
  {
   "cell_type": "code",
   "execution_count": null,
   "id": "aa3715ba",
   "metadata": {},
   "outputs": [],
   "source": [
    "house_price3['Log_Built Up Area']=np.log(house_price3['Built Up Area']+1)\n",
    "plt.hist(house_price3['Log_Built Up Area'],color =\"brown\", bins=30)\n",
    "plt.xlabel(\"House prices in $1000\")\n",
    "plt.show()"
   ]
  },
  {
   "cell_type": "code",
   "execution_count": null,
   "id": "5ecb005c",
   "metadata": {},
   "outputs": [],
   "source": [
    "sns.boxplot(x=house_price3['Purchase Price'])"
   ]
  },
  {
   "cell_type": "markdown",
   "id": "282036d3",
   "metadata": {},
   "source": [
    "# Outlier"
   ]
  },
  {
   "cell_type": "code",
   "execution_count": 34,
   "id": "f77a4cdf",
   "metadata": {},
   "outputs": [],
   "source": [
    "import scipy as sp\n",
    "from scipy.stats import chi2\n",
    "from sklearn.covariance import MinCovDet\n"
   ]
  },
  {
   "cell_type": "code",
   "execution_count": 35,
   "id": "a6f7ad8f",
   "metadata": {},
   "outputs": [],
   "source": [
    "def mahalanobis(x=None, data=None, cov=None):\n",
    "    \"\"\"Compute the Mahalanobis Distance between each row of x and the data  \n",
    "    x    : vector or matrix of data with, say, p columns.\n",
    "    data : ndarray of the distribution from which Mahalanobis distance of each observation of x is to be computed.\n",
    "    cov  : covariance matrix (p x p) of the distribution. If None, will be computed from data.\n",
    "    \"\"\"\n",
    "    x_minus_mu = x - np.mean(data)\n",
    "    if not cov:\n",
    "        cov = np.cov(data.values.T)\n",
    "    inv_covmat = sp.linalg.inv(cov)\n",
    "    left_term = np.dot(x_minus_mu, inv_covmat)\n",
    "    mahal = np.dot(left_term, x_minus_mu.T)\n",
    "    return mahal.diagonal()\n"
   ]
  },
  {
   "cell_type": "code",
   "execution_count": 38,
   "id": "a1405788",
   "metadata": {},
   "outputs": [
    {
     "data": {
      "text/html": [
       "<div>\n",
       "<style scoped>\n",
       "    .dataframe tbody tr th:only-of-type {\n",
       "        vertical-align: middle;\n",
       "    }\n",
       "\n",
       "    .dataframe tbody tr th {\n",
       "        vertical-align: top;\n",
       "    }\n",
       "\n",
       "    .dataframe thead th {\n",
       "        text-align: right;\n",
       "    }\n",
       "</style>\n",
       "<table border=\"1\" class=\"dataframe\">\n",
       "  <thead>\n",
       "    <tr style=\"text-align: right;\">\n",
       "      <th></th>\n",
       "      <th>Land Area</th>\n",
       "      <th>Floors</th>\n",
       "      <th>Rooms</th>\n",
       "      <th>Built Up Area</th>\n",
       "      <th>Minimum Income Formula</th>\n",
       "      <th>Interest Rate</th>\n",
       "      <th>School</th>\n",
       "      <th>Hospital</th>\n",
       "      <th>Comercial Areas</th>\n",
       "      <th>mahala</th>\n",
       "    </tr>\n",
       "  </thead>\n",
       "  <tbody>\n",
       "    <tr>\n",
       "      <th>0</th>\n",
       "      <td>7147.0</td>\n",
       "      <td>1.0</td>\n",
       "      <td>4.0</td>\n",
       "      <td>1344.0</td>\n",
       "      <td>4271.275717</td>\n",
       "      <td>3.8</td>\n",
       "      <td>7.4</td>\n",
       "      <td>11.8</td>\n",
       "      <td>8.3</td>\n",
       "      <td>34.726682</td>\n",
       "    </tr>\n",
       "    <tr>\n",
       "      <th>1</th>\n",
       "      <td>6663.0</td>\n",
       "      <td>1.0</td>\n",
       "      <td>4.0</td>\n",
       "      <td>1335.0</td>\n",
       "      <td>3930.568369</td>\n",
       "      <td>3.9</td>\n",
       "      <td>7.4</td>\n",
       "      <td>13.1</td>\n",
       "      <td>8.3</td>\n",
       "      <td>28.311675</td>\n",
       "    </tr>\n",
       "    <tr>\n",
       "      <th>2</th>\n",
       "      <td>6168.0</td>\n",
       "      <td>1.0</td>\n",
       "      <td>4.0</td>\n",
       "      <td>1344.0</td>\n",
       "      <td>3812.651318</td>\n",
       "      <td>3.9</td>\n",
       "      <td>7.4</td>\n",
       "      <td>13.1</td>\n",
       "      <td>8.3</td>\n",
       "      <td>26.839489</td>\n",
       "    </tr>\n",
       "    <tr>\n",
       "      <th>3</th>\n",
       "      <td>7169.0</td>\n",
       "      <td>1.0</td>\n",
       "      <td>4.0</td>\n",
       "      <td>1344.0</td>\n",
       "      <td>3773.345634</td>\n",
       "      <td>3.9</td>\n",
       "      <td>7.4</td>\n",
       "      <td>13.1</td>\n",
       "      <td>8.3</td>\n",
       "      <td>29.988290</td>\n",
       "    </tr>\n",
       "    <tr>\n",
       "      <th>4</th>\n",
       "      <td>6146.0</td>\n",
       "      <td>1.5</td>\n",
       "      <td>3.0</td>\n",
       "      <td>1670.0</td>\n",
       "      <td>3616.122900</td>\n",
       "      <td>3.9</td>\n",
       "      <td>5.0</td>\n",
       "      <td>8.5</td>\n",
       "      <td>5.1</td>\n",
       "      <td>13.855935</td>\n",
       "    </tr>\n",
       "  </tbody>\n",
       "</table>\n",
       "</div>"
      ],
      "text/plain": [
       "   Land Area  Floors  Rooms  Built Up Area  Minimum Income Formula  \\\n",
       "0     7147.0     1.0    4.0         1344.0             4271.275717   \n",
       "1     6663.0     1.0    4.0         1335.0             3930.568369   \n",
       "2     6168.0     1.0    4.0         1344.0             3812.651318   \n",
       "3     7169.0     1.0    4.0         1344.0             3773.345634   \n",
       "4     6146.0     1.5    3.0         1670.0             3616.122900   \n",
       "\n",
       "   Interest Rate  School  Hospital  Comercial Areas     mahala  \n",
       "0            3.8     7.4      11.8              8.3  34.726682  \n",
       "1            3.9     7.4      13.1              8.3  28.311675  \n",
       "2            3.9     7.4      13.1              8.3  26.839489  \n",
       "3            3.9     7.4      13.1              8.3  29.988290  \n",
       "4            3.9     5.0       8.5              5.1  13.855935  "
      ]
     },
     "execution_count": 38,
     "metadata": {},
     "output_type": "execute_result"
    }
   ],
   "source": [
    "df_x = house_price3[['Land Area','Floors','Rooms','Built Up Area', 'Minimum Income Formula','Interest Rate','School','Hospital','Comercial Areas']].head(500)\n",
    "df_x['mahala'] = mahalanobis(x=df_x, data=house_price3[['Land Area','Floors','Rooms','Built Up Area', 'Minimum Income Formula','Interest Rate','School','Hospital','Comercial Areas']])\n",
    "df_x.head()"
   ]
  },
  {
   "cell_type": "code",
   "execution_count": 42,
   "id": "31c5999c",
   "metadata": {},
   "outputs": [
    {
     "data": {
      "text/html": [
       "<div>\n",
       "<style scoped>\n",
       "    .dataframe tbody tr th:only-of-type {\n",
       "        vertical-align: middle;\n",
       "    }\n",
       "\n",
       "    .dataframe tbody tr th {\n",
       "        vertical-align: top;\n",
       "    }\n",
       "\n",
       "    .dataframe thead th {\n",
       "        text-align: right;\n",
       "    }\n",
       "</style>\n",
       "<table border=\"1\" class=\"dataframe\">\n",
       "  <thead>\n",
       "    <tr style=\"text-align: right;\">\n",
       "      <th></th>\n",
       "      <th>Land Area</th>\n",
       "      <th>Floors</th>\n",
       "      <th>Rooms</th>\n",
       "      <th>Built Up Area</th>\n",
       "      <th>Minimum Income Formula</th>\n",
       "      <th>Interest Rate</th>\n",
       "      <th>School</th>\n",
       "      <th>Hospital</th>\n",
       "      <th>Comercial Areas</th>\n",
       "      <th>mahala</th>\n",
       "      <th>p_value</th>\n",
       "    </tr>\n",
       "  </thead>\n",
       "  <tbody>\n",
       "    <tr>\n",
       "      <th>0</th>\n",
       "      <td>7147.0</td>\n",
       "      <td>1.0</td>\n",
       "      <td>4.0</td>\n",
       "      <td>1344.0</td>\n",
       "      <td>4271.275717</td>\n",
       "      <td>3.8</td>\n",
       "      <td>7.4</td>\n",
       "      <td>11.8</td>\n",
       "      <td>8.3</td>\n",
       "      <td>34.726682</td>\n",
       "      <td>2.878702e-08</td>\n",
       "    </tr>\n",
       "    <tr>\n",
       "      <th>1</th>\n",
       "      <td>6663.0</td>\n",
       "      <td>1.0</td>\n",
       "      <td>4.0</td>\n",
       "      <td>1335.0</td>\n",
       "      <td>3930.568369</td>\n",
       "      <td>3.9</td>\n",
       "      <td>7.4</td>\n",
       "      <td>13.1</td>\n",
       "      <td>8.3</td>\n",
       "      <td>28.311675</td>\n",
       "      <td>7.115376e-07</td>\n",
       "    </tr>\n",
       "    <tr>\n",
       "      <th>2</th>\n",
       "      <td>6168.0</td>\n",
       "      <td>1.0</td>\n",
       "      <td>4.0</td>\n",
       "      <td>1344.0</td>\n",
       "      <td>3812.651318</td>\n",
       "      <td>3.9</td>\n",
       "      <td>7.4</td>\n",
       "      <td>13.1</td>\n",
       "      <td>8.3</td>\n",
       "      <td>26.839489</td>\n",
       "      <td>1.485522e-06</td>\n",
       "    </tr>\n",
       "    <tr>\n",
       "      <th>3</th>\n",
       "      <td>7169.0</td>\n",
       "      <td>1.0</td>\n",
       "      <td>4.0</td>\n",
       "      <td>1344.0</td>\n",
       "      <td>3773.345634</td>\n",
       "      <td>3.9</td>\n",
       "      <td>7.4</td>\n",
       "      <td>13.1</td>\n",
       "      <td>8.3</td>\n",
       "      <td>29.988290</td>\n",
       "      <td>3.076987e-07</td>\n",
       "    </tr>\n",
       "    <tr>\n",
       "      <th>4</th>\n",
       "      <td>6146.0</td>\n",
       "      <td>1.5</td>\n",
       "      <td>3.0</td>\n",
       "      <td>1670.0</td>\n",
       "      <td>3616.122900</td>\n",
       "      <td>3.9</td>\n",
       "      <td>5.0</td>\n",
       "      <td>8.5</td>\n",
       "      <td>5.1</td>\n",
       "      <td>13.855935</td>\n",
       "      <td>9.799907e-04</td>\n",
       "    </tr>\n",
       "    <tr>\n",
       "      <th>...</th>\n",
       "      <td>...</td>\n",
       "      <td>...</td>\n",
       "      <td>...</td>\n",
       "      <td>...</td>\n",
       "      <td>...</td>\n",
       "      <td>...</td>\n",
       "      <td>...</td>\n",
       "      <td>...</td>\n",
       "      <td>...</td>\n",
       "      <td>...</td>\n",
       "      <td>...</td>\n",
       "    </tr>\n",
       "    <tr>\n",
       "      <th>499</th>\n",
       "      <td>20656.0</td>\n",
       "      <td>1.0</td>\n",
       "      <td>3.0</td>\n",
       "      <td>890.0</td>\n",
       "      <td>1059.537210</td>\n",
       "      <td>4.2</td>\n",
       "      <td>4.9</td>\n",
       "      <td>5.7</td>\n",
       "      <td>5.2</td>\n",
       "      <td>207.766392</td>\n",
       "      <td>0.000000e+00</td>\n",
       "    </tr>\n",
       "    <tr>\n",
       "      <th>500</th>\n",
       "      <td>5309.0</td>\n",
       "      <td>2.0</td>\n",
       "      <td>5.0</td>\n",
       "      <td>1819.0</td>\n",
       "      <td>4659.573510</td>\n",
       "      <td>3.8</td>\n",
       "      <td>3.4</td>\n",
       "      <td>6.6</td>\n",
       "      <td>3.6</td>\n",
       "      <td>14.640852</td>\n",
       "      <td>6.618803e-04</td>\n",
       "    </tr>\n",
       "    <tr>\n",
       "      <th>501</th>\n",
       "      <td>4801.0</td>\n",
       "      <td>1.0</td>\n",
       "      <td>3.0</td>\n",
       "      <td>1353.0</td>\n",
       "      <td>4659.573510</td>\n",
       "      <td>3.8</td>\n",
       "      <td>3.4</td>\n",
       "      <td>6.6</td>\n",
       "      <td>3.6</td>\n",
       "      <td>13.154344</td>\n",
       "      <td>1.391780e-03</td>\n",
       "    </tr>\n",
       "    <tr>\n",
       "      <th>502</th>\n",
       "      <td>7728.0</td>\n",
       "      <td>1.0</td>\n",
       "      <td>5.0</td>\n",
       "      <td>1255.0</td>\n",
       "      <td>4348.935276</td>\n",
       "      <td>3.8</td>\n",
       "      <td>3.4</td>\n",
       "      <td>6.6</td>\n",
       "      <td>3.6</td>\n",
       "      <td>31.885686</td>\n",
       "      <td>1.191547e-07</td>\n",
       "    </tr>\n",
       "    <tr>\n",
       "      <th>503</th>\n",
       "      <td>5403.0</td>\n",
       "      <td>1.0</td>\n",
       "      <td>3.0</td>\n",
       "      <td>1700.0</td>\n",
       "      <td>3891.262685</td>\n",
       "      <td>3.9</td>\n",
       "      <td>3.4</td>\n",
       "      <td>6.6</td>\n",
       "      <td>3.6</td>\n",
       "      <td>11.324530</td>\n",
       "      <td>3.474637e-03</td>\n",
       "    </tr>\n",
       "  </tbody>\n",
       "</table>\n",
       "<p>283 rows × 11 columns</p>\n",
       "</div>"
      ],
      "text/plain": [
       "     Land Area  Floors  Rooms  Built Up Area  Minimum Income Formula  \\\n",
       "0       7147.0     1.0    4.0         1344.0             4271.275717   \n",
       "1       6663.0     1.0    4.0         1335.0             3930.568369   \n",
       "2       6168.0     1.0    4.0         1344.0             3812.651318   \n",
       "3       7169.0     1.0    4.0         1344.0             3773.345634   \n",
       "4       6146.0     1.5    3.0         1670.0             3616.122900   \n",
       "..         ...     ...    ...            ...                     ...   \n",
       "499    20656.0     1.0    3.0          890.0             1059.537210   \n",
       "500     5309.0     2.0    5.0         1819.0             4659.573510   \n",
       "501     4801.0     1.0    3.0         1353.0             4659.573510   \n",
       "502     7728.0     1.0    5.0         1255.0             4348.935276   \n",
       "503     5403.0     1.0    3.0         1700.0             3891.262685   \n",
       "\n",
       "     Interest Rate  School  Hospital  Comercial Areas      mahala  \\\n",
       "0              3.8     7.4      11.8              8.3   34.726682   \n",
       "1              3.9     7.4      13.1              8.3   28.311675   \n",
       "2              3.9     7.4      13.1              8.3   26.839489   \n",
       "3              3.9     7.4      13.1              8.3   29.988290   \n",
       "4              3.9     5.0       8.5              5.1   13.855935   \n",
       "..             ...     ...       ...              ...         ...   \n",
       "499            4.2     4.9       5.7              5.2  207.766392   \n",
       "500            3.8     3.4       6.6              3.6   14.640852   \n",
       "501            3.8     3.4       6.6              3.6   13.154344   \n",
       "502            3.8     3.4       6.6              3.6   31.885686   \n",
       "503            3.9     3.4       6.6              3.6   11.324530   \n",
       "\n",
       "          p_value  \n",
       "0    2.878702e-08  \n",
       "1    7.115376e-07  \n",
       "2    1.485522e-06  \n",
       "3    3.076987e-07  \n",
       "4    9.799907e-04  \n",
       "..            ...  \n",
       "499  0.000000e+00  \n",
       "500  6.618803e-04  \n",
       "501  1.391780e-03  \n",
       "502  1.191547e-07  \n",
       "503  3.474637e-03  \n",
       "\n",
       "[283 rows x 11 columns]"
      ]
     },
     "execution_count": 42,
     "metadata": {},
     "output_type": "execute_result"
    }
   ],
   "source": [
    "# Compute the P-Values\n",
    "df_x['p_value'] = 1 - chi2.cdf(df_x['mahala'], 2)\n",
    "\n",
    "# Extreme values with a significance level of 0.01\n",
    "df_x.loc[df_x.p_value < 0.01].head(200)"
   ]
  },
  {
   "cell_type": "code",
   "execution_count": 40,
   "id": "07922648",
   "metadata": {},
   "outputs": [
    {
     "data": {
      "text/plain": [
       "(3842, 14)"
      ]
     },
     "execution_count": 40,
     "metadata": {},
     "output_type": "execute_result"
    }
   ],
   "source": [
    "house_price3.shape"
   ]
  },
  {
   "cell_type": "code",
   "execution_count": null,
   "id": "fdbbd014",
   "metadata": {},
   "outputs": [],
   "source": [
    "## house_price4 = house_price3.drop([1,8,22,29,34,39,40,54,55,56,58,59,67,69,78,80,83,85,92,94,95,99,100,103,104,108,123,127,131,140,145,146,149,150,163,169,177,196,226,231,232,233,234,235,248,277,285,304,305,308,309,310,321,327,412,417,427,428,431,434,442,444,459,476,477,480,481,486,491,501,504,505,507],axis=0)"
   ]
  },
  {
   "cell_type": "code",
   "execution_count": null,
   "id": "fa3f3c6d",
   "metadata": {},
   "outputs": [],
   "source": [
    "#house_price5 = house_price3.drop([1,2,8,9,10,22,23,26,27,29,34,38,39,40,44,54,55,56,58,59,67,78,79,80,83,85,90,92,94,95,99,100,103,104,108,123,127,131,134,140,145,146,149,150,163,169,171,176,177,189,195,196,213,217,226,231,232,233,234,235,240,248,277,285,295,304,305,308,309,310,318,321,325,326,327,342,359,363,408,412,417,419,426,427,428,431,434,441,442,444,451,459,476,477,480,481,486,491,492,501,504,505,507],axis=0)"
   ]
  },
  {
   "cell_type": "code",
   "execution_count": null,
   "id": "98c70e44",
   "metadata": {},
   "outputs": [],
   "source": [
    "house_price6 = house_price3.drop([1,2,8,9,10,22,23,26,27,29,34,38,39,40,44,54,55,56,58,59,67,78,79,80,83,85,90,92,94,95,99,100,103,104,108,123,127,131,134,140,145,146,148,149,150,163,169,171,176,177,189,195,196,213,217,226,232,240,248,277,295,310,318,321,325,326,327,342,359,363,408,412,417,419,426,427,428,431,434,441,442,444,451,459,476,477,480,481,486,491,492,501,504,505,507],axis=0)"
   ]
  },
  {
   "cell_type": "code",
   "execution_count": null,
   "id": "4b592812",
   "metadata": {},
   "outputs": [],
   "source": [
    "house_price6.shape"
   ]
  },
  {
   "cell_type": "code",
   "execution_count": null,
   "id": "ee4747b8",
   "metadata": {},
   "outputs": [],
   "source": [
    "house_price5.shape"
   ]
  },
  {
   "cell_type": "code",
   "execution_count": null,
   "id": "2e8c4c53",
   "metadata": {},
   "outputs": [],
   "source": [
    "Q1=house_price3['Purchase Price'].quantile(0.25)\n",
    "Q3=house_price3['Purchase Price'].quantile(0.75)\n",
    "IQR=Q3-Q1\n",
    "print(Q1)\n",
    "print(Q3)\n",
    "print(IQR)\n",
    "LOWER_WHISKER=Q1-1.5*IQR\n",
    "UPPER_WHISKER=Q3+1.5*IQR\n",
    "print(LOWER_WHISKER,UPPER_WHISKER)"
   ]
  },
  {
   "cell_type": "code",
   "execution_count": null,
   "id": "636e5b11",
   "metadata": {},
   "outputs": [],
   "source": [
    "house_price3=house_price3[house_price3['Purchase Price']<UPPER_WHISKER]\n",
    "sns.boxplot(x=house_price3['Purchase Price'])"
   ]
  },
  {
   "cell_type": "code",
   "execution_count": null,
   "id": "b5eb1a8b",
   "metadata": {},
   "outputs": [],
   "source": [
    "sns.boxplot(x=house_price3['Minimum Income'])"
   ]
  },
  {
   "cell_type": "code",
   "execution_count": null,
   "id": "93ea0749",
   "metadata": {},
   "outputs": [],
   "source": [
    "Q1=house_price3['Minimum_Income'].quantile(0.25)\n",
    "Q3=house_price3['Minimum_Income'].quantile(0.75)\n",
    "IQR=Q3-Q1\n",
    "print(Q1)\n",
    "print(Q3)\n",
    "print(IQR)\n",
    "LOWER_WHISKER=Q1-1.5*IQR\n",
    "UPPER_WHISKER=Q3+1.5*IQR\n",
    "print(LOWER_WHISKER,UPPER_WHISKER)"
   ]
  },
  {
   "cell_type": "code",
   "execution_count": null,
   "id": "1a17ff54",
   "metadata": {},
   "outputs": [],
   "source": [
    "house_price3=house_price3[house_price3['Minimum Income']<UPPER_WHISKER]\n",
    "sns.boxplot(x=house_price3['Minimum Income'])"
   ]
  },
  {
   "cell_type": "code",
   "execution_count": null,
   "id": "471dabb0",
   "metadata": {},
   "outputs": [],
   "source": [
    "sns.boxplot(x=house_price3['Built_Up_Area'])"
   ]
  },
  {
   "cell_type": "code",
   "execution_count": null,
   "id": "669ebe4e",
   "metadata": {},
   "outputs": [],
   "source": [
    "Q1=house_price3['Built Up Area'].quantile(0.25)\n",
    "Q3=house_price3['Built Up Area'].quantile(0.75)\n",
    "IQR=Q3-Q1\n",
    "print(Q1)\n",
    "print(Q3)\n",
    "print(IQR)\n",
    "LOWER_WHISKER=Q1-1.5*IQR\n",
    "UPPER_WHISKER=Q3+1.5*IQR\n",
    "print(LOWER_WHISKER,UPPER_WHISKER)"
   ]
  },
  {
   "cell_type": "code",
   "execution_count": null,
   "id": "4add0575",
   "metadata": {},
   "outputs": [],
   "source": [
    "house_price3=house_price3[house_price3['Built Up Area']<UPPER_WHISKER]\n",
    "sns.boxplot(x=house_price3['Built Up Area'])"
   ]
  },
  {
   "cell_type": "code",
   "execution_count": null,
   "id": "7559a5ee",
   "metadata": {},
   "outputs": [],
   "source": [
    "sns.boxplot(x=house_price3['Land Area'])"
   ]
  },
  {
   "cell_type": "code",
   "execution_count": null,
   "id": "31ccf1f3",
   "metadata": {},
   "outputs": [],
   "source": [
    "Q1=house_price3['Land Area'].quantile(0.25)\n",
    "Q3=house_price3['Land Area'].quantile(0.75)\n",
    "IQR=Q3-Q1\n",
    "print(Q1)\n",
    "print(Q3)\n",
    "print(IQR)\n",
    "LOWER_WHISKER=Q1-1.5*IQR\n",
    "UPPER_WHISKER=Q3+1.5*IQR\n",
    "print(LOWER_WHISKER,UPPER_WHISKER)"
   ]
  },
  {
   "cell_type": "code",
   "execution_count": null,
   "id": "91cdbfb8",
   "metadata": {},
   "outputs": [],
   "source": [
    "house_price3=house_price3[house_price3['Land Area']<UPPER_WHISKER]\n",
    "sns.boxplot(x=house_price3['Land Area'])"
   ]
  },
  {
   "cell_type": "code",
   "execution_count": null,
   "id": "563ddf91",
   "metadata": {},
   "outputs": [],
   "source": [
    "sns.boxplot(x=house_price3['Distance between School KM'])"
   ]
  },
  {
   "cell_type": "code",
   "execution_count": null,
   "id": "6de931e3",
   "metadata": {},
   "outputs": [],
   "source": [
    "Q1=house_price3['Distance between School KM'].quantile(0.25)\n",
    "Q3=house_price3['Distance between School KM'].quantile(0.75)\n",
    "IQR=Q3-Q1\n",
    "print(Q1)\n",
    "print(Q3)\n",
    "print(IQR)\n",
    "LOWER_WHISKER=Q1-1.5*IQR\n",
    "UPPER_WHISKER=Q3+1.5*IQR\n",
    "print(LOWER_WHISKER,UPPER_WHISKER)"
   ]
  },
  {
   "cell_type": "code",
   "execution_count": null,
   "id": "9ef7e7d2",
   "metadata": {},
   "outputs": [],
   "source": [
    "house_price3=house_price3[house_price3['Distance between School KM']<UPPER_WHISKER]\n",
    "sns.boxplot(x=house_price3['Distance between School KM'])"
   ]
  },
  {
   "cell_type": "code",
   "execution_count": null,
   "id": "2946be85",
   "metadata": {},
   "outputs": [],
   "source": [
    "sns.boxplot(x=house_price3['Distance between Hospital, KM'])"
   ]
  },
  {
   "cell_type": "code",
   "execution_count": null,
   "id": "5a1f3121",
   "metadata": {},
   "outputs": [],
   "source": [
    "Q1=house_price3['Distance between Hospital, KM'].quantile(0.25)\n",
    "Q3=house_price3['Distance between Hospital, KM'].quantile(0.75)\n",
    "IQR=Q3-Q1\n",
    "print(Q1)\n",
    "print(Q3)\n",
    "print(IQR)\n",
    "LOWER_WHISKER=Q1-1.5*IQR\n",
    "UPPER_WHISKER=Q3+1.5*IQR\n",
    "print(LOWER_WHISKER,UPPER_WHISKER)"
   ]
  },
  {
   "cell_type": "code",
   "execution_count": null,
   "id": "130df62d",
   "metadata": {},
   "outputs": [],
   "source": [
    "house_price3=house_price3[house_price3['Distance between Hospital, KM']<UPPER_WHISKER]\n",
    "sns.boxplot(x=house_price3['Distance between Hospital, KM'])"
   ]
  },
  {
   "cell_type": "markdown",
   "id": "097b9acf",
   "metadata": {},
   "source": [
    "# Change Data Type"
   ]
  },
  {
   "cell_type": "code",
   "execution_count": 45,
   "id": "8edeab42",
   "metadata": {},
   "outputs": [],
   "source": [
    "house_price3['Tenure'] =  house_price3[\"Tenure\"].astype(\"category\")"
   ]
  },
  {
   "cell_type": "code",
   "execution_count": null,
   "id": "fb6548cd",
   "metadata": {},
   "outputs": [],
   "source": [
    "house_price6['Tenure'] =  house_price3[\"Tenure\"].astype(\"category\")"
   ]
  },
  {
   "cell_type": "code",
   "execution_count": 46,
   "id": "262f71e3",
   "metadata": {},
   "outputs": [],
   "source": [
    "house_price3['State'] =  house_price3[\"State\"].astype(\"category\")"
   ]
  },
  {
   "cell_type": "code",
   "execution_count": null,
   "id": "d9019801",
   "metadata": {},
   "outputs": [],
   "source": [
    "house_price6['State'] =  house_price3[\"State\"].astype(\"category\")"
   ]
  },
  {
   "cell_type": "code",
   "execution_count": 47,
   "id": "0f9e0c42",
   "metadata": {},
   "outputs": [],
   "source": [
    "house_price3['Building Type'] =  house_price3[\"Building Type\"].astype(\"category\")"
   ]
  },
  {
   "cell_type": "code",
   "execution_count": null,
   "id": "44de1c76",
   "metadata": {},
   "outputs": [],
   "source": [
    "house_price6['Building Type'] =  house_price3[\"Building Type\"].astype(\"category\")"
   ]
  },
  {
   "cell_type": "code",
   "execution_count": 48,
   "id": "adfd1b01",
   "metadata": {},
   "outputs": [],
   "source": [
    "house_price3['District'] =  house_price3[\"District\"].astype(\"category\")"
   ]
  },
  {
   "cell_type": "code",
   "execution_count": null,
   "id": "95b9f361",
   "metadata": {},
   "outputs": [],
   "source": [
    "house_price6['District'] =  house_price3[\"District\"].astype(\"category\")"
   ]
  },
  {
   "cell_type": "code",
   "execution_count": null,
   "id": "d37199de",
   "metadata": {},
   "outputs": [],
   "source": [
    "house_price3.head(5)"
   ]
  },
  {
   "cell_type": "code",
   "execution_count": null,
   "id": "f1f696f9",
   "metadata": {},
   "outputs": [],
   "source": [
    "house_price3.info()"
   ]
  },
  {
   "cell_type": "code",
   "execution_count": null,
   "id": "def58012",
   "metadata": {},
   "outputs": [],
   "source": [
    "house_price3.shape"
   ]
  },
  {
   "cell_type": "markdown",
   "id": "29f37c1a",
   "metadata": {},
   "source": [
    "## Features Selection"
   ]
  },
  {
   "cell_type": "markdown",
   "id": "78a881f7",
   "metadata": {},
   "source": [
    "## Correlations"
   ]
  },
  {
   "cell_type": "code",
   "execution_count": 49,
   "id": "7a14c644",
   "metadata": {
    "scrolled": true
   },
   "outputs": [
    {
     "data": {
      "text/plain": [
       "<AxesSubplot:>"
      ]
     },
     "execution_count": 49,
     "metadata": {},
     "output_type": "execute_result"
    },
    {
     "data": {
      "image/png": "[encoded data removed]",
      "text/plain": [
       "<Figure size 1440x1440 with 2 Axes>"
      ]
     },
     "metadata": {
      "needs_background": "light"
     },
     "output_type": "display_data"
    }
   ],
   "source": [
    "# Finding the relations between the variables.\n",
    "plt.figure(figsize=(20,20))\n",
    "c= house_price3.corr()\n",
    "sns.heatmap(c,cmap='BrBG',annot=True)"
   ]
  },
  {
   "cell_type": "code",
   "execution_count": 50,
   "id": "fc4c60b8",
   "metadata": {},
   "outputs": [],
   "source": [
    "c= house_price3.corr()\n",
    "correlations= c[\"Purchase Price\"].sort_values(ascending=True)\n",
    "features=correlations.index[0:5,]"
   ]
  },
  {
   "cell_type": "code",
   "execution_count": 51,
   "id": "0d63c542",
   "metadata": {},
   "outputs": [
    {
     "data": {
      "text/plain": [
       "Interest Rate            -0.880908\n",
       "Comercial Areas          -0.483393\n",
       "Hospital                  0.011548\n",
       "School                    0.167273\n",
       "Floors                    0.468987\n",
       "Land Area                 0.476712\n",
       "Rooms                     0.582198\n",
       "Built Up Area             0.693913\n",
       "Minimum Income Formula    0.999372\n",
       "Purchase Price            1.000000\n",
       "Name: Purchase Price, dtype: float64"
      ]
     },
     "execution_count": 51,
     "metadata": {},
     "output_type": "execute_result"
    }
   ],
   "source": [
    "correlations"
   ]
  },
  {
   "cell_type": "code",
   "execution_count": 52,
   "id": "2fefae6c",
   "metadata": {},
   "outputs": [
    {
     "data": {
      "text/plain": [
       "Index(['Interest Rate', 'Comercial Areas', 'Hospital', 'School', 'Floors'], dtype='object')"
      ]
     },
     "execution_count": 52,
     "metadata": {},
     "output_type": "execute_result"
    }
   ],
   "source": [
    "features"
   ]
  },
  {
   "cell_type": "code",
   "execution_count": 53,
   "id": "c92d5fed",
   "metadata": {},
   "outputs": [
    {
     "data": {
      "text/plain": [
       "Floors                    0.468987\n",
       "Land Area                 0.476712\n",
       "Comercial Areas           0.483393\n",
       "Rooms                     0.582198\n",
       "Built Up Area             0.693913\n",
       "Interest Rate             0.880908\n",
       "Minimum Income Formula    0.999372\n",
       "Purchase Price            1.000000\n",
       "Name: Purchase Price, dtype: float64"
      ]
     },
     "execution_count": 53,
     "metadata": {},
     "output_type": "execute_result"
    }
   ],
   "source": [
    "threshold=0.4\n",
    "a=abs(c['Purchase Price'])\n",
    "result=a[a>0.4].sort_values(ascending=True)\n",
    "result"
   ]
  },
  {
   "cell_type": "markdown",
   "id": "f36dd18c",
   "metadata": {},
   "source": [
    "## Mutual Information Gain  - Another method finding the relations between the variables.\n"
   ]
  },
  {
   "cell_type": "code",
   "execution_count": 54,
   "id": "fcdf2655",
   "metadata": {},
   "outputs": [],
   "source": [
    "from sklearn.feature_selection import mutual_info_regression"
   ]
  },
  {
   "cell_type": "code",
   "execution_count": 57,
   "id": "0de493d6",
   "metadata": {},
   "outputs": [
    {
     "ename": "ValueError",
     "evalue": "shapes (500,11) and (9,9) not aligned: 11 (dim 1) != 9 (dim 0)",
     "output_type": "error",
     "traceback": [
      "\u001b[1;31m---------------------------------------------------------------------------\u001b[0m",
      "\u001b[1;31mValueError\u001b[0m                                Traceback (most recent call last)",
      "\u001b[1;32m<ipython-input-57-8481fe45aff1>\u001b[0m in \u001b[0;36m<module>\u001b[1;34m\u001b[0m\n\u001b[0;32m      1\u001b[0m \u001b[0my\u001b[0m \u001b[1;33m=\u001b[0m \u001b[0mhouse_price3\u001b[0m\u001b[1;33m[\u001b[0m\u001b[1;34m'Purchase Price'\u001b[0m\u001b[1;33m]\u001b[0m\u001b[1;33m\u001b[0m\u001b[0m\n\u001b[1;32m----> 2\u001b[1;33m \u001b[0mdf_x\u001b[0m\u001b[1;33m[\u001b[0m\u001b[1;34m'mahala'\u001b[0m\u001b[1;33m]\u001b[0m \u001b[1;33m=\u001b[0m \u001b[0mmahalanobis\u001b[0m\u001b[1;33m(\u001b[0m\u001b[0mx\u001b[0m\u001b[1;33m=\u001b[0m\u001b[0mdf_x\u001b[0m\u001b[1;33m,\u001b[0m \u001b[0mdata\u001b[0m\u001b[1;33m=\u001b[0m\u001b[0mhouse_price3\u001b[0m\u001b[1;33m[\u001b[0m\u001b[1;33m[\u001b[0m\u001b[1;34m'Land Area'\u001b[0m\u001b[1;33m,\u001b[0m\u001b[1;34m'Floors'\u001b[0m\u001b[1;33m,\u001b[0m\u001b[1;34m'Rooms'\u001b[0m\u001b[1;33m,\u001b[0m\u001b[1;34m'Built Up Area'\u001b[0m\u001b[1;33m,\u001b[0m \u001b[1;34m'Minimum Income Formula'\u001b[0m\u001b[1;33m,\u001b[0m\u001b[1;34m'Interest Rate'\u001b[0m\u001b[1;33m,\u001b[0m\u001b[1;34m'School'\u001b[0m\u001b[1;33m,\u001b[0m\u001b[1;34m'Hospital'\u001b[0m\u001b[1;33m,\u001b[0m\u001b[1;34m'Comercial Areas'\u001b[0m\u001b[1;33m]\u001b[0m\u001b[1;33m]\u001b[0m\u001b[1;33m)\u001b[0m\u001b[1;33m\u001b[0m\u001b[0m\n\u001b[0m",
      "\u001b[1;32m<ipython-input-35-38b96accf2cc>\u001b[0m in \u001b[0;36mmahalanobis\u001b[1;34m(x, data, cov)\u001b[0m\n\u001b[0;32m      9\u001b[0m         \u001b[0mcov\u001b[0m \u001b[1;33m=\u001b[0m \u001b[0mnp\u001b[0m\u001b[1;33m.\u001b[0m\u001b[0mcov\u001b[0m\u001b[1;33m(\u001b[0m\u001b[0mdata\u001b[0m\u001b[1;33m.\u001b[0m\u001b[0mvalues\u001b[0m\u001b[1;33m.\u001b[0m\u001b[0mT\u001b[0m\u001b[1;33m)\u001b[0m\u001b[1;33m\u001b[0m\u001b[0m\n\u001b[0;32m     10\u001b[0m     \u001b[0minv_covmat\u001b[0m \u001b[1;33m=\u001b[0m \u001b[0msp\u001b[0m\u001b[1;33m.\u001b[0m\u001b[0mlinalg\u001b[0m\u001b[1;33m.\u001b[0m\u001b[0minv\u001b[0m\u001b[1;33m(\u001b[0m\u001b[0mcov\u001b[0m\u001b[1;33m)\u001b[0m\u001b[1;33m\u001b[0m\u001b[0m\n\u001b[1;32m---> 11\u001b[1;33m     \u001b[0mleft_term\u001b[0m \u001b[1;33m=\u001b[0m \u001b[0mnp\u001b[0m\u001b[1;33m.\u001b[0m\u001b[0mdot\u001b[0m\u001b[1;33m(\u001b[0m\u001b[0mx_minus_mu\u001b[0m\u001b[1;33m,\u001b[0m \u001b[0minv_covmat\u001b[0m\u001b[1;33m)\u001b[0m\u001b[1;33m\u001b[0m\u001b[0m\n\u001b[0m\u001b[0;32m     12\u001b[0m     \u001b[0mmahal\u001b[0m \u001b[1;33m=\u001b[0m \u001b[0mnp\u001b[0m\u001b[1;33m.\u001b[0m\u001b[0mdot\u001b[0m\u001b[1;33m(\u001b[0m\u001b[0mleft_term\u001b[0m\u001b[1;33m,\u001b[0m \u001b[0mx_minus_mu\u001b[0m\u001b[1;33m.\u001b[0m\u001b[0mT\u001b[0m\u001b[1;33m)\u001b[0m\u001b[1;33m\u001b[0m\u001b[0m\n\u001b[0;32m     13\u001b[0m     \u001b[1;32mreturn\u001b[0m \u001b[0mmahal\u001b[0m\u001b[1;33m.\u001b[0m\u001b[0mdiagonal\u001b[0m\u001b[1;33m(\u001b[0m\u001b[1;33m)\u001b[0m\u001b[1;33m\u001b[0m\u001b[0m\n",
      "\u001b[1;32m<__array_function__ internals>\u001b[0m in \u001b[0;36mdot\u001b[1;34m(*args, **kwargs)\u001b[0m\n",
      "\u001b[1;31mValueError\u001b[0m: shapes (500,11) and (9,9) not aligned: 11 (dim 1) != 9 (dim 0)"
     ]
    }
   ],
   "source": [
    "y = house_price3['Purchase Price']\n",
    "df_x['mahala'] = mahalanobis(x=df_x, data=house_price3[['Land Area','Floors','Rooms','Built Up Area', 'Minimum Income Formula','Interest Rate','School','Hospital','Comercial Areas']])\n"
   ]
  },
  {
   "cell_type": "code",
   "execution_count": 56,
   "id": "75aa83ca",
   "metadata": {},
   "outputs": [
    {
     "ename": "NameError",
     "evalue": "name 'x' is not defined",
     "output_type": "error",
     "traceback": [
      "\u001b[1;31m---------------------------------------------------------------------------\u001b[0m",
      "\u001b[1;31mNameError\u001b[0m                                 Traceback (most recent call last)",
      "\u001b[1;32m<ipython-input-56-330ae80c93d8>\u001b[0m in \u001b[0;36m<module>\u001b[1;34m\u001b[0m\n\u001b[1;32m----> 1\u001b[1;33m \u001b[0mimportances\u001b[0m \u001b[1;33m=\u001b[0m \u001b[0mmutual_info_regression\u001b[0m\u001b[1;33m(\u001b[0m\u001b[0mx\u001b[0m\u001b[1;33m,\u001b[0m \u001b[0my\u001b[0m\u001b[1;33m)\u001b[0m\u001b[1;33m\u001b[0m\u001b[0m\n\u001b[0m\u001b[0;32m      2\u001b[0m \u001b[0mimportances\u001b[0m\u001b[1;33m\u001b[0m\u001b[0m\n",
      "\u001b[1;31mNameError\u001b[0m: name 'x' is not defined"
     ]
    }
   ],
   "source": [
    "importances = mutual_info_regression(x, y)\n",
    "importances"
   ]
  },
  {
   "cell_type": "code",
   "execution_count": null,
   "id": "93d2910e",
   "metadata": {},
   "outputs": [],
   "source": [
    "importances_info = pd.Series(importances)\n",
    "importances_info.index = x.columns\n",
    "importances_info.sort_values(ascending=True)"
   ]
  },
  {
   "cell_type": "code",
   "execution_count": null,
   "id": "fb4592b3",
   "metadata": {},
   "outputs": [],
   "source": [
    "importances_info.sort_values(ascending=False).plot.bar(figsize=(20, 8))"
   ]
  },
  {
   "cell_type": "code",
   "execution_count": null,
   "id": "444f0c89",
   "metadata": {},
   "outputs": [],
   "source": [
    "from sklearn.feature_selection import SelectKBest\n",
    "sel_five_cols = SelectKBest(mutual_info_regression, k=5)\n",
    "sel_five_cols.fit(x, y)\n",
    "x.columns[sel_five_cols.get_support()]"
   ]
  },
  {
   "cell_type": "code",
   "execution_count": null,
   "id": "8fadefc4",
   "metadata": {},
   "outputs": [],
   "source": [
    "from sklearn.feature_selection import SelectPercentile\n",
    "selected_top_columns = SelectPercentile(mutual_info_regression, percentile=80)\n",
    "selected_top_columns.fit(x, y)\n",
    "selected_top_columns.get_support()\n",
    "x.columns[selected_top_columns.get_support()]"
   ]
  },
  {
   "cell_type": "code",
   "execution_count": null,
   "id": "788f870b",
   "metadata": {},
   "outputs": [],
   "source": []
  },
  {
   "cell_type": "code",
   "execution_count": null,
   "id": "f64957f9",
   "metadata": {},
   "outputs": [],
   "source": [
    "from sklearn.feature_selection import mutual_info_classif"
   ]
  },
  {
   "cell_type": "code",
   "execution_count": null,
   "id": "924b6a81",
   "metadata": {},
   "outputs": [],
   "source": [
    "y = house_price3['Purchase Price']\n",
    "x = house_price3[['Tenure','District','Building Type','State']]"
   ]
  },
  {
   "cell_type": "code",
   "execution_count": null,
   "id": "d79d1181",
   "metadata": {},
   "outputs": [],
   "source": [
    "importances_info= mutual_info_classif(x, y)\n",
    "importances_info"
   ]
  },
  {
   "cell_type": "code",
   "execution_count": null,
   "id": "f1911f76",
   "metadata": {},
   "outputs": [],
   "source": [
    "importances_info = pd.Series(importances)\n",
    "importances_info.index = x.columns\n",
    "importances_info.sort_values(ascending=True)"
   ]
  },
  {
   "cell_type": "code",
   "execution_count": null,
   "id": "36f97369",
   "metadata": {},
   "outputs": [],
   "source": []
  },
  {
   "cell_type": "markdown",
   "id": "244bbcea",
   "metadata": {},
   "source": [
    "## Variance Threshold - Another method finding the relations between the variables.\n"
   ]
  },
  {
   "cell_type": "code",
   "execution_count": null,
   "id": "d661b90c",
   "metadata": {},
   "outputs": [],
   "source": [
    "from sklearn.feature_selection import VarianceThreshold\n",
    "x = house_price3[['Land Area', 'Rooms','Floors','Built Up Area','Minimum Income Formula','Interest Rate','Tenure','State','Building Type','District']]\n",
    "\n",
    "selector=VarianceThreshold(threshold=+-0.16)\n",
    "selector.fit(x)\n",
    "selector.get_support()"
   ]
  },
  {
   "cell_type": "markdown",
   "id": "1d65cc9d",
   "metadata": {},
   "source": [
    "## MAD - Another method finding the relations between the variables.\n"
   ]
  },
  {
   "cell_type": "code",
   "execution_count": null,
   "id": "41bde271",
   "metadata": {},
   "outputs": [],
   "source": [
    "x = house_price4[['Land Area','Floors','Rooms','Built Up Area', 'Minimum Income','Interest Rate','Distance between Hospital','Distance between School']]"
   ]
  },
  {
   "cell_type": "code",
   "execution_count": null,
   "id": "8b0b7a3e",
   "metadata": {},
   "outputs": [],
   "source": [
    "mean_MAD=np.sum(np.abs(x-np.mean(x, axis=0)), axis=0)/x.shape[0]\n",
    "plt.bar(np.arange(x.shape[1]),mean_MAD, color='teal')"
   ]
  },
  {
   "cell_type": "markdown",
   "id": "a9cd318d",
   "metadata": {},
   "source": [
    "# UNIVARIATE SELECTION - Another method finding the relations between the variables.\n",
    "\n",
    "\n",
    "# Feature Extraction with Univariate Statistical Tests (f_regression)"
   ]
  },
  {
   "cell_type": "code",
   "execution_count": 61,
   "id": "7334b677",
   "metadata": {},
   "outputs": [],
   "source": [
    "from sklearn.feature_selection import SelectKBest\n",
    "from sklearn.feature_selection import f_regression"
   ]
  },
  {
   "cell_type": "code",
   "execution_count": 58,
   "id": "26e932a8",
   "metadata": {},
   "outputs": [],
   "source": [
    "y = house_price3['Purchase Price']\n",
    "#x = house_price3[['Land Area','Floors','Rooms','Built Up Area', 'Minimum Income Formula','Interest Rate','Distance between Hospital, KM','Distance between School KM']]\n",
    "x=house_price3[['Land Area','Floors','Rooms','Built Up Area', 'Minimum Income Formula','Interest Rate','School','Hospital','Comercial Areas']]\n"
   ]
  },
  {
   "cell_type": "code",
   "execution_count": 59,
   "id": "9c23fc75",
   "metadata": {},
   "outputs": [],
   "source": [
    "names=pd.DataFrame(x.columns)"
   ]
  },
  {
   "cell_type": "code",
   "execution_count": 62,
   "id": "7b8b54c0",
   "metadata": {},
   "outputs": [],
   "source": [
    "model = SelectKBest(score_func=f_regression, k='all')\n",
    "results = model.fit(x, y)"
   ]
  },
  {
   "cell_type": "code",
   "execution_count": 63,
   "id": "e0f1b165",
   "metadata": {},
   "outputs": [
    {
     "name": "stdout",
     "output_type": "stream",
     "text": [
      "[1.12929619e+03 1.08275298e+03 1.96897791e+03 3.56620115e+03\n",
      " 3.05618579e+06 1.33027328e+04 1.10536917e+02 5.12199063e-01\n",
      " 1.17088747e+03]\n"
     ]
    },
    {
     "data": {
      "text/html": [
       "<div>\n",
       "<style scoped>\n",
       "    .dataframe tbody tr th:only-of-type {\n",
       "        vertical-align: middle;\n",
       "    }\n",
       "\n",
       "    .dataframe tbody tr th {\n",
       "        vertical-align: top;\n",
       "    }\n",
       "\n",
       "    .dataframe thead th {\n",
       "        text-align: right;\n",
       "    }\n",
       "</style>\n",
       "<table border=\"1\" class=\"dataframe\">\n",
       "  <thead>\n",
       "    <tr style=\"text-align: right;\">\n",
       "      <th></th>\n",
       "      <th>Feature</th>\n",
       "      <th>Score</th>\n",
       "      <th>P values</th>\n",
       "    </tr>\n",
       "  </thead>\n",
       "  <tbody>\n",
       "    <tr>\n",
       "      <th>7</th>\n",
       "      <td>Hospital</td>\n",
       "      <td>5.121991e-01</td>\n",
       "      <td>4.742320e-01</td>\n",
       "    </tr>\n",
       "    <tr>\n",
       "      <th>6</th>\n",
       "      <td>School</td>\n",
       "      <td>1.105369e+02</td>\n",
       "      <td>1.654514e-25</td>\n",
       "    </tr>\n",
       "    <tr>\n",
       "      <th>1</th>\n",
       "      <td>Floors</td>\n",
       "      <td>1.082753e+03</td>\n",
       "      <td>2.063913e-209</td>\n",
       "    </tr>\n",
       "    <tr>\n",
       "      <th>0</th>\n",
       "      <td>Land Area</td>\n",
       "      <td>1.129296e+03</td>\n",
       "      <td>2.889892e-217</td>\n",
       "    </tr>\n",
       "    <tr>\n",
       "      <th>8</th>\n",
       "      <td>Comercial Areas</td>\n",
       "      <td>1.170887e+03</td>\n",
       "      <td>3.198147e-224</td>\n",
       "    </tr>\n",
       "    <tr>\n",
       "      <th>2</th>\n",
       "      <td>Rooms</td>\n",
       "      <td>1.968978e+03</td>\n",
       "      <td>0.000000e+00</td>\n",
       "    </tr>\n",
       "    <tr>\n",
       "      <th>3</th>\n",
       "      <td>Built Up Area</td>\n",
       "      <td>3.566201e+03</td>\n",
       "      <td>0.000000e+00</td>\n",
       "    </tr>\n",
       "    <tr>\n",
       "      <th>5</th>\n",
       "      <td>Interest Rate</td>\n",
       "      <td>1.330273e+04</td>\n",
       "      <td>0.000000e+00</td>\n",
       "    </tr>\n",
       "    <tr>\n",
       "      <th>4</th>\n",
       "      <td>Minimum Income Formula</td>\n",
       "      <td>3.056186e+06</td>\n",
       "      <td>0.000000e+00</td>\n",
       "    </tr>\n",
       "  </tbody>\n",
       "</table>\n",
       "</div>"
      ],
      "text/plain": [
       "                  Feature         Score       P values\n",
       "7                Hospital  5.121991e-01   4.742320e-01\n",
       "6                  School  1.105369e+02   1.654514e-25\n",
       "1                  Floors  1.082753e+03  2.063913e-209\n",
       "0               Land Area  1.129296e+03  2.889892e-217\n",
       "8         Comercial Areas  1.170887e+03  3.198147e-224\n",
       "2                   Rooms  1.968978e+03   0.000000e+00\n",
       "3           Built Up Area  3.566201e+03   0.000000e+00\n",
       "5           Interest Rate  1.330273e+04   0.000000e+00\n",
       "4  Minimum Income Formula  3.056186e+06   0.000000e+00"
      ]
     },
     "execution_count": 63,
     "metadata": {},
     "output_type": "execute_result"
    }
   ],
   "source": [
    "#print (results.scores_)\n",
    "print(results.scores_)\n",
    "\n",
    "results_df=pd.DataFrame(results.scores_)\n",
    "results_df2=pd.DataFrame(results.pvalues_)\n",
    "#Concat and name columns\n",
    "scored=pd.concat([names,results_df,results_df2], axis=1)\n",
    "scored.columns = [\"Feature\", \"Score\", \"P values\"]\n",
    "scored.sort_values(by=['Score']).head(10)\n"
   ]
  },
  {
   "cell_type": "code",
   "execution_count": 64,
   "id": "2b11741c",
   "metadata": {},
   "outputs": [
    {
     "name": "stdout",
     "output_type": "stream",
     "text": [
      "^C\n",
      "Note: you may need to restart the kernel to use updated packages.\n"
     ]
    }
   ],
   "source": [
    "pip install --upgrade patsy"
   ]
  },
  {
   "cell_type": "code",
   "execution_count": null,
   "id": "fe8d271c",
   "metadata": {},
   "outputs": [],
   "source": [
    "pip install statsmodels"
   ]
  },
  {
   "cell_type": "code",
   "execution_count": 65,
   "id": "6577f016",
   "metadata": {},
   "outputs": [],
   "source": [
    "from statsmodels.stats.outliers_influence import variance_inflation_factor"
   ]
  },
  {
   "cell_type": "code",
   "execution_count": 66,
   "id": "d0b4f2c7",
   "metadata": {},
   "outputs": [],
   "source": [
    "# the independent variables set\n",
    "x=house_price3[['Land Area','Floors','Rooms','Built Up Area', 'Minimum Income Formula','Interest Rate','School','Hospital','Comercial Areas']]\n"
   ]
  },
  {
   "cell_type": "code",
   "execution_count": 68,
   "id": "7c62a8a7",
   "metadata": {},
   "outputs": [],
   "source": [
    "vif_data = pd.DataFrame()\n",
    "vif_data[\"feature\"] = x.columns"
   ]
  },
  {
   "cell_type": "code",
   "execution_count": 70,
   "id": "d00aae79",
   "metadata": {},
   "outputs": [],
   "source": [
    "vif_data[\"VIF\"] = [variance_inflation_factor(x.values, i)\n",
    "                          for i in range(len(x.columns))]"
   ]
  },
  {
   "cell_type": "code",
   "execution_count": 71,
   "id": "e11edbfd",
   "metadata": {
    "scrolled": true
   },
   "outputs": [
    {
     "name": "stdout",
     "output_type": "stream",
     "text": [
      "                  feature        VIF\n",
      "0               Land Area   3.735726\n",
      "1                  Floors  14.682979\n",
      "2                   Rooms  61.149052\n",
      "3           Built Up Area  18.030801\n",
      "4  Minimum Income Formula   9.105665\n",
      "5           Interest Rate  51.617454\n",
      "6                  School   2.582524\n",
      "7                Hospital   3.517313\n",
      "8         Comercial Areas   7.901211\n"
     ]
    }
   ],
   "source": [
    "print(vif_data)"
   ]
  },
  {
   "cell_type": "code",
   "execution_count": null,
   "id": "6d8baeda",
   "metadata": {},
   "outputs": [],
   "source": [
    "import statsmodels.formula.api as smf"
   ]
  },
  {
   "cell_type": "code",
   "execution_count": null,
   "id": "24db61b8",
   "metadata": {},
   "outputs": [],
   "source": [
    "y = house_price3['Purchase Price']\n",
    "x = house_price3[['Land Area', 'Interest Rate', 'Minimum Income Formula','Tenure','Floors']]"
   ]
  },
  {
   "cell_type": "code",
   "execution_count": null,
   "id": "cafce0f6",
   "metadata": {},
   "outputs": [],
   "source": [
    "#Split data\n",
    "from sklearn.model_selection import train_test_split\n",
    "X_train, X_test, y_train, y_test = train_test_split(X, y, test_size=0.30)"
   ]
  },
  {
   "cell_type": "code",
   "execution_count": null,
   "id": "23053310",
   "metadata": {},
   "outputs": [],
   "source": [
    "from sklearn.linear_model import LinearRegression"
   ]
  },
  {
   "cell_type": "code",
   "execution_count": null,
   "id": "c3ccee1f",
   "metadata": {},
   "outputs": [],
   "source": [
    "lr = LinearRegression()\n",
    "fit=lr.fit(X_train, y_train)"
   ]
  },
  {
   "cell_type": "code",
   "execution_count": null,
   "id": "843de55c",
   "metadata": {},
   "outputs": [],
   "source": [
    "#predicting the value\n",
    "y_predict = lr.predict([[3326.0, 4.2, 163, 0]])\n",
    "print(\"Predicted Price = RM\", y_predict[0])"
   ]
  },
  {
   "cell_type": "markdown",
   "id": "8068c0ef",
   "metadata": {},
   "source": [
    "## ANOVA"
   ]
  },
  {
   "cell_type": "code",
   "execution_count": null,
   "id": "a46a85a0",
   "metadata": {},
   "outputs": [],
   "source": [
    "from scipy.stats import f_oneway"
   ]
  },
  {
   "cell_type": "code",
   "execution_count": null,
   "id": "57c50318",
   "metadata": {},
   "outputs": [],
   "source": [
    "CategoryGroupLists1=house_price3.groupby('State')['Purchase Price'].apply(list)"
   ]
  },
  {
   "cell_type": "code",
   "execution_count": null,
   "id": "fa67ad87",
   "metadata": {},
   "outputs": [],
   "source": [
    "AnovaResults = f_oneway(*CategoryGroupLists1)\n",
    "print('P-Value for Anova is: ', AnovaResults[1])"
   ]
  },
  {
   "cell_type": "code",
   "execution_count": null,
   "id": "280fb274",
   "metadata": {},
   "outputs": [],
   "source": [
    "CategoryGroupLists2=house_price3.groupby('Tenure')['Purchase Price'].apply(list)"
   ]
  },
  {
   "cell_type": "code",
   "execution_count": null,
   "id": "b413f8c1",
   "metadata": {},
   "outputs": [],
   "source": [
    "AnovaResults = f_oneway(*CategoryGroupLists2)\n",
    "print('P-Value for Anova is: ', AnovaResults[1])"
   ]
  },
  {
   "cell_type": "code",
   "execution_count": null,
   "id": "3d27eec9",
   "metadata": {},
   "outputs": [],
   "source": [
    "CategoryGroupLists3=house_price3.groupby('Building Type')['Purchase Price'].apply(list)"
   ]
  },
  {
   "cell_type": "code",
   "execution_count": null,
   "id": "8b002808",
   "metadata": {},
   "outputs": [],
   "source": [
    "AnovaResults = f_oneway(*CategoryGroupLists3)\n",
    "print('P-Value for Anova is: ', AnovaResults[1])"
   ]
  },
  {
   "cell_type": "code",
   "execution_count": null,
   "id": "00e532a3",
   "metadata": {},
   "outputs": [],
   "source": [
    "CategoryGroupLists3=house_price3.groupby('District')['Purchase Price'].apply(list)"
   ]
  },
  {
   "cell_type": "code",
   "execution_count": null,
   "id": "e117bbdc",
   "metadata": {},
   "outputs": [],
   "source": [
    "AnovaResults = f_oneway(*CategoryGroupLists3)\n",
    "print('P-Value for Anova is: ', AnovaResults[1])"
   ]
  },
  {
   "cell_type": "code",
   "execution_count": null,
   "id": "a8767b02",
   "metadata": {},
   "outputs": [],
   "source": [
    "import pingouin as pg"
   ]
  },
  {
   "cell_type": "code",
   "execution_count": null,
   "id": "77484d6b",
   "metadata": {},
   "outputs": [],
   "source": [
    "aov = pg.anova(dv='Purchase Price', between=[ 'District'], data=house_price3,\n",
    "             detailed=True)\n",
    "\n",
    "print(aov)"
   ]
  },
  {
   "cell_type": "code",
   "execution_count": null,
   "id": "137674eb",
   "metadata": {},
   "outputs": [],
   "source": [
    "import researchpy as rp"
   ]
  },
  {
   "cell_type": "code",
   "execution_count": null,
   "id": "6dd2a06c",
   "metadata": {},
   "outputs": [],
   "source": [
    "from statsmodels.formula.api import ols\n",
    "import statsmodels.api as sm"
   ]
  },
  {
   "cell_type": "code",
   "execution_count": null,
   "id": "1b14ec94",
   "metadata": {},
   "outputs": [],
   "source": [
    "house_price3[\"PP\"] = house_price3[\"Purchase Price\"]\n",
    "\n",
    "model = ols(\"PP~   C(Tenure, Sum) + C(State, Sum)  + C(Tenure, Sum):C(State , Sum)\", data=house_price3).fit()\n",
    "\n",
    "\n",
    "aov_table = sm.stats.anova_lm(model, typ=2)\n",
    "aov_table"
   ]
  },
  {
   "cell_type": "code",
   "execution_count": null,
   "id": "38615d0b",
   "metadata": {},
   "outputs": [],
   "source": [
    "house_price3[\"PP\"] = house_price3[\"Purchase Price\"]\n",
    "\n",
    "model = ols(\"PP~   C(Tenure, Sum) + C(State, Sum) + C(Tenure, Sum):C(State, Sum) \", data=house_price3).fit()\n",
    "\n",
    "\n",
    "aov_table = sm.stats.anova_lm(model, typ=3)\n",
    "aov_table"
   ]
  },
  {
   "cell_type": "code",
   "execution_count": null,
   "id": "0fd1519b",
   "metadata": {},
   "outputs": [],
   "source": [
    "import statsmodels.stats.multicomp as mc\n",
    "\n",
    "interaction_groups = \"Tenure_\" + house_price3.Tenure.astype(str) + \" & \" + \"State_\" + house_price3.State.astype(str)\n",
    "\n",
    "comp = mc.MultiComparison(house_price3[\"PP\"], interaction_groups)\n",
    "post_hoc_res = comp.tukeyhsd()\n",
    "post_hoc_res.summary()"
   ]
  },
  {
   "cell_type": "markdown",
   "id": "a18b4541",
   "metadata": {},
   "source": [
    "## Transformation"
   ]
  },
  {
   "cell_type": "code",
   "execution_count": null,
   "id": "67e18966",
   "metadata": {},
   "outputs": [],
   "source": [
    "from sklearn import preprocessing"
   ]
  },
  {
   "cell_type": "code",
   "execution_count": null,
   "id": "141df9f1",
   "metadata": {},
   "outputs": [],
   "source": [
    "scaler = preprocessing.MinMaxScaler(feature_range=(0, 1))\n",
    "names = house_price3.columns\n",
    "scaler = preprocessing.MinMaxScaler()\n",
    "d = scaler.fit_transform(house_price3)\n",
    "house_price3 = pd.DataFrame(d, columns=names)\n",
    "house_price3.head()"
   ]
  },
  {
   "cell_type": "code",
   "execution_count": null,
   "id": "ab638b5c",
   "metadata": {},
   "outputs": [],
   "source": [
    "house_price3['Tenure'] =  house_price3[\"Tenure\"].astype(\"category\")"
   ]
  },
  {
   "cell_type": "code",
   "execution_count": null,
   "id": "6132adb0",
   "metadata": {},
   "outputs": [],
   "source": [
    "house_price3['State'] =  house_price3[\"State\"].astype(\"category\")"
   ]
  },
  {
   "cell_type": "code",
   "execution_count": null,
   "id": "50801b3a",
   "metadata": {},
   "outputs": [],
   "source": [
    "house_price3['Building Type'] =  house_price3[\"Building Type\"].astype(\"category\")"
   ]
  },
  {
   "cell_type": "code",
   "execution_count": null,
   "id": "69f8320e",
   "metadata": {},
   "outputs": [],
   "source": [
    "house_price3['District'] =  house_price3[\"District\"].astype(\"category\")"
   ]
  },
  {
   "cell_type": "code",
   "execution_count": null,
   "id": "e06e334e",
   "metadata": {},
   "outputs": [],
   "source": [
    "house_price3.info()"
   ]
  },
  {
   "cell_type": "markdown",
   "id": "9dad01ba",
   "metadata": {},
   "source": [
    "# Model Prediction"
   ]
  },
  {
   "cell_type": "markdown",
   "id": "42cd44e0",
   "metadata": {},
   "source": [
    "## Random Forest Model"
   ]
  },
  {
   "cell_type": "code",
   "execution_count": null,
   "id": "63f63a20",
   "metadata": {},
   "outputs": [],
   "source": [
    "house_price4=house_price3.drop(['State','District','Building Type','Tenure','Floors','Rooms','Built Up Area','Price psf','Interest Rate','Minimum Income','Distance between School KM','Distance between Hospital, KM'], axis=1)"
   ]
  },
  {
   "cell_type": "code",
   "execution_count": null,
   "id": "97b5d8ba",
   "metadata": {},
   "outputs": [],
   "source": [
    "house_price4.head(5)"
   ]
  },
  {
   "cell_type": "code",
   "execution_count": null,
   "id": "75419930",
   "metadata": {},
   "outputs": [],
   "source": [
    "X = house_price4.iloc[:, 0:1].values\n",
    "y = house_price4.iloc[:, 1].values"
   ]
  },
  {
   "cell_type": "code",
   "execution_count": null,
   "id": "4764de59",
   "metadata": {},
   "outputs": [],
   "source": [
    "y = house_price3['Purchase Price']\n",
    "x = house_price3[['Land Area','Floors','Rooms','Built Up Area', 'Minimum Income Formula','Interest Rate','Tenure','District','Building Type','State']]"
   ]
  },
  {
   "cell_type": "code",
   "execution_count": null,
   "id": "b513f15a",
   "metadata": {},
   "outputs": [],
   "source": [
    "#y = house_price3['Purchase Price']\n",
    "#x = house_price3[['Land Area','Floors','Rooms','Built Up Area', 'Minimum Income Formula','Interest Rate','Tenure','District','Building Type','State','Distance between Hospital, KM','Distance between School KM']]"
   ]
  },
  {
   "cell_type": "code",
   "execution_count": null,
   "id": "d34c0e6a",
   "metadata": {},
   "outputs": [],
   "source": [
    "#y = house_price4['Purchase Price']\n",
    "#x = house_price4[['Land Area','Floors','Rooms','Built Up Area', 'Minimum Income Formula','Interest Rate','Distance between School KM','Distance between Hospital, KM']]"
   ]
  },
  {
   "cell_type": "code",
   "execution_count": null,
   "id": "b4793910",
   "metadata": {},
   "outputs": [],
   "source": [
    "y = house_price3['Purchase Price']\n",
    "x = house_price3[['Land Area','Floors','Rooms','Built Up Area', 'Minimum Income Formula','Interest Rate','Tenure','District','Building Type','State']]"
   ]
  },
  {
   "cell_type": "code",
   "execution_count": null,
   "id": "f4c77bbd",
   "metadata": {},
   "outputs": [],
   "source": [
    "x = house_price3[['Land Area','Floors','Rooms','Built Up Area', 'Minimum Income Formula','Interest Rate','Tenure','District','Building Type','State','Distance between School KM','Distance between Hospital, KM']]"
   ]
  },
  {
   "cell_type": "code",
   "execution_count": null,
   "id": "e40f5ca8",
   "metadata": {},
   "outputs": [],
   "source": [
    "x = house_price3[['Land Area','Floors','Rooms','Built Up Area', 'Minimum Income Formula','Interest Rate','Tenure','District','Building Type','State','Distance between School KM']]"
   ]
  },
  {
   "cell_type": "code",
   "execution_count": null,
   "id": "d760565a",
   "metadata": {},
   "outputs": [],
   "source": [
    "x = house_price3[['Land Area','Floors','Rooms','Built Up Area', 'Minimum Income Formula','Interest Rate','Tenure','District','Building Type','State','Distance between Hospital, KM']]"
   ]
  },
  {
   "cell_type": "code",
   "execution_count": null,
   "id": "925914c2",
   "metadata": {},
   "outputs": [],
   "source": [
    "x = house_price3[['Land Area','Floors','Rooms','Built Up Area', 'Minimum Income Formula','Interest Rate','Tenure','District','Building Type','State','Distance between Hospital, KM']]"
   ]
  },
  {
   "cell_type": "code",
   "execution_count": null,
   "id": "b2248c04",
   "metadata": {},
   "outputs": [],
   "source": [
    "y = house_price6['Purchase Price']\n",
    "x = house_price6[['Land Area','Floors','Rooms','Built Up Area', 'Minimum Income Formula','Interest Rate','Tenure','District','Building Type','State']]"
   ]
  },
  {
   "cell_type": "code",
   "execution_count": null,
   "id": "ae969735",
   "metadata": {},
   "outputs": [],
   "source": [
    "y = house_price6['Purchase Price']\n",
    "x = house_price6[['Land Area','Floors','Rooms','Built Up Area', 'Minimum Income Formula','Interest Rate','Tenure','District','Building Type','State']]"
   ]
  },
  {
   "cell_type": "code",
   "execution_count": null,
   "id": "9e06ec4d",
   "metadata": {},
   "outputs": [],
   "source": [
    "x = house_price6[['Land Area','Floors','Rooms','Built Up Area', 'Minimum Income Formula','Interest Rate','Tenure','District','Building Type','State','Distance between School KM','Distance between Hospital, KM']]"
   ]
  },
  {
   "cell_type": "code",
   "execution_count": null,
   "id": "1a9816d7",
   "metadata": {},
   "outputs": [],
   "source": [
    "x = house_price6[['Land Area','Floors','Rooms','Built Up Area', 'Minimum Income Formula','Interest Rate','Tenure','District','Building Type','State','Distance between School KM']]"
   ]
  },
  {
   "cell_type": "code",
   "execution_count": null,
   "id": "34a5d146",
   "metadata": {},
   "outputs": [],
   "source": [
    "x = house_price3[['Land Area','Floors','Rooms','Built Up Area', 'Minimum Income Formula','Interest Rate','Tenure','District','Building Type','State','Distance between School KM']]"
   ]
  },
  {
   "cell_type": "code",
   "execution_count": null,
   "id": "8d3fc939",
   "metadata": {},
   "outputs": [],
   "source": [
    "#x=house_price3[['Land Area', 'Rooms','Built Up Area','Minimum Income Formula','Interest Rate','Tenure','District','Building Type','State','Price psf']]"
   ]
  },
  {
   "cell_type": "code",
   "execution_count": null,
   "id": "a4fe47e4",
   "metadata": {},
   "outputs": [],
   "source": [
    "#y = house_price3['Purchase Price']\n",
    "#x = house_price3[['Land Area','Floors','Rooms','Built Up Area', 'Minimum Income Formula','Interest Rate','Tenure','District','Building Type','State','Price psf']]"
   ]
  },
  {
   "cell_type": "code",
   "execution_count": null,
   "id": "b5d5b27d",
   "metadata": {},
   "outputs": [],
   "source": [
    "from sklearn.model_selection import train_test_split\n",
    "\n",
    "X_train, X_test, y_train, y_test = train_test_split(x, y, test_size=0.3, random_state=0)"
   ]
  },
  {
   "cell_type": "code",
   "execution_count": null,
   "id": "f9f25cba",
   "metadata": {},
   "outputs": [],
   "source": [
    "from sklearn.ensemble import RandomForestRegressor\n",
    "\n",
    "regressor = RandomForestRegressor(n_estimators=100, random_state=0)\n",
    "regressor.fit(X_train, y_train)\n",
    "y_pred = regressor.predict(X_test)"
   ]
  },
  {
   "cell_type": "code",
   "execution_count": null,
   "id": "ef216b37",
   "metadata": {},
   "outputs": [],
   "source": [
    "from sklearn import metrics\n",
    "\n",
    "print('Mean Absolute Error:', metrics.mean_absolute_error(y_test, y_pred))\n",
    "#print('Mean Squared Error:', metrics.mean_squared_error(y_test, y_pred))\n",
    "print('Root Mean Squared Error:', np.sqrt(metrics.mean_squared_error(y_test, y_pred)))\n",
    "print('R^2:', metrics.r2_score(y_test, y_pred))"
   ]
  },
  {
   "cell_type": "code",
   "execution_count": null,
   "id": "6a00bcd4",
   "metadata": {},
   "outputs": [],
   "source": [
    "from sklearn.model_selection import train_test_split\n",
    "\n",
    "X_train, X_test, y_train, y_test = train_test_split(x, y, test_size=0.3, random_state=0)\n",
    "\n",
    "from sklearn.ensemble import RandomForestRegressor\n",
    "\n",
    "regressor = RandomForestRegressor(n_estimators=100, random_state=0)\n",
    "regressor.fit(X_train, y_train)\n",
    "y_pred = regressor.predict(X_test)\n",
    "\n",
    "from sklearn import metrics\n",
    "\n",
    "print('Mean Absolute Error:', metrics.mean_absolute_error(y_test, y_pred))\n",
    "#print('Mean Squared Error:', metrics.mean_squared_error(y_test, y_pred))\n",
    "print('Root Mean Squared Error:', np.sqrt(metrics.mean_squared_error(y_test, y_pred)))\n",
    "print('R^2:', metrics.r2_score(y_test, y_pred))"
   ]
  },
  {
   "cell_type": "code",
   "execution_count": null,
   "id": "41d41c75",
   "metadata": {},
   "outputs": [],
   "source": [
    "from sklearn.model_selection import train_test_split\n",
    "\n",
    "X_train, X_test, y_train, y_test = train_test_split(x, y, test_size=0.3, random_state=0)\n",
    "\n",
    "from sklearn.ensemble import RandomForestRegressor\n",
    "\n",
    "regressor = RandomForestRegressor(n_estimators=100, random_state=0)\n",
    "regressor.fit(X_train, y_train)\n",
    "y_pred = regressor.predict(X_test)\n",
    "\n",
    "from sklearn import metrics\n",
    "\n",
    "print('Mean Absolute Error:', metrics.mean_absolute_error(y_test, y_pred))\n",
    "#print('Mean Squared Error:', metrics.mean_squared_error(y_test, y_pred))\n",
    "print('Root Mean Squared Error:', np.sqrt(metrics.mean_squared_error(y_test, y_pred)))\n",
    "print('R^2:', metrics.r2_score(y_test, y_pred))"
   ]
  },
  {
   "cell_type": "code",
   "execution_count": null,
   "id": "09db80d9",
   "metadata": {},
   "outputs": [],
   "source": [
    "from sklearn.model_selection import train_test_split\n",
    "\n",
    "X_train, X_test, y_train, y_test = train_test_split(x, y, test_size=0.3, random_state=0)\n",
    "\n",
    "from sklearn.ensemble import RandomForestRegressor\n",
    "\n",
    "regressor = RandomForestRegressor(n_estimators=100, random_state=0)\n",
    "regressor.fit(X_train, y_train)\n",
    "y_pred = regressor.predict(X_test)\n",
    "\n",
    "from sklearn import metrics\n",
    "\n",
    "print('Mean Absolute Error:', metrics.mean_absolute_error(y_test, y_pred))\n",
    "#print('Mean Squared Error:', metrics.mean_squared_error(y_test, y_pred))\n",
    "print('Root Mean Squared Error:', np.sqrt(metrics.mean_squared_error(y_test, y_pred)))\n",
    "print('R^2:', metrics.r2_score(y_test, y_pred))"
   ]
  },
  {
   "cell_type": "code",
   "execution_count": null,
   "id": "d519fef9",
   "metadata": {},
   "outputs": [],
   "source": [
    "from sklearn.model_selection import train_test_split\n",
    "\n",
    "X_train, X_test, y_train, y_test = train_test_split(x, y, test_size=0.3, random_state=0)\n",
    "\n",
    "from sklearn.ensemble import RandomForestRegressor\n",
    "\n",
    "regressor = RandomForestRegressor(n_estimators=100, random_state=0)\n",
    "regressor.fit(X_train, y_train)\n",
    "y_pred = regressor.predict(X_test)\n",
    "\n",
    "from sklearn import metrics\n",
    "\n",
    "print('Mean Absolute Error:', metrics.mean_absolute_error(y_test, y_pred))\n",
    "#print('Mean Squared Error:', metrics.mean_squared_error(y_test, y_pred))\n",
    "print('Root Mean Squared Error:', np.sqrt(metrics.mean_squared_error(y_test, y_pred)))\n",
    "print('R^2:', metrics.r2_score(y_test, y_pred))"
   ]
  },
  {
   "cell_type": "code",
   "execution_count": null,
   "id": "1354c10f",
   "metadata": {},
   "outputs": [],
   "source": [
    "from sklearn.model_selection import train_test_split\n",
    "\n",
    "X_train, X_test, y_train, y_test = train_test_split(x, y, test_size=0.3, random_state=0)\n",
    "\n",
    "from sklearn.ensemble import RandomForestRegressor\n",
    "\n",
    "regressor = RandomForestRegressor(n_estimators=100, random_state=0)\n",
    "regressor.fit(X_train, y_train)\n",
    "y_pred = regressor.predict(X_test)\n",
    "\n",
    "from sklearn import metrics\n",
    "\n",
    "print('Mean Absolute Error:', metrics.mean_absolute_error(y_test, y_pred))\n",
    "#print('Mean Squared Error:', metrics.mean_squared_error(y_test, y_pred))\n",
    "print('Root Mean Squared Error:', np.sqrt(metrics.mean_squared_error(y_test, y_pred)))\n",
    "print('R^2:', metrics.r2_score(y_test, y_pred))"
   ]
  },
  {
   "cell_type": "code",
   "execution_count": null,
   "id": "1537d97a",
   "metadata": {},
   "outputs": [],
   "source": [
    "from sklearn.model_selection import train_test_split\n",
    "\n",
    "X_train, X_test, y_train, y_test = train_test_split(x, y, test_size=0.3, random_state=0)\n",
    "\n",
    "from sklearn.ensemble import RandomForestRegressor\n",
    "\n",
    "regressor = RandomForestRegressor(n_estimators=100, random_state=0)\n",
    "regressor.fit(X_train, y_train)\n",
    "y_pred = regressor.predict(X_test)\n",
    "\n",
    "from sklearn import metrics\n",
    "\n",
    "print('Mean Absolute Error:', metrics.mean_absolute_error(y_test, y_pred))\n",
    "#print('Mean Squared Error:', metrics.mean_squared_error(y_test, y_pred))\n",
    "print('Root Mean Squared Error:', np.sqrt(metrics.mean_squared_error(y_test, y_pred)))\n",
    "print('R^2:', metrics.r2_score(y_test, y_pred))"
   ]
  },
  {
   "cell_type": "code",
   "execution_count": null,
   "id": "7cb80950",
   "metadata": {
    "scrolled": true
   },
   "outputs": [],
   "source": [
    "from sklearn.model_selection import train_test_split\n",
    "\n",
    "X_train, X_test, y_train, y_test = train_test_split(x, y, test_size=0.3, random_state=0)\n",
    "\n",
    "from sklearn.ensemble import RandomForestRegressor\n",
    "\n",
    "regressor = RandomForestRegressor(n_estimators=100, random_state=0)\n",
    "regressor.fit(X_train, y_train)\n",
    "y_pred = regressor.predict(X_test)\n",
    "\n",
    "from sklearn import metrics\n",
    "\n",
    "print('Mean Absolute Error:', metrics.mean_absolute_error(y_test, y_pred))\n",
    "#print('Mean Squared Error:', metrics.mean_squared_error(y_test, y_pred))\n",
    "print('Root Mean Squared Error:', np.sqrt(metrics.mean_squared_error(y_test, y_pred)))\n",
    "print('R^2:', metrics.r2_score(y_test, y_pred))"
   ]
  },
  {
   "cell_type": "code",
   "execution_count": null,
   "id": "17d12aa0",
   "metadata": {},
   "outputs": [],
   "source": [
    "#predicting the value\n",
    "y_predict = regressor.predict([[1399.0, 2, 3, 888.0, 1467.051521, 4.2, 1, 74, 6, 1, 1.9]])\n",
    "print(\"Predicted Price = RM\", y_predict[0])"
   ]
  },
  {
   "cell_type": "code",
   "execution_count": null,
   "id": "2b2624ae",
   "metadata": {},
   "outputs": [],
   "source": [
    "#predicting the value\n",
    "y_predict = regressor.predict([[1539.0, 1, 3, 700.0,81.502862, 4.2, 0, 49, 6, 0,0.65,9.1]])\n",
    "print(\"Predicted Price = RM\", y_predict[0])"
   ]
  },
  {
   "cell_type": "code",
   "execution_count": null,
   "id": "2782c7dc",
   "metadata": {},
   "outputs": [],
   "source": [
    "X_train.head()"
   ]
  },
  {
   "cell_type": "code",
   "execution_count": null,
   "id": "f12d1e15",
   "metadata": {},
   "outputs": [],
   "source": [
    "X_test.head()"
   ]
  },
  {
   "cell_type": "code",
   "execution_count": null,
   "id": "479c0f14",
   "metadata": {},
   "outputs": [],
   "source": [
    "y_train.head()"
   ]
  },
  {
   "cell_type": "markdown",
   "id": "9b7ddcf0",
   "metadata": {},
   "source": [
    "# SVR MODEL"
   ]
  },
  {
   "cell_type": "code",
   "execution_count": null,
   "id": "1e404331",
   "metadata": {},
   "outputs": [],
   "source": [
    "'Distance between Hospital, KM','Distance between School KM'"
   ]
  },
  {
   "cell_type": "code",
   "execution_count": null,
   "id": "93e58922",
   "metadata": {},
   "outputs": [],
   "source": [
    "y = house_price3['Purchase Price']\n",
    "x = house_price3[['Land Area','Rooms','Built Up Area', 'Minimum Income Formula','Interest Rate','Tenure','District','Building Type','State','Distance between School KM']]"
   ]
  },
  {
   "cell_type": "code",
   "execution_count": null,
   "id": "a3591f37",
   "metadata": {},
   "outputs": [],
   "source": [
    "from sklearn.model_selection import train_test_split\n",
    "\n",
    "X_train, X_test, y_train, y_test = train_test_split(x, y, test_size=0.3, random_state=0)"
   ]
  },
  {
   "cell_type": "code",
   "execution_count": null,
   "id": "d06160aa",
   "metadata": {},
   "outputs": [],
   "source": [
    "from sklearn.svm import SVR\n",
    "regressor = SVR(kernel = 'linear')\n",
    "regressor.fit(X_train, y_train)\n",
    "y_pred = regressor.predict(X_test)"
   ]
  },
  {
   "cell_type": "code",
   "execution_count": null,
   "id": "414d91ba",
   "metadata": {},
   "outputs": [],
   "source": [
    "from sklearn import metrics\n",
    "\n",
    "print('Mean Absolute Error:', metrics.mean_absolute_error(y_test, y_pred))\n",
    "print('Mean Squared Error:', metrics.mean_squared_error(y_test, y_pred))\n",
    "print('Root Mean Squared Error:', np.sqrt(metrics.mean_squared_error(y_test, y_pred)))\n",
    "print('R^2:', metrics.r2_score(y_test, y_pred))"
   ]
  },
  {
   "cell_type": "code",
   "execution_count": null,
   "id": "8ae67c00",
   "metadata": {},
   "outputs": [],
   "source": [
    "X_train.head()"
   ]
  },
  {
   "cell_type": "code",
   "execution_count": null,
   "id": "8cf12b32",
   "metadata": {},
   "outputs": [],
   "source": [
    "y_train.head()"
   ]
  },
  {
   "cell_type": "code",
   "execution_count": null,
   "id": "004192dd",
   "metadata": {},
   "outputs": [],
   "source": [
    "#predicting the value\n",
    "y_predict = regressor.predict([[958.0, 2, 3.0, 668.0,815.028623, 4.2, 0, 86, 6, 1]])\n",
    "print(\"Predicted Price = RM\", y_predict[0])"
   ]
  },
  {
   "cell_type": "code",
   "execution_count": null,
   "id": "88eda69f",
   "metadata": {},
   "outputs": [],
   "source": [
    "#predicting the value\n",
    "y_predict = regressor.predict([[1600.0, 3, 888.0,431.965170, 4.2, 0, 75, 6, 1,0.16,3.7]])\n",
    "print(\"Predicted Price = RM\", y_predict[0])"
   ]
  },
  {
   "cell_type": "code",
   "execution_count": null,
   "id": "68157c25",
   "metadata": {},
   "outputs": [],
   "source": [
    "house_price3.head(5)"
   ]
  },
  {
   "cell_type": "code",
   "execution_count": null,
   "id": "b72fb746",
   "metadata": {},
   "outputs": [],
   "source": [
    "#predicting the value\n",
    "y_predict = regressor.predict([[1539.0, 1, 3, 700.0, 81.502862, 4.2, 0, 49, 6, 0]])\n",
    "print(\"Predicted Price = RM\", y_predict[0])"
   ]
  },
  {
   "cell_type": "code",
   "execution_count": null,
   "id": "6d561138",
   "metadata": {},
   "outputs": [],
   "source": [
    "house_price5.head(5)"
   ]
  },
  {
   "cell_type": "code",
   "execution_count": null,
   "id": "bfe660e8",
   "metadata": {},
   "outputs": [],
   "source": [
    "house_price5=house_price3.drop(['Interest Rate','Min Income'], axis=1)"
   ]
  },
  {
   "cell_type": "code",
   "execution_count": null,
   "id": "a82185db",
   "metadata": {},
   "outputs": [],
   "source": [
    "house_price5.head(5)"
   ]
  },
  {
   "cell_type": "code",
   "execution_count": null,
   "id": "73aca95f",
   "metadata": {},
   "outputs": [],
   "source": [
    "X = house_price5.iloc[:, 0:11].values\n",
    "y = house_price5.iloc[:, 11].values"
   ]
  },
  {
   "cell_type": "code",
   "execution_count": null,
   "id": "3f093bb8",
   "metadata": {},
   "outputs": [],
   "source": [
    "from sklearn.model_selection import train_test_split\n",
    "\n",
    "X_train, X_test, y_train, y_test = train_test_split(X, y, test_size=0.3, random_state=0)"
   ]
  },
  {
   "cell_type": "code",
   "execution_count": null,
   "id": "c53585ba",
   "metadata": {},
   "outputs": [],
   "source": [
    "X_train.shape()"
   ]
  },
  {
   "cell_type": "code",
   "execution_count": null,
   "id": "f5e20a83",
   "metadata": {},
   "outputs": [],
   "source": [
    "X_test.shape()"
   ]
  },
  {
   "cell_type": "code",
   "execution_count": null,
   "id": "c3ed6632",
   "metadata": {},
   "outputs": [],
   "source": [
    "from sklearn.ensemble import RandomForestRegressor\n",
    "\n",
    "regressor = RandomForestRegressor(n_estimators=100, random_state=0)\n",
    "regressor.fit(X_train, y_train)\n",
    "y_pred = regressor.predict(X_test)"
   ]
  },
  {
   "cell_type": "code",
   "execution_count": null,
   "id": "1740975b",
   "metadata": {},
   "outputs": [],
   "source": [
    "from sklearn import metrics\n",
    "\n",
    "print('Mean Absolute Error:', metrics.mean_absolute_error(y_test, y_pred))\n",
    "print('Mean Squared Error:', metrics.mean_squared_error(y_test, y_pred))\n",
    "print('Root Mean Squared Error:', np.sqrt(metrics.mean_squared_error(y_test, y_pred)))\n",
    "print('R^2:', metrics.r2_score(y_test, y_pred))"
   ]
  },
  {
   "cell_type": "code",
   "execution_count": null,
   "id": "c54d6463",
   "metadata": {},
   "outputs": [],
   "source": []
  },
  {
   "cell_type": "code",
   "execution_count": null,
   "id": "cf056013",
   "metadata": {},
   "outputs": [],
   "source": []
  },
  {
   "cell_type": "markdown",
   "id": "69cc546f",
   "metadata": {},
   "source": [
    "## Select Built Up Area Attribute"
   ]
  },
  {
   "cell_type": "code",
   "execution_count": null,
   "id": "65a2a95f",
   "metadata": {},
   "outputs": [],
   "source": [
    "house_price5=house_price3.drop(['State','District','Building Type','Tenure','Floors','Rooms','Land Area','Price psf','Interest Rate','Minimum Income','Distance between School KM','Distance between Hospital, KM'], axis=1)"
   ]
  },
  {
   "cell_type": "code",
   "execution_count": null,
   "id": "d31fcab8",
   "metadata": {},
   "outputs": [],
   "source": [
    "house_price5.head(5)"
   ]
  },
  {
   "cell_type": "code",
   "execution_count": null,
   "id": "ee1aab50",
   "metadata": {},
   "outputs": [],
   "source": [
    "X = house_price5.iloc[:, 0:1].values\n",
    "y = house_price5.iloc[:, 1].values"
   ]
  },
  {
   "cell_type": "code",
   "execution_count": null,
   "id": "a5dc647e",
   "metadata": {},
   "outputs": [],
   "source": [
    "from sklearn.model_selection import train_test_split\n",
    "\n",
    "X_train, X_test, y_train, y_test = train_test_split(X, y, test_size=0.3, random_state=0)"
   ]
  },
  {
   "cell_type": "code",
   "execution_count": null,
   "id": "17960d2f",
   "metadata": {},
   "outputs": [],
   "source": [
    "from sklearn.ensemble import RandomForestRegressor\n",
    "\n",
    "regressor = RandomForestRegressor(n_estimators=100, random_state=0)\n",
    "regressor.fit(X_train, y_train)\n",
    "y_pred = regressor.predict(X_test)"
   ]
  },
  {
   "cell_type": "code",
   "execution_count": null,
   "id": "edbdfa4f",
   "metadata": {},
   "outputs": [],
   "source": [
    "from sklearn import metrics\n",
    "\n",
    "print('Mean Absolute Error:', metrics.mean_absolute_error(y_test, y_pred))\n",
    "print('Mean Squared Error:', metrics.mean_squared_error(y_test, y_pred))\n",
    "print('Root Mean Squared Error:', np.sqrt(metrics.mean_squared_error(y_test, y_pred)))\n",
    "print('R^2:', metrics.r2_score(y_test, y_pred))"
   ]
  },
  {
   "cell_type": "markdown",
   "id": "d48d424a",
   "metadata": {},
   "source": [
    "## Select Floors Attribute "
   ]
  },
  {
   "cell_type": "code",
   "execution_count": null,
   "id": "82953696",
   "metadata": {},
   "outputs": [],
   "source": [
    "house_price6=house_price3.drop(['State','District','Building Type','Tenure','Built Up Area','Rooms','Land Area','Price psf','Interest Rate','Minimum Income','Distance between School KM','Distance between Hospital, KM'], axis=1)"
   ]
  },
  {
   "cell_type": "code",
   "execution_count": null,
   "id": "b363b714",
   "metadata": {},
   "outputs": [],
   "source": [
    "house_price6.head(5)"
   ]
  },
  {
   "cell_type": "code",
   "execution_count": null,
   "id": "c9462d4d",
   "metadata": {},
   "outputs": [],
   "source": [
    "X = house_price6.iloc[:, 0:1].values\n",
    "y = house_price6.iloc[:, 1].values"
   ]
  },
  {
   "cell_type": "code",
   "execution_count": null,
   "id": "8721da27",
   "metadata": {},
   "outputs": [],
   "source": [
    "from sklearn.model_selection import train_test_split\n",
    "\n",
    "X_train, X_test, y_train, y_test = train_test_split(X, y, test_size=0.3, random_state=0)"
   ]
  },
  {
   "cell_type": "code",
   "execution_count": null,
   "id": "d16859dc",
   "metadata": {},
   "outputs": [],
   "source": [
    "from sklearn.ensemble import RandomForestRegressor\n",
    "\n",
    "regressor = RandomForestRegressor(n_estimators=100, random_state=0)\n",
    "regressor.fit(X_train, y_train)\n",
    "y_pred = regressor.predict(X_test)"
   ]
  },
  {
   "cell_type": "code",
   "execution_count": null,
   "id": "5eb57d66",
   "metadata": {},
   "outputs": [],
   "source": [
    "from sklearn import metrics\n",
    "\n",
    "print('Mean Absolute Error:', metrics.mean_absolute_error(y_test, y_pred))\n",
    "print('Mean Squared Error:', metrics.mean_squared_error(y_test, y_pred))\n",
    "print('Root Mean Squared Error:', np.sqrt(metrics.mean_squared_error(y_test, y_pred)))\n",
    "print('R^2:', metrics.r2_score(y_test, y_pred))"
   ]
  },
  {
   "cell_type": "markdown",
   "id": "20c4f08b",
   "metadata": {},
   "source": [
    "## Select Rooms Attribute "
   ]
  },
  {
   "cell_type": "code",
   "execution_count": null,
   "id": "b24f2716",
   "metadata": {},
   "outputs": [],
   "source": [
    "house_price7=house_price3.drop(['State','District','Building Type','Tenure','Built Up Area','Floors','Land Area','Price psf','Interest Rate','Minimum Income','Distance between School KM','Distance between Hospital, KM'], axis=1)"
   ]
  },
  {
   "cell_type": "code",
   "execution_count": null,
   "id": "ac066659",
   "metadata": {},
   "outputs": [],
   "source": [
    "house_price7.head(5)"
   ]
  },
  {
   "cell_type": "code",
   "execution_count": null,
   "id": "3b167a99",
   "metadata": {},
   "outputs": [],
   "source": [
    "X = house_price7.iloc[:, 0:1].values\n",
    "y = house_price7.iloc[:, 1].values"
   ]
  },
  {
   "cell_type": "code",
   "execution_count": null,
   "id": "603d86f0",
   "metadata": {},
   "outputs": [],
   "source": [
    "from sklearn.model_selection import train_test_split\n",
    "\n",
    "X_train, X_test, y_train, y_test = train_test_split(X, y, test_size=0.3, random_state=0)"
   ]
  },
  {
   "cell_type": "code",
   "execution_count": null,
   "id": "4e580154",
   "metadata": {},
   "outputs": [],
   "source": [
    "from sklearn.ensemble import RandomForestRegressor\n",
    "\n",
    "regressor = RandomForestRegressor(n_estimators=100, random_state=0)\n",
    "regressor.fit(X_train, y_train)\n",
    "y_pred = regressor.predict(X_test)"
   ]
  },
  {
   "cell_type": "code",
   "execution_count": null,
   "id": "826b63fa",
   "metadata": {},
   "outputs": [],
   "source": [
    "from sklearn import metrics\n",
    "\n",
    "print('Mean Absolute Error:', metrics.mean_absolute_error(y_test, y_pred))\n",
    "print('Mean Squared Error:', metrics.mean_squared_error(y_test, y_pred))\n",
    "print('Root Mean Squared Error:', np.sqrt(metrics.mean_squared_error(y_test, y_pred)))\n",
    "print('R^2:', metrics.r2_score(y_test, y_pred))"
   ]
  },
  {
   "cell_type": "markdown",
   "id": "bb3691d9",
   "metadata": {},
   "source": [
    "## Select State Attribute "
   ]
  },
  {
   "cell_type": "code",
   "execution_count": null,
   "id": "f15c38d8",
   "metadata": {},
   "outputs": [],
   "source": [
    "house_price8=house_price3.drop(['Rooms','District','Building Type','Tenure','Built Up Area','Floors','Land Area','Price psf','Interest Rate','Minimum Income','Distance between School KM','Distance between Hospital, KM'], axis=1)"
   ]
  },
  {
   "cell_type": "code",
   "execution_count": null,
   "id": "9a94f4b3",
   "metadata": {},
   "outputs": [],
   "source": [
    "house_price8.head(5)"
   ]
  },
  {
   "cell_type": "code",
   "execution_count": null,
   "id": "65c3611b",
   "metadata": {},
   "outputs": [],
   "source": [
    "X = house_price8.iloc[:, 0:1].values\n",
    "y = house_price8.iloc[:, 1].values"
   ]
  },
  {
   "cell_type": "code",
   "execution_count": null,
   "id": "667c145d",
   "metadata": {},
   "outputs": [],
   "source": [
    "from sklearn.model_selection import train_test_split\n",
    "\n",
    "X_train, X_test, y_train, y_test = train_test_split(X, y, test_size=0.3, random_state=0)"
   ]
  },
  {
   "cell_type": "code",
   "execution_count": null,
   "id": "c609678b",
   "metadata": {},
   "outputs": [],
   "source": [
    "from sklearn.ensemble import RandomForestRegressor\n",
    "\n",
    "regressor = RandomForestRegressor(n_estimators=100, random_state=0)\n",
    "regressor.fit(X_train, y_train)\n",
    "y_pred = regressor.predict(X_test)"
   ]
  },
  {
   "cell_type": "code",
   "execution_count": null,
   "id": "d8cf82f8",
   "metadata": {},
   "outputs": [],
   "source": [
    "from sklearn import metrics\n",
    "\n",
    "print('Mean Absolute Error:', metrics.mean_absolute_error(y_test, y_pred))\n",
    "print('Mean Squared Error:', metrics.mean_squared_error(y_test, y_pred))\n",
    "print('Root Mean Squared Error:', np.sqrt(metrics.mean_squared_error(y_test, y_pred)))\n",
    "print('R^2:', metrics.r2_score(y_test, y_pred))"
   ]
  },
  {
   "cell_type": "markdown",
   "id": "20df6a19",
   "metadata": {},
   "source": [
    "## Select Building Type Attribute \n"
   ]
  },
  {
   "cell_type": "code",
   "execution_count": null,
   "id": "44568566",
   "metadata": {},
   "outputs": [],
   "source": [
    "house_price9=house_price3.drop(['Rooms','District','State','Tenure','Built Up Area','Floors','Land Area','Price psf','Interest Rate','Minimum Income','Distance between School KM','Distance between Hospital, KM'], axis=1)"
   ]
  },
  {
   "cell_type": "code",
   "execution_count": null,
   "id": "49d0db77",
   "metadata": {},
   "outputs": [],
   "source": [
    "house_price9.head(5)"
   ]
  },
  {
   "cell_type": "code",
   "execution_count": null,
   "id": "d6728c1d",
   "metadata": {},
   "outputs": [],
   "source": [
    "X = house_price9.iloc[:, 0:1].values\n",
    "y = house_price9.iloc[:, 1].values"
   ]
  },
  {
   "cell_type": "code",
   "execution_count": null,
   "id": "62b960f8",
   "metadata": {},
   "outputs": [],
   "source": [
    "from sklearn.model_selection import train_test_split\n",
    "\n",
    "X_train, X_test, y_train, y_test = train_test_split(X, y, test_size=0.3, random_state=0)"
   ]
  },
  {
   "cell_type": "code",
   "execution_count": null,
   "id": "cb7e6fa5",
   "metadata": {},
   "outputs": [],
   "source": [
    "from sklearn.ensemble import RandomForestRegressor\n",
    "\n",
    "regressor = RandomForestRegressor(n_estimators=100, random_state=0)\n",
    "regressor.fit(X_train, y_train)\n",
    "y_pred = regressor.predict(X_test)"
   ]
  },
  {
   "cell_type": "code",
   "execution_count": null,
   "id": "9c0cf523",
   "metadata": {},
   "outputs": [],
   "source": [
    "from sklearn import metrics\n",
    "\n",
    "print('Mean Absolute Error:', metrics.mean_absolute_error(y_test, y_pred))\n",
    "print('Mean Squared Error:', metrics.mean_squared_error(y_test, y_pred))\n",
    "print('Root Mean Squared Error:', np.sqrt(metrics.mean_squared_error(y_test, y_pred)))\n",
    "print('R^2:', metrics.r2_score(y_test, y_pred))"
   ]
  },
  {
   "cell_type": "markdown",
   "id": "11a20ded",
   "metadata": {},
   "source": [
    "## Select Tenure Attribute \n"
   ]
  },
  {
   "cell_type": "code",
   "execution_count": null,
   "id": "b8ee4d0c",
   "metadata": {},
   "outputs": [],
   "source": [
    "house_price10=house_price3.drop(['Rooms','District','State','Building Type','Built Up Area','Floors','Land Area','Price psf','Interest Rate','Minimum Income','Distance between School KM','Distance between Hospital, KM'], axis=1)"
   ]
  },
  {
   "cell_type": "code",
   "execution_count": null,
   "id": "80b2c206",
   "metadata": {},
   "outputs": [],
   "source": [
    "house_price10.head(5)"
   ]
  },
  {
   "cell_type": "code",
   "execution_count": null,
   "id": "76077c33",
   "metadata": {},
   "outputs": [],
   "source": [
    "X = house_price10.iloc[:, 0:1].values\n",
    "y = house_price10.iloc[:, 1].values"
   ]
  },
  {
   "cell_type": "code",
   "execution_count": null,
   "id": "890b3e44",
   "metadata": {},
   "outputs": [],
   "source": [
    "from sklearn.model_selection import train_test_split\n",
    "\n",
    "X_train, X_test, y_train, y_test = train_test_split(X, y, test_size=0.3, random_state=0)"
   ]
  },
  {
   "cell_type": "code",
   "execution_count": null,
   "id": "5fc85a47",
   "metadata": {},
   "outputs": [],
   "source": [
    "from sklearn.ensemble import RandomForestRegressor\n",
    "\n",
    "regressor = RandomForestRegressor(n_estimators=100, random_state=0)\n",
    "regressor.fit(X_train, y_train)\n",
    "y_pred = regressor.predict(X_test)"
   ]
  },
  {
   "cell_type": "code",
   "execution_count": null,
   "id": "d84b9530",
   "metadata": {},
   "outputs": [],
   "source": [
    "from sklearn import metrics\n",
    "\n",
    "print('Mean Absolute Error:', metrics.mean_absolute_error(y_test, y_pred))\n",
    "print('Mean Squared Error:', metrics.mean_squared_error(y_test, y_pred))\n",
    "print('Root Mean Squared Error:', np.sqrt(metrics.mean_squared_error(y_test, y_pred)))\n",
    "print('R^2:', metrics.r2_score(y_test, y_pred))"
   ]
  },
  {
   "cell_type": "markdown",
   "id": "ff66b45e",
   "metadata": {},
   "source": [
    "## Select Hospital Attribute \n"
   ]
  },
  {
   "cell_type": "code",
   "execution_count": null,
   "id": "70923db9",
   "metadata": {},
   "outputs": [],
   "source": [
    "house_price11=house_price3.drop(['Rooms','District','State','Building Type','Built Up Area','Floors','Land Area','Price psf','Interest Rate','Minimum Income','Distance between School KM','Tenure'], axis=1)"
   ]
  },
  {
   "cell_type": "code",
   "execution_count": null,
   "id": "a38fe780",
   "metadata": {},
   "outputs": [],
   "source": [
    "house_price11.head(5)"
   ]
  },
  {
   "cell_type": "code",
   "execution_count": null,
   "id": "42672db8",
   "metadata": {},
   "outputs": [],
   "source": [
    "X = house_price11.iloc[:, 0:1].values\n",
    "y = house_price11.iloc[:, 1].values"
   ]
  },
  {
   "cell_type": "code",
   "execution_count": null,
   "id": "043bde09",
   "metadata": {},
   "outputs": [],
   "source": [
    "from sklearn.model_selection import train_test_split\n",
    "\n",
    "X_train, X_test, y_train, y_test = train_test_split(X, y, test_size=0.3, random_state=0)"
   ]
  },
  {
   "cell_type": "code",
   "execution_count": null,
   "id": "6cb04a05",
   "metadata": {},
   "outputs": [],
   "source": [
    "from sklearn.ensemble import RandomForestRegressor\n",
    "\n",
    "regressor = RandomForestRegressor(n_estimators=100, random_state=0)\n",
    "regressor.fit(X_train, y_train)\n",
    "y_pred = regressor.predict(X_test)"
   ]
  },
  {
   "cell_type": "code",
   "execution_count": null,
   "id": "ffa06c90",
   "metadata": {},
   "outputs": [],
   "source": [
    "from sklearn import metrics\n",
    "\n",
    "print('Mean Absolute Error:', metrics.mean_absolute_error(y_test, y_pred))\n",
    "print('Mean Squared Error:', metrics.mean_squared_error(y_test, y_pred))\n",
    "print('Root Mean Squared Error:', np.sqrt(metrics.mean_squared_error(y_test, y_pred)))\n",
    "print('R^2:', metrics.r2_score(y_test, y_pred))"
   ]
  },
  {
   "cell_type": "markdown",
   "id": "4cf61001",
   "metadata": {},
   "source": [
    "## Select School Attribute "
   ]
  },
  {
   "cell_type": "code",
   "execution_count": null,
   "id": "5598ebfa",
   "metadata": {},
   "outputs": [],
   "source": [
    "house_price12=house_price3.drop(['Rooms','District','State','Building Type','Built Up Area','Floors','Land Area','Price psf','Interest Rate','Minimum Income','Distance between Hospital, KM','Tenure'], axis=1)"
   ]
  },
  {
   "cell_type": "code",
   "execution_count": null,
   "id": "339fb35e",
   "metadata": {},
   "outputs": [],
   "source": [
    "house_price12.head(5)"
   ]
  },
  {
   "cell_type": "code",
   "execution_count": null,
   "id": "50653ad8",
   "metadata": {},
   "outputs": [],
   "source": [
    "X = house_price12.iloc[:, 0:1].values\n",
    "y = house_price12.iloc[:, 1].values"
   ]
  },
  {
   "cell_type": "code",
   "execution_count": null,
   "id": "5516a281",
   "metadata": {},
   "outputs": [],
   "source": [
    "from sklearn.model_selection import train_test_split\n",
    "\n",
    "X_train, X_test, y_train, y_test = train_test_split(X, y, test_size=0.3, random_state=0)"
   ]
  },
  {
   "cell_type": "code",
   "execution_count": null,
   "id": "e1ee23f6",
   "metadata": {},
   "outputs": [],
   "source": [
    "from sklearn.ensemble import RandomForestRegressor\n",
    "\n",
    "regressor = RandomForestRegressor(n_estimators=100, random_state=0)\n",
    "regressor.fit(X_train, y_train)\n",
    "y_pred = regressor.predict(X_test)"
   ]
  },
  {
   "cell_type": "code",
   "execution_count": null,
   "id": "33c0eeee",
   "metadata": {},
   "outputs": [],
   "source": [
    "from sklearn import metrics\n",
    "\n",
    "print('Mean Absolute Error:', metrics.mean_absolute_error(y_test, y_pred))\n",
    "print('Mean Squared Error:', metrics.mean_squared_error(y_test, y_pred))\n",
    "print('Root Mean Squared Error:', np.sqrt(metrics.mean_squared_error(y_test, y_pred)))\n",
    "print('R^2:', metrics.r2_score(y_test, y_pred))"
   ]
  },
  {
   "cell_type": "markdown",
   "id": "598a8737",
   "metadata": {},
   "source": [
    "## Select Price psf Attribute "
   ]
  },
  {
   "cell_type": "code",
   "execution_count": null,
   "id": "8a78191d",
   "metadata": {},
   "outputs": [],
   "source": [
    "house_price13=house_price3.drop(['Rooms','District','State','Building Type','Built Up Area','Floors','Land Area','Distance between School KM','Interest Rate','Minimum Income','Distance between Hospital, KM','Tenure'], axis=1)"
   ]
  },
  {
   "cell_type": "code",
   "execution_count": null,
   "id": "d945ac61",
   "metadata": {},
   "outputs": [],
   "source": [
    "house_price13.head(5)"
   ]
  },
  {
   "cell_type": "code",
   "execution_count": null,
   "id": "ce2c32e1",
   "metadata": {},
   "outputs": [],
   "source": [
    "X = house_price13.iloc[:, 0:1].values\n",
    "y = house_price13.iloc[:, 1].values"
   ]
  },
  {
   "cell_type": "code",
   "execution_count": null,
   "id": "41f13a08",
   "metadata": {},
   "outputs": [],
   "source": [
    "from sklearn.model_selection import train_test_split\n",
    "\n",
    "X_train, X_test, y_train, y_test = train_test_split(X, y, test_size=0.3, random_state=0)"
   ]
  },
  {
   "cell_type": "code",
   "execution_count": null,
   "id": "df074687",
   "metadata": {},
   "outputs": [],
   "source": [
    "from sklearn.ensemble import RandomForestRegressor\n",
    "\n",
    "regressor = RandomForestRegressor(n_estimators=100, random_state=0)\n",
    "regressor.fit(X_train, y_train)\n",
    "y_pred = regressor.predict(X_test)"
   ]
  },
  {
   "cell_type": "code",
   "execution_count": null,
   "id": "ad64a61a",
   "metadata": {},
   "outputs": [],
   "source": [
    "from sklearn import metrics\n",
    "\n",
    "print('Mean Absolute Error:', metrics.mean_absolute_error(y_test, y_pred))\n",
    "print('Mean Squared Error:', metrics.mean_squared_error(y_test, y_pred))\n",
    "print('Root Mean Squared Error:', np.sqrt(metrics.mean_squared_error(y_test, y_pred)))\n",
    "print('R^2:', metrics.r2_score(y_test, y_pred))"
   ]
  },
  {
   "cell_type": "markdown",
   "id": "634e75e5",
   "metadata": {},
   "source": [
    "## Select District Attribute "
   ]
  },
  {
   "cell_type": "code",
   "execution_count": null,
   "id": "d0c47954",
   "metadata": {},
   "outputs": [],
   "source": [
    "house_price14=house_price3.drop(['Rooms','Price psf','State','Building Type','Built Up Area','Floors','Land Area','Distance between School KM','Interest Rate','Minimum Income','Distance between Hospital, KM','Tenure'], axis=1)"
   ]
  },
  {
   "cell_type": "code",
   "execution_count": null,
   "id": "9ff9aeb7",
   "metadata": {},
   "outputs": [],
   "source": [
    "house_price14.head(5)"
   ]
  },
  {
   "cell_type": "code",
   "execution_count": null,
   "id": "c2ee3539",
   "metadata": {},
   "outputs": [],
   "source": [
    "X = house_price14.iloc[:, 0:1].values\n",
    "y = house_price14.iloc[:, 1].values"
   ]
  },
  {
   "cell_type": "code",
   "execution_count": null,
   "id": "31a11fb6",
   "metadata": {},
   "outputs": [],
   "source": [
    "from sklearn.model_selection import train_test_split\n",
    "\n",
    "X_train, X_test, y_train, y_test = train_test_split(X, y, test_size=0.3, random_state=0)"
   ]
  },
  {
   "cell_type": "code",
   "execution_count": null,
   "id": "809680a3",
   "metadata": {},
   "outputs": [],
   "source": [
    "from sklearn.ensemble import RandomForestRegressor\n",
    "\n",
    "regressor = RandomForestRegressor(n_estimators=100, random_state=0)\n",
    "regressor.fit(X_train, y_train)\n",
    "y_pred = regressor.predict(X_test)"
   ]
  },
  {
   "cell_type": "code",
   "execution_count": null,
   "id": "d29834d8",
   "metadata": {},
   "outputs": [],
   "source": [
    "from sklearn import metrics\n",
    "\n",
    "print('Mean Absolute Error:', metrics.mean_absolute_error(y_test, y_pred))\n",
    "print('Mean Squared Error:', metrics.mean_squared_error(y_test, y_pred))\n",
    "print('Root Mean Squared Error:', np.sqrt(metrics.mean_squared_error(y_test, y_pred)))\n",
    "print('R^2:', metrics.r2_score(y_test, y_pred))"
   ]
  },
  {
   "cell_type": "markdown",
   "id": "3749b470",
   "metadata": {},
   "source": [
    "## Select District Attribute "
   ]
  },
  {
   "cell_type": "code",
   "execution_count": null,
   "id": "56eea9b2",
   "metadata": {},
   "outputs": [],
   "source": [
    "house_price14=house_price3.drop(['Rooms','Price psf','State','Building Type','Built Up Area','Floors','Land Area','Distance between School KM','Interest Rate','District','Distance between Hospital, KM','Tenure'], axis=1)"
   ]
  },
  {
   "cell_type": "code",
   "execution_count": null,
   "id": "b022ded0",
   "metadata": {},
   "outputs": [],
   "source": [
    "y = house_price3['Purchase Price']\n",
    "X = house_price3[['Land Area','Floors','Rooms','Built Up Area', 'Minimum Income Formula','Interest Rate','Distance between School KM','Tenure','District','Building Type','State']]"
   ]
  },
  {
   "cell_type": "code",
   "execution_count": null,
   "id": "3e890891",
   "metadata": {},
   "outputs": [],
   "source": [
    "house_price14.head(5)"
   ]
  },
  {
   "cell_type": "code",
   "execution_count": null,
   "id": "0bb0a01d",
   "metadata": {},
   "outputs": [],
   "source": [
    "from sklearn.model_selection import train_test_split\n",
    "\n",
    "X_train, X_test, y_train, y_test = train_test_split(X, y, test_size=0.3, random_state=0)"
   ]
  },
  {
   "cell_type": "code",
   "execution_count": null,
   "id": "f14daa64",
   "metadata": {},
   "outputs": [],
   "source": [
    "X = house_price14.iloc[:, 0:1].values\n",
    "y = house_price14.iloc[:, 1].values"
   ]
  },
  {
   "cell_type": "code",
   "execution_count": null,
   "id": "f8af7a6c",
   "metadata": {},
   "outputs": [],
   "source": [
    "from sklearn.ensemble import RandomForestRegressor\n",
    "\n",
    "regressor = RandomForestRegressor(n_estimators=100, random_state=0)\n",
    "regressor.fit(X_train, y_train)\n",
    "y_pred = regressor.predict(X_test)"
   ]
  },
  {
   "cell_type": "code",
   "execution_count": null,
   "id": "86c3e120",
   "metadata": {},
   "outputs": [],
   "source": [
    "from sklearn import metrics\n",
    "\n",
    "print('Mean Absolute Error:', metrics.mean_absolute_error(y_test, y_pred))\n",
    "print('Mean Squared Error:', metrics.mean_squared_error(y_test, y_pred))\n",
    "print('Root Mean Squared Error:', np.sqrt(metrics.mean_squared_error(y_test, y_pred)))\n",
    "print('R^2:', metrics.r2_score(y_test, y_pred))"
   ]
  },
  {
   "cell_type": "markdown",
   "id": "c1a886b0",
   "metadata": {},
   "source": [
    "## Select Interest RAte Attribute \n"
   ]
  },
  {
   "cell_type": "code",
   "execution_count": null,
   "id": "9796181a",
   "metadata": {},
   "outputs": [],
   "source": [
    "house_price14=house_price3.drop(['Rooms','Price psf','State','Building Type','Built Up Area','Floors','Land Area','Distance between School KM','Minimum Income','District','Distance between Hospital, KM','Tenure'], axis=1)"
   ]
  },
  {
   "cell_type": "code",
   "execution_count": null,
   "id": "e7a63037",
   "metadata": {},
   "outputs": [],
   "source": [
    "house_price14.head(5)"
   ]
  },
  {
   "cell_type": "code",
   "execution_count": null,
   "id": "139e5608",
   "metadata": {},
   "outputs": [],
   "source": [
    "X = house_price14.iloc[:, 0:1].values\n",
    "y = house_price14.iloc[:, 1].values"
   ]
  },
  {
   "cell_type": "code",
   "execution_count": null,
   "id": "cab9ef15",
   "metadata": {},
   "outputs": [],
   "source": [
    "from sklearn.model_selection import train_test_split\n",
    "\n",
    "X_train, X_test, y_train, y_test = train_test_split(X, y, test_size=0.3, random_state=0)"
   ]
  },
  {
   "cell_type": "code",
   "execution_count": null,
   "id": "9156790e",
   "metadata": {},
   "outputs": [],
   "source": [
    "from sklearn.ensemble import RandomForestRegressor\n",
    "\n",
    "regressor = RandomForestRegressor(n_estimators=100, random_state=0)\n",
    "regressor.fit(X_train, y_train)\n",
    "y_pred = regressor.predict(X_test)"
   ]
  },
  {
   "cell_type": "code",
   "execution_count": null,
   "id": "933736b7",
   "metadata": {},
   "outputs": [],
   "source": [
    "from sklearn import metrics\n",
    "\n",
    "print('Mean Absolute Error:', metrics.mean_absolute_error(y_test, y_pred))\n",
    "print('Mean Squared Error:', metrics.mean_squared_error(y_test, y_pred))\n",
    "print('Root Mean Squared Error:', np.sqrt(metrics.mean_squared_error(y_test, y_pred)))\n",
    "print('R^2:', metrics.r2_score(y_test, y_pred))"
   ]
  },
  {
   "cell_type": "markdown",
   "id": "ab469517",
   "metadata": {},
   "source": [
    "## Select Price psf + Land Area Attribute \n"
   ]
  },
  {
   "cell_type": "code",
   "execution_count": null,
   "id": "a3336024",
   "metadata": {},
   "outputs": [],
   "source": [
    "house_price15=house_price3.drop(['Rooms','District','State','Building Type','Built Up Area','Floors','Distance between School KM','Interest Rate','Price psf','Distance between Hospital, KM','Tenure'], axis=1)"
   ]
  },
  {
   "cell_type": "code",
   "execution_count": null,
   "id": "628df32a",
   "metadata": {},
   "outputs": [],
   "source": [
    "house_price15.head(5)"
   ]
  },
  {
   "cell_type": "code",
   "execution_count": null,
   "id": "d1bdb652",
   "metadata": {},
   "outputs": [],
   "source": [
    "X = house_price15.iloc[:, 0:2].values\n",
    "y = house_price15.iloc[:, 2].values"
   ]
  },
  {
   "cell_type": "code",
   "execution_count": null,
   "id": "193c7f7d",
   "metadata": {},
   "outputs": [],
   "source": [
    "from sklearn.model_selection import train_test_split\n",
    "\n",
    "X_train, X_test, y_train, y_test = train_test_split(X, y, test_size=0.3, random_state=0)"
   ]
  },
  {
   "cell_type": "code",
   "execution_count": null,
   "id": "0a36580c",
   "metadata": {},
   "outputs": [],
   "source": [
    "from sklearn.ensemble import RandomForestRegressor\n",
    "\n",
    "regressor = RandomForestRegressor(n_estimators=100, random_state=0)\n",
    "regressor.fit(X_train, y_train)\n",
    "y_pred = regressor.predict(X_test)"
   ]
  },
  {
   "cell_type": "code",
   "execution_count": null,
   "id": "2ee748dc",
   "metadata": {},
   "outputs": [],
   "source": [
    "from sklearn import metrics\n",
    "\n",
    "print('Mean Absolute Error:', metrics.mean_absolute_error(y_test, y_pred))\n",
    "print('Mean Squared Error:', metrics.mean_squared_error(y_test, y_pred))\n",
    "print('Root Mean Squared Error:', np.sqrt(metrics.mean_squared_error(y_test, y_pred)))\n",
    "print('R^2:', metrics.r2_score(y_test, y_pred))"
   ]
  },
  {
   "cell_type": "markdown",
   "id": "09fc86cb",
   "metadata": {},
   "source": [
    "## Select Price psf + Built up area Attribute \n"
   ]
  },
  {
   "cell_type": "code",
   "execution_count": null,
   "id": "cb4feb2d",
   "metadata": {},
   "outputs": [],
   "source": [
    "house_price16=house_price3.drop(['Rooms','District','State','Building Type','Land Area','Floors','Distance between School KM','Interest Rate','Price psf','Distance between Hospital, KM','Tenure'], axis=1)"
   ]
  },
  {
   "cell_type": "code",
   "execution_count": null,
   "id": "b28c2911",
   "metadata": {},
   "outputs": [],
   "source": [
    "house_price16.head(5)"
   ]
  },
  {
   "cell_type": "code",
   "execution_count": null,
   "id": "0e57a87f",
   "metadata": {},
   "outputs": [],
   "source": [
    "X = house_price16.iloc[:, 0:2].values\n",
    "y = house_price16.iloc[:, 2].values"
   ]
  },
  {
   "cell_type": "code",
   "execution_count": null,
   "id": "fa7ad11b",
   "metadata": {},
   "outputs": [],
   "source": [
    "from sklearn.model_selection import train_test_split\n",
    "\n",
    "X_train, X_test, y_train, y_test = train_test_split(X, y, test_size=0.3, random_state=0)"
   ]
  },
  {
   "cell_type": "code",
   "execution_count": null,
   "id": "96f3e9d0",
   "metadata": {},
   "outputs": [],
   "source": [
    "from sklearn.ensemble import RandomForestRegressor\n",
    "\n",
    "regressor = RandomForestRegressor(n_estimators=100, random_state=0)\n",
    "regressor.fit(X_train, y_train)\n",
    "y_pred = regressor.predict(X_test)"
   ]
  },
  {
   "cell_type": "code",
   "execution_count": null,
   "id": "78ad773a",
   "metadata": {},
   "outputs": [],
   "source": [
    "from sklearn import metrics\n",
    "\n",
    "print('Mean Absolute Error:', metrics.mean_absolute_error(y_test, y_pred))\n",
    "print('Mean Squared Error:', metrics.mean_squared_error(y_test, y_pred))\n",
    "print('Root Mean Squared Error:', np.sqrt(metrics.mean_squared_error(y_test, y_pred)))\n",
    "print('R^2:', metrics.r2_score(y_test, y_pred))"
   ]
  },
  {
   "cell_type": "markdown",
   "id": "7f552c40",
   "metadata": {},
   "source": [
    "## Select Price psf + floor Attribute \n"
   ]
  },
  {
   "cell_type": "code",
   "execution_count": null,
   "id": "b3f84281",
   "metadata": {},
   "outputs": [],
   "source": [
    "house_price17=house_price3.drop(['Rooms','District','State','Building Type','Land Area','Built Up Area','Distance between School KM','Interest Rate','Price psf','Distance between Hospital, KM','Tenure'], axis=1)"
   ]
  },
  {
   "cell_type": "code",
   "execution_count": null,
   "id": "14f1a4db",
   "metadata": {},
   "outputs": [],
   "source": [
    "house_price17.head(5)"
   ]
  },
  {
   "cell_type": "code",
   "execution_count": null,
   "id": "c7d0fe80",
   "metadata": {},
   "outputs": [],
   "source": [
    "X = house_price17.iloc[:, 0:2].values\n",
    "y = house_price17.iloc[:, 2].values"
   ]
  },
  {
   "cell_type": "code",
   "execution_count": null,
   "id": "b65c097c",
   "metadata": {},
   "outputs": [],
   "source": [
    "from sklearn.model_selection import train_test_split\n",
    "\n",
    "X_train, X_test, y_train, y_test = train_test_split(X, y, test_size=0.3, random_state=0)"
   ]
  },
  {
   "cell_type": "code",
   "execution_count": null,
   "id": "50427e47",
   "metadata": {},
   "outputs": [],
   "source": [
    "from sklearn.ensemble import RandomForestRegressor\n",
    "\n",
    "regressor = RandomForestRegressor(n_estimators=100, random_state=0)\n",
    "regressor.fit(X_train, y_train)\n",
    "y_pred = regressor.predict(X_test)"
   ]
  },
  {
   "cell_type": "code",
   "execution_count": null,
   "id": "10b10849",
   "metadata": {},
   "outputs": [],
   "source": [
    "from sklearn import metrics\n",
    "\n",
    "print('Mean Absolute Error:', metrics.mean_absolute_error(y_test, y_pred))\n",
    "print('Mean Squared Error:', metrics.mean_squared_error(y_test, y_pred))\n",
    "print('Root Mean Squared Error:', np.sqrt(metrics.mean_squared_error(y_test, y_pred)))\n",
    "print('R^2:', metrics.r2_score(y_test, y_pred))"
   ]
  },
  {
   "cell_type": "markdown",
   "id": "ff88e79c",
   "metadata": {},
   "source": [
    "## Select Price psf + rooms Attribute "
   ]
  },
  {
   "cell_type": "code",
   "execution_count": null,
   "id": "9b021928",
   "metadata": {},
   "outputs": [],
   "source": [
    "house_price18=house_price3.drop(['Floors','District','State','Building Type','Land Area','Built Up Area','Distance between School KM','Interest Rate','Price psf','Distance between Hospital, KM','Tenure'], axis=1)"
   ]
  },
  {
   "cell_type": "code",
   "execution_count": null,
   "id": "6331012e",
   "metadata": {},
   "outputs": [],
   "source": [
    "house_price18.head(5)"
   ]
  },
  {
   "cell_type": "code",
   "execution_count": null,
   "id": "ae96c8e2",
   "metadata": {},
   "outputs": [],
   "source": [
    "X = house_price18.iloc[:, 0:2].values\n",
    "y = house_price18.iloc[:, 2].values"
   ]
  },
  {
   "cell_type": "code",
   "execution_count": null,
   "id": "494be682",
   "metadata": {},
   "outputs": [],
   "source": [
    "from sklearn.model_selection import train_test_split\n",
    "\n",
    "X_train, X_test, y_train, y_test = train_test_split(X, y, test_size=0.3, random_state=0)"
   ]
  },
  {
   "cell_type": "code",
   "execution_count": null,
   "id": "cc6a7e43",
   "metadata": {},
   "outputs": [],
   "source": [
    "from sklearn.ensemble import RandomForestRegressor\n",
    "\n",
    "regressor = RandomForestRegressor(n_estimators=100, random_state=0)\n",
    "regressor.fit(X_train, y_train)\n",
    "y_pred = regressor.predict(X_test)"
   ]
  },
  {
   "cell_type": "code",
   "execution_count": null,
   "id": "9a0bff37",
   "metadata": {},
   "outputs": [],
   "source": [
    "from sklearn import metrics\n",
    "\n",
    "print('Mean Absolute Error:', metrics.mean_absolute_error(y_test, y_pred))\n",
    "print('Mean Squared Error:', metrics.mean_squared_error(y_test, y_pred))\n",
    "print('Root Mean Squared Error:', np.sqrt(metrics.mean_squared_error(y_test, y_pred)))\n",
    "print('R^2:', metrics.r2_score(y_test, y_pred))"
   ]
  },
  {
   "cell_type": "markdown",
   "id": "fcfc0181",
   "metadata": {},
   "source": [
    "## Select Price psf + state Attribute "
   ]
  },
  {
   "cell_type": "code",
   "execution_count": null,
   "id": "b7cadf89",
   "metadata": {},
   "outputs": [],
   "source": [
    "house_price19=house_price3.drop(['Floors','District','Rooms','Building Type','Land Area','Built Up Area','Distance between School KM','Interest Rate','Price psf','Distance between Hospital, KM','Tenure'], axis=1)"
   ]
  },
  {
   "cell_type": "code",
   "execution_count": null,
   "id": "59537f5f",
   "metadata": {},
   "outputs": [],
   "source": [
    "house_price19.head(5)"
   ]
  },
  {
   "cell_type": "code",
   "execution_count": null,
   "id": "da479372",
   "metadata": {},
   "outputs": [],
   "source": [
    "X = house_price19.iloc[:, 0:2].values\n",
    "y = house_price19.iloc[:, 2].values"
   ]
  },
  {
   "cell_type": "code",
   "execution_count": null,
   "id": "d51ee128",
   "metadata": {},
   "outputs": [],
   "source": [
    "from sklearn.model_selection import train_test_split\n",
    "\n",
    "X_train, X_test, y_train, y_test = train_test_split(X, y, test_size=0.3, random_state=0)"
   ]
  },
  {
   "cell_type": "code",
   "execution_count": null,
   "id": "89cff16a",
   "metadata": {},
   "outputs": [],
   "source": [
    "from sklearn.ensemble import RandomForestRegressor\n",
    "\n",
    "regressor = RandomForestRegressor(n_estimators=100, random_state=0)\n",
    "regressor.fit(X_train, y_train)\n",
    "y_pred = regressor.predict(X_test)"
   ]
  },
  {
   "cell_type": "code",
   "execution_count": null,
   "id": "10caf07f",
   "metadata": {},
   "outputs": [],
   "source": [
    "from sklearn import metrics\n",
    "\n",
    "print('Mean Absolute Error:', metrics.mean_absolute_error(y_test, y_pred))\n",
    "print('Mean Squared Error:', metrics.mean_squared_error(y_test, y_pred))\n",
    "print('Root Mean Squared Error:', np.sqrt(metrics.mean_squared_error(y_test, y_pred)))\n",
    "print('R^2:', metrics.r2_score(y_test, y_pred))"
   ]
  },
  {
   "cell_type": "markdown",
   "id": "6f697cd3",
   "metadata": {},
   "source": [
    "## Select Price psf + building type Attribute \n"
   ]
  },
  {
   "cell_type": "code",
   "execution_count": null,
   "id": "6e941a23",
   "metadata": {},
   "outputs": [],
   "source": [
    "house_price20=house_price3.drop(['Floors','District','Rooms','State','Land Area','Built Up Area','Distance between School KM','Interest Rate','Price psf','Distance between Hospital, KM','Tenure'], axis=1)"
   ]
  },
  {
   "cell_type": "code",
   "execution_count": null,
   "id": "c1e85677",
   "metadata": {},
   "outputs": [],
   "source": [
    "house_price20.head(5)"
   ]
  },
  {
   "cell_type": "code",
   "execution_count": null,
   "id": "a05be8e4",
   "metadata": {},
   "outputs": [],
   "source": [
    "X = house_price20.iloc[:, 0:2].values\n",
    "y = house_price20.iloc[:, 2].values"
   ]
  },
  {
   "cell_type": "code",
   "execution_count": null,
   "id": "ee9d380f",
   "metadata": {},
   "outputs": [],
   "source": [
    "from sklearn.model_selection import train_test_split\n",
    "\n",
    "X_train, X_test, y_train, y_test = train_test_split(X, y, test_size=0.3, random_state=0)"
   ]
  },
  {
   "cell_type": "code",
   "execution_count": null,
   "id": "0829a7aa",
   "metadata": {},
   "outputs": [],
   "source": [
    "from sklearn.ensemble import RandomForestRegressor\n",
    "\n",
    "regressor = RandomForestRegressor(n_estimators=100, random_state=0)\n",
    "regressor.fit(X_train, y_train)\n",
    "y_pred = regressor.predict(X_test)"
   ]
  },
  {
   "cell_type": "code",
   "execution_count": null,
   "id": "bd6c4d43",
   "metadata": {},
   "outputs": [],
   "source": [
    "from sklearn import metrics\n",
    "\n",
    "print('Mean Absolute Error:', metrics.mean_absolute_error(y_test, y_pred))\n",
    "print('Mean Squared Error:', metrics.mean_squared_error(y_test, y_pred))\n",
    "print('Root Mean Squared Error:', np.sqrt(metrics.mean_squared_error(y_test, y_pred)))\n",
    "print('R^2:', metrics.r2_score(y_test, y_pred))"
   ]
  },
  {
   "cell_type": "markdown",
   "id": "15ca9cd5",
   "metadata": {},
   "source": [
    "## Select Price psf + tenure Attribute \n"
   ]
  },
  {
   "cell_type": "code",
   "execution_count": null,
   "id": "244c53e3",
   "metadata": {},
   "outputs": [],
   "source": [
    "house_price21=house_price3.drop(['Floors','District','Rooms','State','Land Area','Built Up Area','Distance between School KM','Interest Rate','Price psf','Distance between Hospital, KM','Building Type'], axis=1)"
   ]
  },
  {
   "cell_type": "code",
   "execution_count": null,
   "id": "775e5534",
   "metadata": {},
   "outputs": [],
   "source": [
    "house_price21.head(5)"
   ]
  },
  {
   "cell_type": "code",
   "execution_count": null,
   "id": "ae03f626",
   "metadata": {},
   "outputs": [],
   "source": [
    "X = house_price21.iloc[:, 0:2].values\n",
    "y = house_price21.iloc[:, 2].values"
   ]
  },
  {
   "cell_type": "code",
   "execution_count": null,
   "id": "586c086f",
   "metadata": {},
   "outputs": [],
   "source": [
    "from sklearn.model_selection import train_test_split\n",
    "\n",
    "X_train, X_test, y_train, y_test = train_test_split(X, y, test_size=0.3, random_state=0)"
   ]
  },
  {
   "cell_type": "code",
   "execution_count": null,
   "id": "a6fbb8c0",
   "metadata": {},
   "outputs": [],
   "source": [
    "from sklearn.ensemble import RandomForestRegressor\n",
    "\n",
    "regressor = RandomForestRegressor(n_estimators=100, random_state=0)\n",
    "regressor.fit(X_train, y_train)\n",
    "y_pred = regressor.predict(X_test)"
   ]
  },
  {
   "cell_type": "code",
   "execution_count": null,
   "id": "9a14ccce",
   "metadata": {},
   "outputs": [],
   "source": [
    "from sklearn import metrics\n",
    "\n",
    "print('Mean Absolute Error:', metrics.mean_absolute_error(y_test, y_pred))\n",
    "print('Mean Squared Error:', metrics.mean_squared_error(y_test, y_pred))\n",
    "print('Root Mean Squared Error:', np.sqrt(metrics.mean_squared_error(y_test, y_pred)))\n",
    "print('R^2:', metrics.r2_score(y_test, y_pred))"
   ]
  },
  {
   "cell_type": "markdown",
   "id": "2a4ffb08",
   "metadata": {},
   "source": [
    "## Select Price psf + hospital Attribute "
   ]
  },
  {
   "cell_type": "code",
   "execution_count": null,
   "id": "74b3ff47",
   "metadata": {},
   "outputs": [],
   "source": [
    "house_price22=house_price3.drop(['Floors','District','Rooms','State','Land Area','Built Up Area','Distance between School KM','Interest Rate','Price psf','Tenure','Building Type'], axis=1)"
   ]
  },
  {
   "cell_type": "code",
   "execution_count": null,
   "id": "a6d0c5ed",
   "metadata": {},
   "outputs": [],
   "source": [
    "house_price22.head(5)"
   ]
  },
  {
   "cell_type": "code",
   "execution_count": null,
   "id": "862284a9",
   "metadata": {},
   "outputs": [],
   "source": [
    "X = house_price22.iloc[:, 0:2].values\n",
    "y = house_price22.iloc[:, 2].values"
   ]
  },
  {
   "cell_type": "code",
   "execution_count": null,
   "id": "afebe4b9",
   "metadata": {},
   "outputs": [],
   "source": [
    "from sklearn.model_selection import train_test_split\n",
    "\n",
    "X_train, X_test, y_train, y_test = train_test_split(X, y, test_size=0.3, random_state=0)"
   ]
  },
  {
   "cell_type": "code",
   "execution_count": null,
   "id": "25c2bab8",
   "metadata": {},
   "outputs": [],
   "source": [
    "from sklearn.ensemble import RandomForestRegressor\n",
    "\n",
    "regressor = RandomForestRegressor(n_estimators=100, random_state=0)\n",
    "regressor.fit(X_train, y_train)\n",
    "y_pred = regressor.predict(X_test)"
   ]
  },
  {
   "cell_type": "code",
   "execution_count": null,
   "id": "d85df546",
   "metadata": {},
   "outputs": [],
   "source": [
    "from sklearn import metrics\n",
    "\n",
    "print('Mean Absolute Error:', metrics.mean_absolute_error(y_test, y_pred))\n",
    "print('Mean Squared Error:', metrics.mean_squared_error(y_test, y_pred))\n",
    "print('Root Mean Squared Error:', np.sqrt(metrics.mean_squared_error(y_test, y_pred)))\n",
    "print('R^2:', metrics.r2_score(y_test, y_pred))"
   ]
  },
  {
   "cell_type": "markdown",
   "id": "4aa76ae4",
   "metadata": {},
   "source": [
    "## Select Price psf + school Attribute \n"
   ]
  },
  {
   "cell_type": "code",
   "execution_count": null,
   "id": "4cc025fd",
   "metadata": {},
   "outputs": [],
   "source": [
    "house_price23=house_price3.drop(['Floors','District','Rooms','State','Land Area','Built Up Area','Distance between Hospital, KM','Interest Rate','Price psf','Tenure','Building Type'], axis=1)"
   ]
  },
  {
   "cell_type": "code",
   "execution_count": null,
   "id": "4fc1189b",
   "metadata": {},
   "outputs": [],
   "source": [
    "house_price23.head(5)"
   ]
  },
  {
   "cell_type": "code",
   "execution_count": null,
   "id": "78036f85",
   "metadata": {},
   "outputs": [],
   "source": [
    "X = house_price23.iloc[:, 0:2].values\n",
    "y = house_price23.iloc[:, 2].values"
   ]
  },
  {
   "cell_type": "code",
   "execution_count": null,
   "id": "98e37d58",
   "metadata": {},
   "outputs": [],
   "source": [
    "from sklearn.model_selection import train_test_split\n",
    "\n",
    "X_train, X_test, y_train, y_test = train_test_split(X, y, test_size=0.3, random_state=0)"
   ]
  },
  {
   "cell_type": "code",
   "execution_count": null,
   "id": "e217d3d3",
   "metadata": {},
   "outputs": [],
   "source": [
    "from sklearn.ensemble import RandomForestRegressor\n",
    "\n",
    "regressor = RandomForestRegressor(n_estimators=100, random_state=0)\n",
    "regressor.fit(X_train, y_train)\n",
    "y_pred = regressor.predict(X_test)"
   ]
  },
  {
   "cell_type": "code",
   "execution_count": null,
   "id": "39c8c53e",
   "metadata": {},
   "outputs": [],
   "source": [
    "from sklearn import metrics\n",
    "\n",
    "print('Mean Absolute Error:', metrics.mean_absolute_error(y_test, y_pred))\n",
    "print('Mean Squared Error:', metrics.mean_squared_error(y_test, y_pred))\n",
    "print('Root Mean Squared Error:', np.sqrt(metrics.mean_squared_error(y_test, y_pred)))\n",
    "print('R^2:', metrics.r2_score(y_test, y_pred))"
   ]
  },
  {
   "cell_type": "markdown",
   "id": "5ec07060",
   "metadata": {},
   "source": [
    "## Select Price psf + district Attribute \n"
   ]
  },
  {
   "cell_type": "code",
   "execution_count": null,
   "id": "890726ff",
   "metadata": {},
   "outputs": [],
   "source": [
    "house_price24=house_price3.drop(['Floors','Distance between School KM','Rooms','State','Land Area','Built Up Area','Distance between Hospital, KM','Interest Rate','Price psf','Tenure','Building Type'], axis=1)"
   ]
  },
  {
   "cell_type": "code",
   "execution_count": null,
   "id": "d9fbc3fc",
   "metadata": {},
   "outputs": [],
   "source": [
    "house_price24.head(5)"
   ]
  },
  {
   "cell_type": "code",
   "execution_count": null,
   "id": "3f50d4ea",
   "metadata": {},
   "outputs": [],
   "source": [
    "X = house_price24.iloc[:, 0:2].values\n",
    "y = house_price24.iloc[:, 2].values"
   ]
  },
  {
   "cell_type": "code",
   "execution_count": null,
   "id": "cca12a88",
   "metadata": {},
   "outputs": [],
   "source": [
    "from sklearn.model_selection import train_test_split\n",
    "\n",
    "X_train, X_test, y_train, y_test = train_test_split(X, y, test_size=0.3, random_state=0)"
   ]
  },
  {
   "cell_type": "code",
   "execution_count": null,
   "id": "1147ec5c",
   "metadata": {},
   "outputs": [],
   "source": [
    "from sklearn.ensemble import RandomForestRegressor\n",
    "\n",
    "regressor = RandomForestRegressor(n_estimators=100, random_state=0)\n",
    "regressor.fit(X_train, y_train)\n",
    "y_pred = regressor.predict(X_test)"
   ]
  },
  {
   "cell_type": "code",
   "execution_count": null,
   "id": "054e4b65",
   "metadata": {},
   "outputs": [],
   "source": [
    "from sklearn import metrics\n",
    "\n",
    "print('Mean Absolute Error:', metrics.mean_absolute_error(y_test, y_pred))\n",
    "print('Mean Squared Error:', metrics.mean_squared_error(y_test, y_pred))\n",
    "print('Root Mean Squared Error:', np.sqrt(metrics.mean_squared_error(y_test, y_pred)))\n",
    "print('R^2:', metrics.r2_score(y_test, y_pred))"
   ]
  },
  {
   "cell_type": "code",
   "execution_count": null,
   "id": "0900e0bd",
   "metadata": {},
   "outputs": [],
   "source": []
  },
  {
   "cell_type": "code",
   "execution_count": null,
   "id": "04a1b182",
   "metadata": {},
   "outputs": [],
   "source": [
    "house_price24=house_price3.drop(['Floors','Distance between School KM','Rooms','State','Land Area','Built Up Area','Distance between Hospital, KM','District','Price psf','Tenure','Building Type'], axis=1)"
   ]
  },
  {
   "cell_type": "code",
   "execution_count": null,
   "id": "757eaca5",
   "metadata": {},
   "outputs": [],
   "source": [
    "house_price24.head(5)"
   ]
  },
  {
   "cell_type": "code",
   "execution_count": null,
   "id": "b6eeba58",
   "metadata": {},
   "outputs": [],
   "source": [
    "from sklearn.model_selection import train_test_split\n",
    "\n",
    "X_train, X_test, y_train, y_test = train_test_split(X, y, test_size=0.3, random_state=0)"
   ]
  },
  {
   "cell_type": "code",
   "execution_count": null,
   "id": "545b7457",
   "metadata": {},
   "outputs": [],
   "source": [
    "from sklearn.ensemble import RandomForestRegressor\n",
    "\n",
    "regressor = RandomForestRegressor(n_estimators=100, random_state=0)\n",
    "regressor.fit(X_train, y_train)\n",
    "y_pred = regressor.predict(X_test)"
   ]
  },
  {
   "cell_type": "code",
   "execution_count": null,
   "id": "28a11376",
   "metadata": {},
   "outputs": [],
   "source": [
    "from sklearn import metrics\n",
    "\n",
    "print('Mean Absolute Error:', metrics.mean_absolute_error(y_test, y_pred))\n",
    "print('Mean Squared Error:', metrics.mean_squared_error(y_test, y_pred))\n",
    "print('Root Mean Squared Error:', np.sqrt(metrics.mean_squared_error(y_test, y_pred)))\n",
    "print('R^2:', metrics.r2_score(y_test, y_pred))"
   ]
  },
  {
   "cell_type": "code",
   "execution_count": null,
   "id": "2d572715",
   "metadata": {},
   "outputs": [],
   "source": []
  },
  {
   "cell_type": "markdown",
   "id": "0a5b9e4a",
   "metadata": {},
   "source": [
    "## Select land area + price psf +Built Up Area Attribute \n"
   ]
  },
  {
   "cell_type": "code",
   "execution_count": null,
   "id": "a0bbeda8",
   "metadata": {},
   "outputs": [],
   "source": [
    "house_price25=house_price3.drop(['Floors','Distance between School KM','Rooms','State','Distance between Hospital, KM','Interest Rate','Min Income','Tenure','Building Type', 'District'], axis=1)"
   ]
  },
  {
   "cell_type": "code",
   "execution_count": null,
   "id": "1d26b7ae",
   "metadata": {},
   "outputs": [],
   "source": [
    "house_price25.head(5)"
   ]
  },
  {
   "cell_type": "code",
   "execution_count": null,
   "id": "31267ea7",
   "metadata": {},
   "outputs": [],
   "source": [
    "X = house_price25.iloc[:, 0:3].values\n",
    "y = house_price25.iloc[:, 3].values"
   ]
  },
  {
   "cell_type": "code",
   "execution_count": null,
   "id": "0092e851",
   "metadata": {},
   "outputs": [],
   "source": [
    "from sklearn.model_selection import train_test_split\n",
    "\n",
    "X_train, X_test, y_train, y_test = train_test_split(X, y, test_size=0.3, random_state=0)"
   ]
  },
  {
   "cell_type": "code",
   "execution_count": null,
   "id": "923d1b29",
   "metadata": {},
   "outputs": [],
   "source": [
    "from sklearn.ensemble import RandomForestRegressor\n",
    "\n",
    "regressor = RandomForestRegressor(n_estimators=100, random_state=0)\n",
    "regressor.fit(X_train, y_train)\n",
    "y_pred = regressor.predict(X_test)"
   ]
  },
  {
   "cell_type": "code",
   "execution_count": null,
   "id": "71f31af0",
   "metadata": {},
   "outputs": [],
   "source": [
    "from sklearn import metrics\n",
    "\n",
    "print('Mean Absolute Error:', metrics.mean_absolute_error(y_test, y_pred))\n",
    "print('Mean Squared Error:', metrics.mean_squared_error(y_test, y_pred))\n",
    "print('Root Mean Squared Error:', np.sqrt(metrics.mean_squared_error(y_test, y_pred)))\n",
    "print('R^2:', metrics.r2_score(y_test, y_pred))"
   ]
  },
  {
   "cell_type": "markdown",
   "id": "4fb4ee3c",
   "metadata": {},
   "source": [
    "## Select land area + price psf +Floorsa Attribute \n"
   ]
  },
  {
   "cell_type": "code",
   "execution_count": null,
   "id": "a43a58f2",
   "metadata": {},
   "outputs": [],
   "source": [
    "house_price26=house_price3.drop(['Built Up Area','Distance between School KM','Rooms','State','Distance between Hospital, KM','Interest Rate','Min Income','Tenure','Building Type', 'District'], axis=1)"
   ]
  },
  {
   "cell_type": "code",
   "execution_count": null,
   "id": "8d78592f",
   "metadata": {},
   "outputs": [],
   "source": [
    "house_price26.head(5)"
   ]
  },
  {
   "cell_type": "code",
   "execution_count": null,
   "id": "b9807999",
   "metadata": {},
   "outputs": [],
   "source": [
    "X = house_price26.iloc[:, 0:3].values\n",
    "y = house_price26.iloc[:, 3].values"
   ]
  },
  {
   "cell_type": "code",
   "execution_count": null,
   "id": "e88ed0dc",
   "metadata": {},
   "outputs": [],
   "source": [
    "from sklearn.model_selection import train_test_split\n",
    "\n",
    "X_train, X_test, y_train, y_test = train_test_split(X, y, test_size=0.3, random_state=0)"
   ]
  },
  {
   "cell_type": "code",
   "execution_count": null,
   "id": "23ab850b",
   "metadata": {},
   "outputs": [],
   "source": [
    "from sklearn.ensemble import RandomForestRegressor\n",
    "\n",
    "regressor = RandomForestRegressor(n_estimators=100, random_state=0)\n",
    "regressor.fit(X_train, y_train)\n",
    "y_pred = regressor.predict(X_test)"
   ]
  },
  {
   "cell_type": "code",
   "execution_count": null,
   "id": "51cf536f",
   "metadata": {},
   "outputs": [],
   "source": [
    "from sklearn import metrics\n",
    "\n",
    "print('Mean Absolute Error:', metrics.mean_absolute_error(y_test, y_pred))\n",
    "print('Mean Squared Error:', metrics.mean_squared_error(y_test, y_pred))\n",
    "print('Root Mean Squared Error:', np.sqrt(metrics.mean_squared_error(y_test, y_pred)))\n",
    "print('R^2:', metrics.r2_score(y_test, y_pred))"
   ]
  },
  {
   "cell_type": "markdown",
   "id": "6bdafaa0",
   "metadata": {},
   "source": [
    "## Select land area + price psf +rooms Attribute \n"
   ]
  },
  {
   "cell_type": "code",
   "execution_count": null,
   "id": "66c89cf5",
   "metadata": {},
   "outputs": [],
   "source": [
    "house_price27=house_price3.drop(['Built Up Area','Distance between School KM','Floors','State','Distance between Hospital, KM','Interest Rate','Min Income','Tenure','Building Type', 'District'], axis=1)"
   ]
  },
  {
   "cell_type": "code",
   "execution_count": null,
   "id": "d6f8e53b",
   "metadata": {},
   "outputs": [],
   "source": [
    "house_price27.head(5)"
   ]
  },
  {
   "cell_type": "code",
   "execution_count": null,
   "id": "958f736a",
   "metadata": {},
   "outputs": [],
   "source": [
    "X = house_price27.iloc[:, 0:3].values\n",
    "y = house_price27.iloc[:, 3].values"
   ]
  },
  {
   "cell_type": "code",
   "execution_count": null,
   "id": "a42072e3",
   "metadata": {},
   "outputs": [],
   "source": [
    "from sklearn.model_selection import train_test_split\n",
    "\n",
    "X_train, X_test, y_train, y_test = train_test_split(X, y, test_size=0.3, random_state=0)"
   ]
  },
  {
   "cell_type": "code",
   "execution_count": null,
   "id": "5bfd2916",
   "metadata": {},
   "outputs": [],
   "source": [
    "from sklearn.ensemble import RandomForestRegressor\n",
    "\n",
    "regressor = RandomForestRegressor(n_estimators=100, random_state=0)\n",
    "regressor.fit(X_train, y_train)\n",
    "y_pred = regressor.predict(X_test)"
   ]
  },
  {
   "cell_type": "code",
   "execution_count": null,
   "id": "6fd51692",
   "metadata": {},
   "outputs": [],
   "source": [
    "from sklearn import metrics\n",
    "\n",
    "print('Mean Absolute Error:', metrics.mean_absolute_error(y_test, y_pred))\n",
    "print('Mean Squared Error:', metrics.mean_squared_error(y_test, y_pred))\n",
    "print('Root Mean Squared Error:', np.sqrt(metrics.mean_squared_error(y_test, y_pred)))\n",
    "print('R^2:', metrics.r2_score(y_test, y_pred))"
   ]
  },
  {
   "cell_type": "markdown",
   "id": "c6cdffd6",
   "metadata": {},
   "source": [
    "## Select land area + price psf +state Attribute \n"
   ]
  },
  {
   "cell_type": "code",
   "execution_count": null,
   "id": "ab1899be",
   "metadata": {},
   "outputs": [],
   "source": [
    "house_price28=house_price3.drop(['Built Up Area','Distance between School KM','Floors','Rooms','Distance between Hospital, KM','Interest Rate','Min Income','Tenure','Building Type', 'District'], axis=1)"
   ]
  },
  {
   "cell_type": "code",
   "execution_count": null,
   "id": "fc6400eb",
   "metadata": {},
   "outputs": [],
   "source": [
    "house_price28.head(5)"
   ]
  },
  {
   "cell_type": "code",
   "execution_count": null,
   "id": "023f0133",
   "metadata": {},
   "outputs": [],
   "source": [
    "X = house_price28.iloc[:, 0:3].values\n",
    "y = house_price28.iloc[:, 3].values"
   ]
  },
  {
   "cell_type": "code",
   "execution_count": null,
   "id": "4ffd0e2e",
   "metadata": {},
   "outputs": [],
   "source": [
    "from sklearn.model_selection import train_test_split\n",
    "\n",
    "X_train, X_test, y_train, y_test = train_test_split(X, y, test_size=0.3, random_state=0)"
   ]
  },
  {
   "cell_type": "code",
   "execution_count": null,
   "id": "f5c27daa",
   "metadata": {},
   "outputs": [],
   "source": [
    "from sklearn.ensemble import RandomForestRegressor\n",
    "\n",
    "regressor = RandomForestRegressor(n_estimators=100, random_state=0)\n",
    "regressor.fit(X_train, y_train)\n",
    "y_pred = regressor.predict(X_test)"
   ]
  },
  {
   "cell_type": "code",
   "execution_count": null,
   "id": "3dcb9564",
   "metadata": {},
   "outputs": [],
   "source": [
    "from sklearn import metrics\n",
    "\n",
    "print('Mean Absolute Error:', metrics.mean_absolute_error(y_test, y_pred))\n",
    "print('Mean Squared Error:', metrics.mean_squared_error(y_test, y_pred))\n",
    "print('Root Mean Squared Error:', np.sqrt(metrics.mean_squared_error(y_test, y_pred)))\n",
    "print('R^2:', metrics.r2_score(y_test, y_pred))"
   ]
  },
  {
   "cell_type": "markdown",
   "id": "ffacb8df",
   "metadata": {},
   "source": [
    "## Select land area + price psf +building type Attribute \n"
   ]
  },
  {
   "cell_type": "code",
   "execution_count": null,
   "id": "bfe6dd01",
   "metadata": {},
   "outputs": [],
   "source": [
    "house_price29=house_price3.drop(['Built Up Area','Distance between School KM','Floors','Rooms','Distance between Hospital, KM','Interest Rate','Min Income','Tenure','State', 'District'], axis=1)"
   ]
  },
  {
   "cell_type": "code",
   "execution_count": null,
   "id": "54741272",
   "metadata": {},
   "outputs": [],
   "source": [
    "house_price29.head(5)"
   ]
  },
  {
   "cell_type": "code",
   "execution_count": null,
   "id": "4b0a21bd",
   "metadata": {},
   "outputs": [],
   "source": [
    "X = house_price29.iloc[:, 0:3].values\n",
    "y = house_price29.iloc[:, 3].values"
   ]
  },
  {
   "cell_type": "code",
   "execution_count": null,
   "id": "bbb28212",
   "metadata": {},
   "outputs": [],
   "source": [
    "from sklearn.model_selection import train_test_split\n",
    "\n",
    "X_train, X_test, y_train, y_test = train_test_split(X, y, test_size=0.3, random_state=0)"
   ]
  },
  {
   "cell_type": "code",
   "execution_count": null,
   "id": "0695e92d",
   "metadata": {},
   "outputs": [],
   "source": [
    "from sklearn.ensemble import RandomForestRegressor\n",
    "\n",
    "regressor = RandomForestRegressor(n_estimators=100, random_state=0)\n",
    "regressor.fit(X_train, y_train)\n",
    "y_pred = regressor.predict(X_test)"
   ]
  },
  {
   "cell_type": "code",
   "execution_count": null,
   "id": "f76fc91d",
   "metadata": {},
   "outputs": [],
   "source": [
    "from sklearn import metrics\n",
    "\n",
    "print('Mean Absolute Error:', metrics.mean_absolute_error(y_test, y_pred))\n",
    "print('Mean Squared Error:', metrics.mean_squared_error(y_test, y_pred))\n",
    "print('Root Mean Squared Error:', np.sqrt(metrics.mean_squared_error(y_test, y_pred)))\n",
    "print('R^2:', metrics.r2_score(y_test, y_pred))"
   ]
  },
  {
   "cell_type": "markdown",
   "id": "4b466692",
   "metadata": {},
   "source": [
    "## Select land area + price psf + tenure Attribute \n"
   ]
  },
  {
   "cell_type": "code",
   "execution_count": null,
   "id": "f480578e",
   "metadata": {},
   "outputs": [],
   "source": [
    "house_price30=house_price3.drop(['Built Up Area','Distance between School KM','Floors','Rooms','Distance between Hospital, KM','Interest Rate','Min Income','Building Type','State', 'District'], axis=1)"
   ]
  },
  {
   "cell_type": "code",
   "execution_count": null,
   "id": "10fac808",
   "metadata": {},
   "outputs": [],
   "source": [
    "house_price30.head(5)"
   ]
  },
  {
   "cell_type": "code",
   "execution_count": null,
   "id": "59ac56b3",
   "metadata": {},
   "outputs": [],
   "source": [
    "X = house_price30.iloc[:, 0:3].values\n",
    "y = house_price30.iloc[:, 3].values"
   ]
  },
  {
   "cell_type": "code",
   "execution_count": null,
   "id": "768859a5",
   "metadata": {},
   "outputs": [],
   "source": [
    "from sklearn.model_selection import train_test_split\n",
    "\n",
    "X_train, X_test, y_train, y_test = train_test_split(X, y, test_size=0.3, random_state=0)"
   ]
  },
  {
   "cell_type": "code",
   "execution_count": null,
   "id": "3de44510",
   "metadata": {},
   "outputs": [],
   "source": [
    "from sklearn.ensemble import RandomForestRegressor\n",
    "\n",
    "regressor = RandomForestRegressor(n_estimators=100, random_state=0)\n",
    "regressor.fit(X_train, y_train)\n",
    "y_pred = regressor.predict(X_test)"
   ]
  },
  {
   "cell_type": "code",
   "execution_count": null,
   "id": "3390eb65",
   "metadata": {},
   "outputs": [],
   "source": [
    "from sklearn import metrics\n",
    "\n",
    "print('Mean Absolute Error:', metrics.mean_absolute_error(y_test, y_pred))\n",
    "print('Mean Squared Error:', metrics.mean_squared_error(y_test, y_pred))\n",
    "print('Root Mean Squared Error:', np.sqrt(metrics.mean_squared_error(y_test, y_pred)))\n",
    "print('R^2:', metrics.r2_score(y_test, y_pred))"
   ]
  },
  {
   "cell_type": "markdown",
   "id": "8e1473e8",
   "metadata": {},
   "source": [
    "## Select land area + price psf + hospital Attribute \n"
   ]
  },
  {
   "cell_type": "code",
   "execution_count": null,
   "id": "a255a35c",
   "metadata": {},
   "outputs": [],
   "source": [
    "house_price31=house_price3.drop(['Built Up Area','Distance between School KM','Floors','Rooms','Tenure','Interest Rate','Min Income','Building Type','State', 'District'], axis=1)"
   ]
  },
  {
   "cell_type": "code",
   "execution_count": null,
   "id": "05c4bf62",
   "metadata": {},
   "outputs": [],
   "source": [
    "house_price31.head(5)"
   ]
  },
  {
   "cell_type": "code",
   "execution_count": null,
   "id": "6deaa8f8",
   "metadata": {},
   "outputs": [],
   "source": [
    "X = house_price31.iloc[:, 0:3].values\n",
    "y = house_price31.iloc[:, 3].values"
   ]
  },
  {
   "cell_type": "code",
   "execution_count": null,
   "id": "e87c960e",
   "metadata": {},
   "outputs": [],
   "source": [
    "from sklearn.model_selection import train_test_split\n",
    "\n",
    "X_train, X_test, y_train, y_test = train_test_split(X, y, test_size=0.3, random_state=0)"
   ]
  },
  {
   "cell_type": "code",
   "execution_count": null,
   "id": "76fa5774",
   "metadata": {},
   "outputs": [],
   "source": [
    "from sklearn.ensemble import RandomForestRegressor\n",
    "\n",
    "regressor = RandomForestRegressor(n_estimators=100, random_state=0)\n",
    "regressor.fit(X_train, y_train)\n",
    "y_pred = regressor.predict(X_test)"
   ]
  },
  {
   "cell_type": "code",
   "execution_count": null,
   "id": "3a026aae",
   "metadata": {},
   "outputs": [],
   "source": [
    "from sklearn import metrics\n",
    "\n",
    "print('Mean Absolute Error:', metrics.mean_absolute_error(y_test, y_pred))\n",
    "print('Mean Squared Error:', metrics.mean_squared_error(y_test, y_pred))\n",
    "print('Root Mean Squared Error:', np.sqrt(metrics.mean_squared_error(y_test, y_pred)))\n",
    "print('R^2:', metrics.r2_score(y_test, y_pred))"
   ]
  },
  {
   "cell_type": "markdown",
   "id": "005394d5",
   "metadata": {},
   "source": [
    "## Select land area + price psf + school Attribute \n"
   ]
  },
  {
   "cell_type": "code",
   "execution_count": null,
   "id": "318d3a8b",
   "metadata": {},
   "outputs": [],
   "source": [
    "house_price32=house_price3.drop(['Built Up Area','Distance between Hospital, KM','Floors','Rooms','Tenure','Interest Rate','Min Income','Building Type','State', 'District'], axis=1)"
   ]
  },
  {
   "cell_type": "code",
   "execution_count": null,
   "id": "4ef282d6",
   "metadata": {},
   "outputs": [],
   "source": [
    "house_price32.head(5)"
   ]
  },
  {
   "cell_type": "code",
   "execution_count": null,
   "id": "647cd92d",
   "metadata": {},
   "outputs": [],
   "source": [
    "X = house_price32.iloc[:, 0:3].values\n",
    "y = house_price32.iloc[:, 3].values"
   ]
  },
  {
   "cell_type": "code",
   "execution_count": null,
   "id": "51ec7e7f",
   "metadata": {},
   "outputs": [],
   "source": [
    "from sklearn.model_selection import train_test_split\n",
    "\n",
    "X_train, X_test, y_train, y_test = train_test_split(X, y, test_size=0.3, random_state=0)"
   ]
  },
  {
   "cell_type": "code",
   "execution_count": null,
   "id": "c3d7aa7a",
   "metadata": {},
   "outputs": [],
   "source": [
    "from sklearn.ensemble import RandomForestRegressor\n",
    "\n",
    "regressor = RandomForestRegressor(n_estimators=100, random_state=0)\n",
    "regressor.fit(X_train, y_train)\n",
    "y_pred = regressor.predict(X_test)"
   ]
  },
  {
   "cell_type": "code",
   "execution_count": null,
   "id": "f5d4ea68",
   "metadata": {},
   "outputs": [],
   "source": [
    "from sklearn import metrics\n",
    "\n",
    "print('Mean Absolute Error:', metrics.mean_absolute_error(y_test, y_pred))\n",
    "print('Mean Squared Error:', metrics.mean_squared_error(y_test, y_pred))\n",
    "print('Root Mean Squared Error:', np.sqrt(metrics.mean_squared_error(y_test, y_pred)))\n",
    "print('R^2:', metrics.r2_score(y_test, y_pred))"
   ]
  },
  {
   "cell_type": "markdown",
   "id": "723ce20f",
   "metadata": {},
   "source": [
    "## Select land area + price psf + district Attribute \n"
   ]
  },
  {
   "cell_type": "code",
   "execution_count": null,
   "id": "53781409",
   "metadata": {},
   "outputs": [],
   "source": [
    "house_price33=house_price3.drop(['Built Up Area','Distance between Hospital, KM','Floors','Rooms','Tenure','Interest Rate','Min Income','Building Type','State', 'Distance between School KM'], axis=1)"
   ]
  },
  {
   "cell_type": "code",
   "execution_count": null,
   "id": "ed8a5a8f",
   "metadata": {},
   "outputs": [],
   "source": [
    "house_price33.head(5)"
   ]
  },
  {
   "cell_type": "code",
   "execution_count": null,
   "id": "76c6469b",
   "metadata": {},
   "outputs": [],
   "source": [
    "X = house_price33.iloc[:, 0:3].values\n",
    "y = house_price33.iloc[:, 3].values"
   ]
  },
  {
   "cell_type": "code",
   "execution_count": null,
   "id": "ff0d5d79",
   "metadata": {},
   "outputs": [],
   "source": [
    "from sklearn.model_selection import train_test_split\n",
    "\n",
    "X_train, X_test, y_train, y_test = train_test_split(X, y, test_size=0.3, random_state=0)"
   ]
  },
  {
   "cell_type": "code",
   "execution_count": null,
   "id": "075c7afe",
   "metadata": {},
   "outputs": [],
   "source": [
    "from sklearn.ensemble import RandomForestRegressor\n",
    "\n",
    "regressor = RandomForestRegressor(n_estimators=100, random_state=0)\n",
    "regressor.fit(X_train, y_train)\n",
    "y_pred = regressor.predict(X_test)"
   ]
  },
  {
   "cell_type": "code",
   "execution_count": null,
   "id": "66e7f647",
   "metadata": {},
   "outputs": [],
   "source": [
    "from sklearn import metrics\n",
    "\n",
    "print('Mean Absolute Error:', metrics.mean_absolute_error(y_test, y_pred))\n",
    "print('Mean Squared Error:', metrics.mean_squared_error(y_test, y_pred))\n",
    "print('Root Mean Squared Error:', np.sqrt(metrics.mean_squared_error(y_test, y_pred)))\n",
    "print('R^2:', metrics.r2_score(y_test, y_pred))"
   ]
  },
  {
   "cell_type": "markdown",
   "id": "5ef10f3e",
   "metadata": {},
   "source": [
    "## Select floor +rooms + land area + price psf  Attribute \n"
   ]
  },
  {
   "cell_type": "code",
   "execution_count": null,
   "id": "780aaa36",
   "metadata": {},
   "outputs": [],
   "source": [
    "house_price34=house_price3.drop(['Distance between School KM','Building Type','State','Distance between Hospital, KM','Interest Rate','Min Income','Tenure','Building Type', 'District','Built Up Area'], axis=1)"
   ]
  },
  {
   "cell_type": "code",
   "execution_count": null,
   "id": "d217df0b",
   "metadata": {},
   "outputs": [],
   "source": [
    "house_price34.head(5)"
   ]
  },
  {
   "cell_type": "code",
   "execution_count": null,
   "id": "44fdd464",
   "metadata": {},
   "outputs": [],
   "source": [
    "X = house_price34.iloc[:, 0:4].values\n",
    "y = house_price34.iloc[:, 4].values"
   ]
  },
  {
   "cell_type": "code",
   "execution_count": null,
   "id": "bb5ef060",
   "metadata": {},
   "outputs": [],
   "source": [
    "from sklearn.model_selection import train_test_split\n",
    "\n",
    "X_train, X_test, y_train, y_test = train_test_split(X, y, test_size=0.3, random_state=0)"
   ]
  },
  {
   "cell_type": "code",
   "execution_count": null,
   "id": "8d8fd2c1",
   "metadata": {},
   "outputs": [],
   "source": [
    "from sklearn.ensemble import RandomForestRegressor\n",
    "\n",
    "regressor = RandomForestRegressor(n_estimators=100, random_state=0)\n",
    "regressor.fit(X_train, y_train)\n",
    "y_pred = regressor.predict(X_test)"
   ]
  },
  {
   "cell_type": "code",
   "execution_count": null,
   "id": "d8fcc40f",
   "metadata": {},
   "outputs": [],
   "source": [
    "from sklearn import metrics\n",
    "\n",
    "print('Mean Absolute Error:', metrics.mean_absolute_error(y_test, y_pred))\n",
    "print('Mean Squared Error:', metrics.mean_squared_error(y_test, y_pred))\n",
    "print('Root Mean Squared Error:', np.sqrt(metrics.mean_squared_error(y_test, y_pred)))\n",
    "print('R^2:', metrics.r2_score(y_test, y_pred))"
   ]
  },
  {
   "cell_type": "markdown",
   "id": "0a8cbc62",
   "metadata": {},
   "source": [
    "## Select rooms +built up area + land area + price psf  Attribute \n"
   ]
  },
  {
   "cell_type": "code",
   "execution_count": null,
   "id": "0c9240d8",
   "metadata": {},
   "outputs": [],
   "source": [
    "house_price35=house_price3.drop(['Distance between School KM','Floors','State','Distance between Hospital, KM','Interest Rate','Min Income','Tenure','Building Type', 'District'], axis=1)"
   ]
  },
  {
   "cell_type": "code",
   "execution_count": null,
   "id": "1e0f962b",
   "metadata": {},
   "outputs": [],
   "source": [
    "house_price35.head(5)"
   ]
  },
  {
   "cell_type": "code",
   "execution_count": null,
   "id": "ad89754a",
   "metadata": {},
   "outputs": [],
   "source": [
    "X = house_price35.iloc[:, 0:4].values\n",
    "y = house_price35.iloc[:, 4].values"
   ]
  },
  {
   "cell_type": "code",
   "execution_count": null,
   "id": "ea0002e2",
   "metadata": {},
   "outputs": [],
   "source": [
    "from sklearn.model_selection import train_test_split\n",
    "\n",
    "X_train, X_test, y_train, y_test = train_test_split(X, y, test_size=0.3, random_state=0)"
   ]
  },
  {
   "cell_type": "code",
   "execution_count": null,
   "id": "e343c35e",
   "metadata": {},
   "outputs": [],
   "source": [
    "from sklearn.ensemble import RandomForestRegressor\n",
    "\n",
    "regressor = RandomForestRegressor(n_estimators=100, random_state=0)\n",
    "regressor.fit(X_train, y_train)\n",
    "y_pred = regressor.predict(X_test)"
   ]
  },
  {
   "cell_type": "code",
   "execution_count": null,
   "id": "67da8882",
   "metadata": {},
   "outputs": [],
   "source": [
    "from sklearn import metrics\n",
    "\n",
    "print('Mean Absolute Error:', metrics.mean_absolute_error(y_test, y_pred))\n",
    "print('Mean Squared Error:', metrics.mean_squared_error(y_test, y_pred))\n",
    "print('Root Mean Squared Error:', np.sqrt(metrics.mean_squared_error(y_test, y_pred)))\n",
    "print('R^2:', metrics.r2_score(y_test, y_pred))"
   ]
  },
  {
   "cell_type": "markdown",
   "id": "0c991562",
   "metadata": {},
   "source": [
    "## Select state +built up area + land area + price psf  Attribute \n"
   ]
  },
  {
   "cell_type": "code",
   "execution_count": null,
   "id": "6c6d7c77",
   "metadata": {},
   "outputs": [],
   "source": [
    "house_price36=house_price3.drop(['Distance between School KM','Floors','Built Up Area','Distance between Hospital, KM','Interest Rate','Min Income','Tenure','Building Type', 'District'], axis=1)"
   ]
  },
  {
   "cell_type": "code",
   "execution_count": null,
   "id": "7920c7bf",
   "metadata": {},
   "outputs": [],
   "source": [
    "house_price36.head(5)"
   ]
  },
  {
   "cell_type": "code",
   "execution_count": null,
   "id": "c38cf6fc",
   "metadata": {},
   "outputs": [],
   "source": [
    "X = house_price36.iloc[:, 0:4].values\n",
    "y = house_price36.iloc[:, 4].values"
   ]
  },
  {
   "cell_type": "code",
   "execution_count": null,
   "id": "54f2e22f",
   "metadata": {},
   "outputs": [],
   "source": [
    "from sklearn.model_selection import train_test_split\n",
    "\n",
    "X_train, X_test, y_train, y_test = train_test_split(X, y, test_size=0.3, random_state=0)"
   ]
  },
  {
   "cell_type": "code",
   "execution_count": null,
   "id": "21e0117f",
   "metadata": {},
   "outputs": [],
   "source": [
    "from sklearn.ensemble import RandomForestRegressor\n",
    "\n",
    "regressor = RandomForestRegressor(n_estimators=100, random_state=0)\n",
    "regressor.fit(X_train, y_train)\n",
    "y_pred = regressor.predict(X_test)"
   ]
  },
  {
   "cell_type": "code",
   "execution_count": null,
   "id": "d3e53f15",
   "metadata": {},
   "outputs": [],
   "source": [
    "from sklearn import metrics\n",
    "\n",
    "print('Mean Absolute Error:', metrics.mean_absolute_error(y_test, y_pred))\n",
    "print('Mean Squared Error:', metrics.mean_squared_error(y_test, y_pred))\n",
    "print('Root Mean Squared Error:', np.sqrt(metrics.mean_squared_error(y_test, y_pred)))\n",
    "print('R^2:', metrics.r2_score(y_test, y_pred))"
   ]
  },
  {
   "cell_type": "markdown",
   "id": "cff88e16",
   "metadata": {},
   "source": [
    "## Select building type +built up area + land area + price psf  Attribute \n"
   ]
  },
  {
   "cell_type": "code",
   "execution_count": null,
   "id": "9ff258c2",
   "metadata": {},
   "outputs": [],
   "source": [
    "house_price37=house_price3.drop(['Distance between School KM','Floors','Built Up Area','Distance between Hospital, KM','Interest Rate','Min Income','Tenure','State', 'District'], axis=1)"
   ]
  },
  {
   "cell_type": "code",
   "execution_count": null,
   "id": "ff625c11",
   "metadata": {},
   "outputs": [],
   "source": [
    "house_price37.head(5)"
   ]
  },
  {
   "cell_type": "code",
   "execution_count": null,
   "id": "a84c35a9",
   "metadata": {},
   "outputs": [],
   "source": [
    "X = house_price37.iloc[:, 0:4].values\n",
    "y = house_price37.iloc[:, 4].values"
   ]
  },
  {
   "cell_type": "code",
   "execution_count": null,
   "id": "3777f88a",
   "metadata": {},
   "outputs": [],
   "source": [
    "from sklearn.model_selection import train_test_split\n",
    "\n",
    "X_train, X_test, y_train, y_test = train_test_split(X, y, test_size=0.3, random_state=0)"
   ]
  },
  {
   "cell_type": "code",
   "execution_count": null,
   "id": "7afe27aa",
   "metadata": {},
   "outputs": [],
   "source": [
    "from sklearn.ensemble import RandomForestRegressor\n",
    "\n",
    "regressor = RandomForestRegressor(n_estimators=100, random_state=0)\n",
    "regressor.fit(X_train, y_train)\n",
    "y_pred = regressor.predict(X_test)"
   ]
  },
  {
   "cell_type": "code",
   "execution_count": null,
   "id": "24864895",
   "metadata": {},
   "outputs": [],
   "source": [
    "from sklearn import metrics\n",
    "\n",
    "print('Mean Absolute Error:', metrics.mean_absolute_error(y_test, y_pred))\n",
    "print('Mean Squared Error:', metrics.mean_squared_error(y_test, y_pred))\n",
    "print('Root Mean Squared Error:', np.sqrt(metrics.mean_squared_error(y_test, y_pred)))\n",
    "print('R^2:', metrics.r2_score(y_test, y_pred))"
   ]
  },
  {
   "cell_type": "markdown",
   "id": "67ef0c34",
   "metadata": {},
   "source": [
    "## Select tenure +built up area + land area + price psf  Attribute \n"
   ]
  },
  {
   "cell_type": "code",
   "execution_count": null,
   "id": "017b649e",
   "metadata": {},
   "outputs": [],
   "source": [
    "house_price38=house_price3.drop(['Distance between School KM','Floors','Built Up Area','Distance between Hospital, KM','Interest Rate','Min Income','Building Type','State', 'District'], axis=1)"
   ]
  },
  {
   "cell_type": "code",
   "execution_count": null,
   "id": "7006906e",
   "metadata": {},
   "outputs": [],
   "source": [
    "house_price38.head(5)"
   ]
  },
  {
   "cell_type": "code",
   "execution_count": null,
   "id": "91c97e61",
   "metadata": {},
   "outputs": [],
   "source": [
    "X = house_price38.iloc[:, 0:4].values\n",
    "y = house_price38.iloc[:, 4].values"
   ]
  },
  {
   "cell_type": "code",
   "execution_count": null,
   "id": "297df59b",
   "metadata": {},
   "outputs": [],
   "source": [
    "from sklearn.model_selection import train_test_split\n",
    "\n",
    "X_train, X_test, y_train, y_test = train_test_split(X, y, test_size=0.3, random_state=0)"
   ]
  },
  {
   "cell_type": "code",
   "execution_count": null,
   "id": "b5bb7212",
   "metadata": {},
   "outputs": [],
   "source": [
    "from sklearn.ensemble import RandomForestRegressor\n",
    "\n",
    "regressor = RandomForestRegressor(n_estimators=100, random_state=0)\n",
    "regressor.fit(X_train, y_train)\n",
    "y_pred = regressor.predict(X_test)"
   ]
  },
  {
   "cell_type": "code",
   "execution_count": null,
   "id": "d27b038a",
   "metadata": {},
   "outputs": [],
   "source": [
    "from sklearn import metrics\n",
    "\n",
    "print('Mean Absolute Error:', metrics.mean_absolute_error(y_test, y_pred))\n",
    "print('Mean Squared Error:', metrics.mean_squared_error(y_test, y_pred))\n",
    "print('Root Mean Squared Error:', np.sqrt(metrics.mean_squared_error(y_test, y_pred)))\n",
    "print('R^2:', metrics.r2_score(y_test, y_pred))"
   ]
  },
  {
   "cell_type": "markdown",
   "id": "ca22a510",
   "metadata": {},
   "source": [
    "## Select hospital +built up area + land area + price psf  Attribute \n"
   ]
  },
  {
   "cell_type": "code",
   "execution_count": null,
   "id": "e92ffb4e",
   "metadata": {},
   "outputs": [],
   "source": [
    "house_price39=house_price3.drop(['Distance between School KM','Floors','Built Up Area','Tenure','Interest Rate','Min Income','Building Type','State', 'District'], axis=1)"
   ]
  },
  {
   "cell_type": "code",
   "execution_count": null,
   "id": "0fa4fd92",
   "metadata": {},
   "outputs": [],
   "source": [
    "house_price39.head(5)"
   ]
  },
  {
   "cell_type": "code",
   "execution_count": null,
   "id": "9032969e",
   "metadata": {},
   "outputs": [],
   "source": [
    "X = house_price39.iloc[:, 0:4].values\n",
    "y = house_price39.iloc[:, 4].values"
   ]
  },
  {
   "cell_type": "code",
   "execution_count": null,
   "id": "6ddc80fb",
   "metadata": {},
   "outputs": [],
   "source": [
    "from sklearn.model_selection import train_test_split\n",
    "\n",
    "X_train, X_test, y_train, y_test = train_test_split(X, y, test_size=0.3, random_state=0)"
   ]
  },
  {
   "cell_type": "code",
   "execution_count": null,
   "id": "6e56e55f",
   "metadata": {},
   "outputs": [],
   "source": [
    "from sklearn.ensemble import RandomForestRegressor\n",
    "\n",
    "regressor = RandomForestRegressor(n_estimators=100, random_state=0)\n",
    "regressor.fit(X_train, y_train)\n",
    "y_pred = regressor.predict(X_test)"
   ]
  },
  {
   "cell_type": "code",
   "execution_count": null,
   "id": "2a9e04db",
   "metadata": {},
   "outputs": [],
   "source": [
    "from sklearn import metrics\n",
    "\n",
    "print('Mean Absolute Error:', metrics.mean_absolute_error(y_test, y_pred))\n",
    "print('Mean Squared Error:', metrics.mean_squared_error(y_test, y_pred))\n",
    "print('Root Mean Squared Error:', np.sqrt(metrics.mean_squared_error(y_test, y_pred)))\n",
    "print('R^2:', metrics.r2_score(y_test, y_pred))"
   ]
  },
  {
   "cell_type": "markdown",
   "id": "a9120232",
   "metadata": {},
   "source": [
    "## Select school +built up area + land area + price psf  Attribute \n"
   ]
  },
  {
   "cell_type": "code",
   "execution_count": null,
   "id": "ee70385c",
   "metadata": {},
   "outputs": [],
   "source": [
    "house_price40=house_price3.drop(['Distance between Hospital, KM','Floors','Built Up Area','Tenure','Interest Rate','Min Income','Building Type','State', 'District'], axis=1)"
   ]
  },
  {
   "cell_type": "code",
   "execution_count": null,
   "id": "9a671d7c",
   "metadata": {},
   "outputs": [],
   "source": [
    "house_price40.head(5)"
   ]
  },
  {
   "cell_type": "code",
   "execution_count": null,
   "id": "18d7ab70",
   "metadata": {},
   "outputs": [],
   "source": [
    "X = house_price40.iloc[:, 0:4].values\n",
    "y = house_price40.iloc[:, 4].values"
   ]
  },
  {
   "cell_type": "code",
   "execution_count": null,
   "id": "b14ded9f",
   "metadata": {},
   "outputs": [],
   "source": [
    "from sklearn.model_selection import train_test_split\n",
    "\n",
    "X_train, X_test, y_train, y_test = train_test_split(X, y, test_size=0.3, random_state=0)"
   ]
  },
  {
   "cell_type": "code",
   "execution_count": null,
   "id": "1ff36251",
   "metadata": {},
   "outputs": [],
   "source": [
    "from sklearn.ensemble import RandomForestRegressor\n",
    "\n",
    "regressor = RandomForestRegressor(n_estimators=100, random_state=0)\n",
    "regressor.fit(X_train, y_train)\n",
    "y_pred = regressor.predict(X_test)"
   ]
  },
  {
   "cell_type": "code",
   "execution_count": null,
   "id": "3b8b7fec",
   "metadata": {},
   "outputs": [],
   "source": [
    "from sklearn import metrics\n",
    "\n",
    "print('Mean Absolute Error:', metrics.mean_absolute_error(y_test, y_pred))\n",
    "print('Mean Squared Error:', metrics.mean_squared_error(y_test, y_pred))\n",
    "print('Root Mean Squared Error:', np.sqrt(metrics.mean_squared_error(y_test, y_pred)))\n",
    "print('R^2:', metrics.r2_score(y_test, y_pred))"
   ]
  },
  {
   "cell_type": "markdown",
   "id": "6be8e3b0",
   "metadata": {},
   "source": [
    "## Select district +built up area + land area + price psf  Attribute \n"
   ]
  },
  {
   "cell_type": "code",
   "execution_count": null,
   "id": "8946e948",
   "metadata": {},
   "outputs": [],
   "source": [
    "house_price41=house_price3.drop(['Distance between Hospital, KM','Floors','Built Up Area','Tenure','Interest Rate','Min Income','Building Type','State', 'Distance between School KM'], axis=1)"
   ]
  },
  {
   "cell_type": "code",
   "execution_count": null,
   "id": "78c3c41c",
   "metadata": {},
   "outputs": [],
   "source": [
    "house_price41.head(5)"
   ]
  },
  {
   "cell_type": "code",
   "execution_count": null,
   "id": "9e31eec5",
   "metadata": {},
   "outputs": [],
   "source": [
    "X = house_price41.iloc[:, 0:4].values\n",
    "y = house_price41.iloc[:, 4].values"
   ]
  },
  {
   "cell_type": "code",
   "execution_count": null,
   "id": "d27bd07a",
   "metadata": {},
   "outputs": [],
   "source": [
    "from sklearn.model_selection import train_test_split\n",
    "\n",
    "X_train, X_test, y_train, y_test = train_test_split(X, y, test_size=0.3, random_state=0)"
   ]
  },
  {
   "cell_type": "code",
   "execution_count": null,
   "id": "252adc0e",
   "metadata": {},
   "outputs": [],
   "source": [
    "from sklearn.ensemble import RandomForestRegressor\n",
    "\n",
    "regressor = RandomForestRegressor(n_estimators=100, random_state=0)\n",
    "regressor.fit(X_train, y_train)\n",
    "y_pred = regressor.predict(X_test)"
   ]
  },
  {
   "cell_type": "code",
   "execution_count": null,
   "id": "17afb93b",
   "metadata": {},
   "outputs": [],
   "source": [
    "from sklearn import metrics\n",
    "\n",
    "print('Mean Absolute Error:', metrics.mean_absolute_error(y_test, y_pred))\n",
    "print('Mean Squared Error:', metrics.mean_squared_error(y_test, y_pred))\n",
    "print('Root Mean Squared Error:', np.sqrt(metrics.mean_squared_error(y_test, y_pred)))\n",
    "print('R^2:', metrics.r2_score(y_test, y_pred))"
   ]
  },
  {
   "cell_type": "markdown",
   "id": "de30de87",
   "metadata": {},
   "source": [
    "## Select Built Up Area + floor +rooms + land area + price psf Attribute \n"
   ]
  },
  {
   "cell_type": "code",
   "execution_count": null,
   "id": "86601b3c",
   "metadata": {},
   "outputs": [],
   "source": [
    "house_price42=house_price3.drop(['Distance between School KM','Distance between Hospital, KM','Interest Rate','Min Income','Tenure','Building Type', 'District','State'], axis=1)"
   ]
  },
  {
   "cell_type": "code",
   "execution_count": null,
   "id": "f6ea0345",
   "metadata": {},
   "outputs": [],
   "source": [
    "house_price42.head(5)"
   ]
  },
  {
   "cell_type": "code",
   "execution_count": null,
   "id": "e20054af",
   "metadata": {},
   "outputs": [],
   "source": [
    "X = house_price42.iloc[:, 0:5].values\n",
    "y = house_price42.iloc[:, 5].values"
   ]
  },
  {
   "cell_type": "code",
   "execution_count": null,
   "id": "afe99544",
   "metadata": {},
   "outputs": [],
   "source": [
    "from sklearn.model_selection import train_test_split\n",
    "\n",
    "X_train, X_test, y_train, y_test = train_test_split(X, y, test_size=0.3, random_state=0)"
   ]
  },
  {
   "cell_type": "code",
   "execution_count": null,
   "id": "f9cd7fc6",
   "metadata": {},
   "outputs": [],
   "source": [
    "from sklearn.ensemble import RandomForestRegressor\n",
    "\n",
    "regressor = RandomForestRegressor(n_estimators=100, random_state=0)\n",
    "regressor.fit(X_train, y_train)\n",
    "y_pred = regressor.predict(X_test)"
   ]
  },
  {
   "cell_type": "code",
   "execution_count": null,
   "id": "3d8b129f",
   "metadata": {},
   "outputs": [],
   "source": [
    "from sklearn import metrics\n",
    "\n",
    "print('Mean Absolute Error:', metrics.mean_absolute_error(y_test, y_pred))\n",
    "print('Mean Squared Error:', metrics.mean_squared_error(y_test, y_pred))\n",
    "print('Root Mean Squared Error:', np.sqrt(metrics.mean_squared_error(y_test, y_pred)))\n",
    "print('R^2:', metrics.r2_score(y_test, y_pred))"
   ]
  },
  {
   "cell_type": "markdown",
   "id": "90a3cdd3",
   "metadata": {},
   "source": [
    "## Select state +  floor +rooms + land area + price psf  Attribute \n"
   ]
  },
  {
   "cell_type": "code",
   "execution_count": null,
   "id": "a63e1327",
   "metadata": {},
   "outputs": [],
   "source": [
    "house_price43=house_price3.drop(['Distance between School KM','Distance between Hospital, KM','Interest Rate','Min Income','Tenure','Built Up Area', 'District','Building Type'], axis=1)"
   ]
  },
  {
   "cell_type": "code",
   "execution_count": null,
   "id": "89539a62",
   "metadata": {},
   "outputs": [],
   "source": [
    "house_price43.head(5)"
   ]
  },
  {
   "cell_type": "code",
   "execution_count": null,
   "id": "ab74b09b",
   "metadata": {},
   "outputs": [],
   "source": [
    "X = house_price43.iloc[:, 0:5].values\n",
    "y = house_price43.iloc[:, 5].values"
   ]
  },
  {
   "cell_type": "code",
   "execution_count": null,
   "id": "4052ca1a",
   "metadata": {},
   "outputs": [],
   "source": [
    "from sklearn.model_selection import train_test_split\n",
    "\n",
    "X_train, X_test, y_train, y_test = train_test_split(X, y, test_size=0.3, random_state=0)"
   ]
  },
  {
   "cell_type": "code",
   "execution_count": null,
   "id": "9a27fd76",
   "metadata": {},
   "outputs": [],
   "source": [
    "from sklearn.ensemble import RandomForestRegressor\n",
    "\n",
    "regressor = RandomForestRegressor(n_estimators=100, random_state=0)\n",
    "regressor.fit(X_train, y_train)\n",
    "y_pred = regressor.predict(X_test)"
   ]
  },
  {
   "cell_type": "code",
   "execution_count": null,
   "id": "1e25c66e",
   "metadata": {},
   "outputs": [],
   "source": [
    "from sklearn import metrics\n",
    "\n",
    "print('Mean Absolute Error:', metrics.mean_absolute_error(y_test, y_pred))\n",
    "print('Mean Squared Error:', metrics.mean_squared_error(y_test, y_pred))\n",
    "print('Root Mean Squared Error:', np.sqrt(metrics.mean_squared_error(y_test, y_pred)))\n",
    "print('R^2:', metrics.r2_score(y_test, y_pred))"
   ]
  },
  {
   "cell_type": "markdown",
   "id": "a1f8624d",
   "metadata": {},
   "source": [
    "## Select building type + floor +rooms + land area + price psf  Attribute \n"
   ]
  },
  {
   "cell_type": "code",
   "execution_count": null,
   "id": "fb3642bd",
   "metadata": {},
   "outputs": [],
   "source": [
    "house_price44=house_price3.drop(['Distance between School KM','Distance between Hospital, KM','Interest Rate','Min Income','Tenure','Built Up Area', 'District','State'], axis=1)"
   ]
  },
  {
   "cell_type": "code",
   "execution_count": null,
   "id": "fd634b1d",
   "metadata": {},
   "outputs": [],
   "source": [
    "house_price44.head(5)"
   ]
  },
  {
   "cell_type": "code",
   "execution_count": null,
   "id": "d8e819f7",
   "metadata": {},
   "outputs": [],
   "source": [
    "X = house_price44.iloc[:, 0:5].values\n",
    "y = house_price44.iloc[:, 5].values"
   ]
  },
  {
   "cell_type": "code",
   "execution_count": null,
   "id": "f8bac751",
   "metadata": {},
   "outputs": [],
   "source": [
    "from sklearn.model_selection import train_test_split\n",
    "\n",
    "X_train, X_test, y_train, y_test = train_test_split(X, y, test_size=0.3, random_state=0)"
   ]
  },
  {
   "cell_type": "code",
   "execution_count": null,
   "id": "0c906293",
   "metadata": {},
   "outputs": [],
   "source": [
    "from sklearn.ensemble import RandomForestRegressor\n",
    "\n",
    "regressor = RandomForestRegressor(n_estimators=100, random_state=0)\n",
    "regressor.fit(X_train, y_train)\n",
    "y_pred = regressor.predict(X_test)"
   ]
  },
  {
   "cell_type": "code",
   "execution_count": null,
   "id": "381fbc4d",
   "metadata": {},
   "outputs": [],
   "source": [
    "from sklearn import metrics\n",
    "\n",
    "print('Mean Absolute Error:', metrics.mean_absolute_error(y_test, y_pred))\n",
    "print('Mean Squared Error:', metrics.mean_squared_error(y_test, y_pred))\n",
    "print('Root Mean Squared Error:', np.sqrt(metrics.mean_squared_error(y_test, y_pred)))\n",
    "print('R^2:', metrics.r2_score(y_test, y_pred))"
   ]
  },
  {
   "cell_type": "markdown",
   "id": "ba24ed98",
   "metadata": {},
   "source": [
    "## Select tenure +floor +rooms + land area + price psf  Attribute \n"
   ]
  },
  {
   "cell_type": "code",
   "execution_count": null,
   "id": "15f644f7",
   "metadata": {},
   "outputs": [],
   "source": [
    "house_price45=house_price3.drop(['Distance between School KM','Distance between Hospital, KM','Interest Rate','Min Income','Building Type','Built Up Area', 'District','State'], axis=1)"
   ]
  },
  {
   "cell_type": "code",
   "execution_count": null,
   "id": "88ac74c2",
   "metadata": {},
   "outputs": [],
   "source": [
    "house_price45.head(5)"
   ]
  },
  {
   "cell_type": "code",
   "execution_count": null,
   "id": "63927092",
   "metadata": {},
   "outputs": [],
   "source": [
    "X = house_price45.iloc[:, 0:5].values\n",
    "y = house_price45.iloc[:, 5].values"
   ]
  },
  {
   "cell_type": "code",
   "execution_count": null,
   "id": "2620afcb",
   "metadata": {},
   "outputs": [],
   "source": [
    "from sklearn.model_selection import train_test_split\n",
    "\n",
    "X_train, X_test, y_train, y_test = train_test_split(X, y, test_size=0.3, random_state=0)"
   ]
  },
  {
   "cell_type": "code",
   "execution_count": null,
   "id": "6499f16a",
   "metadata": {},
   "outputs": [],
   "source": [
    "from sklearn.ensemble import RandomForestRegressor\n",
    "\n",
    "regressor = RandomForestRegressor(n_estimators=100, random_state=0)\n",
    "regressor.fit(X_train, y_train)\n",
    "y_pred = regressor.predict(X_test)"
   ]
  },
  {
   "cell_type": "code",
   "execution_count": null,
   "id": "48d72e59",
   "metadata": {},
   "outputs": [],
   "source": [
    "from sklearn import metrics\n",
    "\n",
    "print('Mean Absolute Error:', metrics.mean_absolute_error(y_test, y_pred))\n",
    "print('Mean Squared Error:', metrics.mean_squared_error(y_test, y_pred))\n",
    "print('Root Mean Squared Error:', np.sqrt(metrics.mean_squared_error(y_test, y_pred)))\n",
    "print('R^2:', metrics.r2_score(y_test, y_pred))"
   ]
  },
  {
   "cell_type": "markdown",
   "id": "5aecd60d",
   "metadata": {},
   "source": [
    "## Select hospital +floor +rooms + land area + price psf Attribute \n"
   ]
  },
  {
   "cell_type": "code",
   "execution_count": null,
   "id": "e2bf584d",
   "metadata": {},
   "outputs": [],
   "source": [
    "house_price46=house_price3.drop(['Distance between School KM','Tenure','Interest Rate','Min Income','Building Type','Built Up Area', 'District','State'], axis=1)"
   ]
  },
  {
   "cell_type": "code",
   "execution_count": null,
   "id": "2e5f065f",
   "metadata": {},
   "outputs": [],
   "source": [
    "house_price46.head(5)"
   ]
  },
  {
   "cell_type": "code",
   "execution_count": null,
   "id": "79f00900",
   "metadata": {},
   "outputs": [],
   "source": [
    "X = house_price46.iloc[:, 0:5].values\n",
    "y = house_price46.iloc[:, 5].values"
   ]
  },
  {
   "cell_type": "code",
   "execution_count": null,
   "id": "4a9ca1e0",
   "metadata": {},
   "outputs": [],
   "source": [
    "from sklearn.model_selection import train_test_split\n",
    "\n",
    "X_train, X_test, y_train, y_test = train_test_split(X, y, test_size=0.3, random_state=0)"
   ]
  },
  {
   "cell_type": "code",
   "execution_count": null,
   "id": "dce07347",
   "metadata": {},
   "outputs": [],
   "source": [
    "from sklearn.ensemble import RandomForestRegressor\n",
    "\n",
    "regressor = RandomForestRegressor(n_estimators=100, random_state=0)\n",
    "regressor.fit(X_train, y_train)\n",
    "y_pred = regressor.predict(X_test)"
   ]
  },
  {
   "cell_type": "code",
   "execution_count": null,
   "id": "154c06bc",
   "metadata": {},
   "outputs": [],
   "source": [
    "from sklearn import metrics\n",
    "\n",
    "print('Mean Absolute Error:', metrics.mean_absolute_error(y_test, y_pred))\n",
    "print('Mean Squared Error:', metrics.mean_squared_error(y_test, y_pred))\n",
    "print('Root Mean Squared Error:', np.sqrt(metrics.mean_squared_error(y_test, y_pred)))\n",
    "print('R^2:', metrics.r2_score(y_test, y_pred))"
   ]
  },
  {
   "cell_type": "markdown",
   "id": "ee153dd0",
   "metadata": {},
   "source": [
    "## Select school +floor +rooms + land area + price psf  Attribute \n"
   ]
  },
  {
   "cell_type": "code",
   "execution_count": null,
   "id": "4588240f",
   "metadata": {},
   "outputs": [],
   "source": [
    "house_price47=house_price3.drop(['Distance between Hospital, KM','Tenure','Interest Rate','Min Income','Building Type', 'State','District','Built Up Area'], axis=1)"
   ]
  },
  {
   "cell_type": "code",
   "execution_count": null,
   "id": "db53dd8b",
   "metadata": {},
   "outputs": [],
   "source": [
    "house_price47.head(5)"
   ]
  },
  {
   "cell_type": "code",
   "execution_count": null,
   "id": "17e90ebf",
   "metadata": {},
   "outputs": [],
   "source": [
    "X = house_price47.iloc[:, 0:5].values\n",
    "y = house_price47.iloc[:, 5].values"
   ]
  },
  {
   "cell_type": "code",
   "execution_count": null,
   "id": "39988f2c",
   "metadata": {},
   "outputs": [],
   "source": [
    "from sklearn.model_selection import train_test_split\n",
    "\n",
    "X_train, X_test, y_train, y_test = train_test_split(X, y, test_size=0.3, random_state=0)"
   ]
  },
  {
   "cell_type": "code",
   "execution_count": null,
   "id": "c0d35050",
   "metadata": {},
   "outputs": [],
   "source": [
    "from sklearn.ensemble import RandomForestRegressor\n",
    "\n",
    "regressor = RandomForestRegressor(n_estimators=100, random_state=0)\n",
    "regressor.fit(X_train, y_train)\n",
    "y_pred = regressor.predict(X_test)"
   ]
  },
  {
   "cell_type": "code",
   "execution_count": null,
   "id": "cc7a9437",
   "metadata": {},
   "outputs": [],
   "source": [
    "from sklearn import metrics\n",
    "\n",
    "print('Mean Absolute Error:', metrics.mean_absolute_error(y_test, y_pred))\n",
    "print('Mean Squared Error:', metrics.mean_squared_error(y_test, y_pred))\n",
    "print('Root Mean Squared Error:', np.sqrt(metrics.mean_squared_error(y_test, y_pred)))\n",
    "print('R^2:', metrics.r2_score(y_test, y_pred))"
   ]
  },
  {
   "cell_type": "markdown",
   "id": "ad125d5e",
   "metadata": {},
   "source": [
    "## Select district +floor +rooms + land area + price psf  Attribute"
   ]
  },
  {
   "cell_type": "code",
   "execution_count": null,
   "id": "fe1f6d05",
   "metadata": {},
   "outputs": [],
   "source": [
    "house_price48=house_price3.drop(['Distance between Hospital, KM','Tenure','Interest Rate','Min Income','Building Type', 'State','Distance between School KM','Built Up Area'], axis=1)"
   ]
  },
  {
   "cell_type": "code",
   "execution_count": null,
   "id": "57e0c8ad",
   "metadata": {},
   "outputs": [],
   "source": [
    "house_price48.head(5)"
   ]
  },
  {
   "cell_type": "code",
   "execution_count": null,
   "id": "0e023e9e",
   "metadata": {},
   "outputs": [],
   "source": [
    "X = house_price48.iloc[:, 0:5].values\n",
    "y = house_price48.iloc[:, 5].values"
   ]
  },
  {
   "cell_type": "code",
   "execution_count": null,
   "id": "e01cc8ac",
   "metadata": {},
   "outputs": [],
   "source": [
    "from sklearn.model_selection import train_test_split\n",
    "\n",
    "X_train, X_test, y_train, y_test = train_test_split(X, y, test_size=0.3, random_state=0)"
   ]
  },
  {
   "cell_type": "code",
   "execution_count": null,
   "id": "162268d0",
   "metadata": {},
   "outputs": [],
   "source": [
    "from sklearn.ensemble import RandomForestRegressor\n",
    "\n",
    "regressor = RandomForestRegressor(n_estimators=100, random_state=0)\n",
    "regressor.fit(X_train, y_train)\n",
    "y_pred = regressor.predict(X_test)"
   ]
  },
  {
   "cell_type": "code",
   "execution_count": null,
   "id": "80636950",
   "metadata": {},
   "outputs": [],
   "source": [
    "from sklearn import metrics\n",
    "\n",
    "print('Mean Absolute Error:', metrics.mean_absolute_error(y_test, y_pred))\n",
    "print('Mean Squared Error:', metrics.mean_squared_error(y_test, y_pred))\n",
    "print('Root Mean Squared Error:', np.sqrt(metrics.mean_squared_error(y_test, y_pred)))\n",
    "print('R^2:', metrics.r2_score(y_test, y_pred))"
   ]
  },
  {
   "cell_type": "markdown",
   "id": "09aeb13c",
   "metadata": {},
   "source": [
    "## Select Built Up Area +tenure +floor +rooms + land area + price psf  Attribute"
   ]
  },
  {
   "cell_type": "code",
   "execution_count": null,
   "id": "e7a149a8",
   "metadata": {},
   "outputs": [],
   "source": [
    "house_price49=house_price3.drop(['Distance between School KM','Distance between Hospital, KM','Interest Rate','Min Income','Building Type', 'District','State'], axis=1)"
   ]
  },
  {
   "cell_type": "code",
   "execution_count": null,
   "id": "a7aa51e9",
   "metadata": {},
   "outputs": [],
   "source": [
    "house_price49.head(5)"
   ]
  },
  {
   "cell_type": "code",
   "execution_count": null,
   "id": "6b9347d3",
   "metadata": {},
   "outputs": [],
   "source": [
    "X = house_price49.iloc[:, 0:6].values\n",
    "y = house_price49.iloc[:, 6].values"
   ]
  },
  {
   "cell_type": "code",
   "execution_count": null,
   "id": "7ef10151",
   "metadata": {},
   "outputs": [],
   "source": [
    "from sklearn.model_selection import train_test_split\n",
    "\n",
    "X_train, X_test, y_train, y_test = train_test_split(X, y, test_size=0.3, random_state=0)"
   ]
  },
  {
   "cell_type": "code",
   "execution_count": null,
   "id": "5399d69f",
   "metadata": {},
   "outputs": [],
   "source": [
    "from sklearn.ensemble import RandomForestRegressor\n",
    "\n",
    "regressor = RandomForestRegressor(n_estimators=100, random_state=0)\n",
    "regressor.fit(X_train, y_train)\n",
    "y_pred = regressor.predict(X_test)"
   ]
  },
  {
   "cell_type": "code",
   "execution_count": null,
   "id": "a32ce4ab",
   "metadata": {},
   "outputs": [],
   "source": [
    "from sklearn import metrics\n",
    "\n",
    "print('Mean Absolute Error:', metrics.mean_absolute_error(y_test, y_pred))\n",
    "print('Mean Squared Error:', metrics.mean_squared_error(y_test, y_pred))\n",
    "print('Root Mean Squared Error:', np.sqrt(metrics.mean_squared_error(y_test, y_pred)))\n",
    "print('R^2:', metrics.r2_score(y_test, y_pred))"
   ]
  },
  {
   "cell_type": "markdown",
   "id": "b85353bf",
   "metadata": {},
   "source": [
    "## Select state  +tenure +floor +rooms + land area + price psf  Attribute"
   ]
  },
  {
   "cell_type": "code",
   "execution_count": null,
   "id": "06a37308",
   "metadata": {},
   "outputs": [],
   "source": [
    "house_price50=house_price3.drop(['Distance between School KM','Distance between Hospital, KM','Interest Rate','Min Income','Building Type', 'District','Built Up Area'], axis=1)"
   ]
  },
  {
   "cell_type": "code",
   "execution_count": null,
   "id": "8141adc2",
   "metadata": {},
   "outputs": [],
   "source": [
    "house_price50.head(5)"
   ]
  },
  {
   "cell_type": "code",
   "execution_count": null,
   "id": "c11240fc",
   "metadata": {},
   "outputs": [],
   "source": [
    "X = house_price50.iloc[:, 0:6].values\n",
    "y = house_price50.iloc[:, 6].values"
   ]
  },
  {
   "cell_type": "code",
   "execution_count": null,
   "id": "301772fa",
   "metadata": {},
   "outputs": [],
   "source": [
    "from sklearn.model_selection import train_test_split\n",
    "\n",
    "X_train, X_test, y_train, y_test = train_test_split(X, y, test_size=0.3, random_state=0)"
   ]
  },
  {
   "cell_type": "code",
   "execution_count": null,
   "id": "13d8396c",
   "metadata": {},
   "outputs": [],
   "source": [
    "from sklearn.ensemble import RandomForestRegressor\n",
    "\n",
    "regressor = RandomForestRegressor(n_estimators=100, random_state=0)\n",
    "regressor.fit(X_train, y_train)\n",
    "y_pred = regressor.predict(X_test)"
   ]
  },
  {
   "cell_type": "code",
   "execution_count": null,
   "id": "452a5f68",
   "metadata": {},
   "outputs": [],
   "source": [
    "from sklearn import metrics\n",
    "\n",
    "print('Mean Absolute Error:', metrics.mean_absolute_error(y_test, y_pred))\n",
    "print('Mean Squared Error:', metrics.mean_squared_error(y_test, y_pred))\n",
    "print('Root Mean Squared Error:', np.sqrt(metrics.mean_squared_error(y_test, y_pred)))\n",
    "print('R^2:', metrics.r2_score(y_test, y_pred))"
   ]
  },
  {
   "cell_type": "code",
   "execution_count": null,
   "id": "4cd05f36",
   "metadata": {},
   "outputs": [],
   "source": [
    "dfr=pd.DataFrame({'Actual_Price':y_test, 'Predicted_Price':y_pred})\n",
    "dfr.head()"
   ]
  },
  {
   "cell_type": "code",
   "execution_count": null,
   "id": "4e8e79db",
   "metadata": {},
   "outputs": [],
   "source": [
    "# Finding the relations between the variables.\n",
    "plt.figure(figsize=(20,20))\n",
    "c= house_price50.corr(method='pearson')\n",
    "sns.heatmap(c,cmap='BrBG',annot=True)"
   ]
  },
  {
   "cell_type": "code",
   "execution_count": null,
   "id": "c842c99d",
   "metadata": {},
   "outputs": [],
   "source": [
    "CategoryGroupLists1=house_price50.groupby('State')['Price psf'].apply(list)\n",
    "AnovaResults = f_oneway(*CategoryGroupLists1)\n",
    "print('P-Value for Anova is: ', AnovaResults[1])"
   ]
  },
  {
   "cell_type": "markdown",
   "id": "62a9c372",
   "metadata": {},
   "source": [
    "## Select building type +tenure +floor +rooms + land area + price psf  Attribute"
   ]
  },
  {
   "cell_type": "code",
   "execution_count": null,
   "id": "a76e4d32",
   "metadata": {},
   "outputs": [],
   "source": [
    "house_price51=house_price3.drop(['Distance between School KM','Distance between Hospital, KM','Interest Rate','Min Income','State', 'District','Built Up Area'], axis=1)"
   ]
  },
  {
   "cell_type": "code",
   "execution_count": null,
   "id": "d5841996",
   "metadata": {},
   "outputs": [],
   "source": [
    "house_price51.head(5)"
   ]
  },
  {
   "cell_type": "code",
   "execution_count": null,
   "id": "47cbab62",
   "metadata": {},
   "outputs": [],
   "source": [
    "X = house_price51.iloc[:, 0:6].values\n",
    "y = house_price51.iloc[:, 6].values"
   ]
  },
  {
   "cell_type": "code",
   "execution_count": null,
   "id": "b3a2086c",
   "metadata": {},
   "outputs": [],
   "source": [
    "from sklearn.model_selection import train_test_split\n",
    "\n",
    "X_train, X_test, y_train, y_test = train_test_split(X, y, test_size=0.3, random_state=0)"
   ]
  },
  {
   "cell_type": "code",
   "execution_count": null,
   "id": "33fd17aa",
   "metadata": {},
   "outputs": [],
   "source": [
    "from sklearn.ensemble import RandomForestRegressor\n",
    "\n",
    "regressor = RandomForestRegressor(n_estimators=100, random_state=0)\n",
    "regressor.fit(X_train, y_train)\n",
    "y_pred = regressor.predict(X_test)"
   ]
  },
  {
   "cell_type": "code",
   "execution_count": null,
   "id": "7e6d594c",
   "metadata": {},
   "outputs": [],
   "source": [
    "from sklearn import metrics\n",
    "\n",
    "print('Mean Absolute Error:', metrics.mean_absolute_error(y_test, y_pred))\n",
    "print('Mean Squared Error:', metrics.mean_squared_error(y_test, y_pred))\n",
    "print('Root Mean Squared Error:', np.sqrt(metrics.mean_squared_error(y_test, y_pred)))\n",
    "print('R^2:', metrics.r2_score(y_test, y_pred))"
   ]
  },
  {
   "cell_type": "markdown",
   "id": "a80ce5a3",
   "metadata": {},
   "source": [
    "## Select hospital +tenure +floor +rooms + land area + price psf  Attribute"
   ]
  },
  {
   "cell_type": "code",
   "execution_count": null,
   "id": "e80780ba",
   "metadata": {},
   "outputs": [],
   "source": [
    "house_price52=house_price3.drop(['Distance between School KM','Building Type','Interest Rate','Min Income','State', 'District','Built Up Area'], axis=1)"
   ]
  },
  {
   "cell_type": "code",
   "execution_count": null,
   "id": "d05b5bbd",
   "metadata": {},
   "outputs": [],
   "source": [
    "house_price52.head(5)"
   ]
  },
  {
   "cell_type": "code",
   "execution_count": null,
   "id": "c50f3c16",
   "metadata": {},
   "outputs": [],
   "source": [
    "X = house_price52.iloc[:, 0:6].values\n",
    "y = house_price52.iloc[:, 6].values"
   ]
  },
  {
   "cell_type": "code",
   "execution_count": null,
   "id": "1c51f4bc",
   "metadata": {},
   "outputs": [],
   "source": [
    "from sklearn.model_selection import train_test_split\n",
    "\n",
    "X_train, X_test, y_train, y_test = train_test_split(X, y, test_size=0.3, random_state=0)"
   ]
  },
  {
   "cell_type": "code",
   "execution_count": null,
   "id": "0f40e9d9",
   "metadata": {},
   "outputs": [],
   "source": [
    "from sklearn.ensemble import RandomForestRegressor\n",
    "\n",
    "regressor = RandomForestRegressor(n_estimators=100, random_state=0)\n",
    "regressor.fit(X_train, y_train)\n",
    "y_pred = regressor.predict(X_test)"
   ]
  },
  {
   "cell_type": "code",
   "execution_count": null,
   "id": "7929d9d5",
   "metadata": {},
   "outputs": [],
   "source": [
    "from sklearn import metrics\n",
    "\n",
    "print('Mean Absolute Error:', metrics.mean_absolute_error(y_test, y_pred))\n",
    "print('Mean Squared Error:', metrics.mean_squared_error(y_test, y_pred))\n",
    "print('Root Mean Squared Error:', np.sqrt(metrics.mean_squared_error(y_test, y_pred)))\n",
    "print('R^2:', metrics.r2_score(y_test, y_pred))"
   ]
  },
  {
   "cell_type": "markdown",
   "id": "90f06163",
   "metadata": {},
   "source": [
    "## Select school +tenure +floor +rooms + land area + price psf  Attribute"
   ]
  },
  {
   "cell_type": "code",
   "execution_count": null,
   "id": "91acb61e",
   "metadata": {},
   "outputs": [],
   "source": [
    "house_price53=house_price3.drop(['Distance between Hospital, KM','Building Type','Interest Rate','Min Income','State', 'District','Built Up Area'], axis=1)"
   ]
  },
  {
   "cell_type": "code",
   "execution_count": null,
   "id": "7d4a84e5",
   "metadata": {},
   "outputs": [],
   "source": [
    "house_price53.head(5)"
   ]
  },
  {
   "cell_type": "code",
   "execution_count": null,
   "id": "26877df5",
   "metadata": {},
   "outputs": [],
   "source": [
    "X = house_price53.iloc[:, 0:6].values\n",
    "y = house_price53.iloc[:, 6].values"
   ]
  },
  {
   "cell_type": "code",
   "execution_count": null,
   "id": "c0a5c83c",
   "metadata": {},
   "outputs": [],
   "source": [
    "from sklearn.model_selection import train_test_split\n",
    "\n",
    "X_train, X_test, y_train, y_test = train_test_split(X, y, test_size=0.3, random_state=0)"
   ]
  },
  {
   "cell_type": "code",
   "execution_count": null,
   "id": "55ab131e",
   "metadata": {},
   "outputs": [],
   "source": [
    "from sklearn.ensemble import RandomForestRegressor\n",
    "\n",
    "regressor = RandomForestRegressor(n_estimators=100, random_state=0)\n",
    "regressor.fit(X_train, y_train)\n",
    "y_pred = regressor.predict(X_test)"
   ]
  },
  {
   "cell_type": "code",
   "execution_count": null,
   "id": "271aaab8",
   "metadata": {},
   "outputs": [],
   "source": [
    "from sklearn import metrics\n",
    "\n",
    "print('Mean Absolute Error:', metrics.mean_absolute_error(y_test, y_pred))\n",
    "print('Mean Squared Error:', metrics.mean_squared_error(y_test, y_pred))\n",
    "print('Root Mean Squared Error:', np.sqrt(metrics.mean_squared_error(y_test, y_pred)))\n",
    "print('R^2:', metrics.r2_score(y_test, y_pred))"
   ]
  },
  {
   "cell_type": "markdown",
   "id": "ffccca88",
   "metadata": {},
   "source": [
    "## Select district +tenure +floor +rooms + land area + price psf  Attribute"
   ]
  },
  {
   "cell_type": "code",
   "execution_count": null,
   "id": "51cff8cd",
   "metadata": {},
   "outputs": [],
   "source": [
    "house_price54=house_price3.drop(['Distance between Hospital, KM','Building Type','Interest Rate','Min Income','State', 'Distance between School KM','Built Up Area'], axis=1)"
   ]
  },
  {
   "cell_type": "code",
   "execution_count": null,
   "id": "21490df3",
   "metadata": {},
   "outputs": [],
   "source": [
    "house_price54.head(5)"
   ]
  },
  {
   "cell_type": "code",
   "execution_count": null,
   "id": "d49549d6",
   "metadata": {},
   "outputs": [],
   "source": [
    "X = house_price54.iloc[:, 0:6].values\n",
    "y = house_price54.iloc[:, 6].values"
   ]
  },
  {
   "cell_type": "code",
   "execution_count": null,
   "id": "ba5abd3f",
   "metadata": {},
   "outputs": [],
   "source": [
    "from sklearn.model_selection import train_test_split\n",
    "\n",
    "X_train, X_test, y_train, y_test = train_test_split(X, y, test_size=0.3, random_state=0)"
   ]
  },
  {
   "cell_type": "code",
   "execution_count": null,
   "id": "cdf49d37",
   "metadata": {},
   "outputs": [],
   "source": [
    "from sklearn.ensemble import RandomForestRegressor\n",
    "\n",
    "regressor = RandomForestRegressor(n_estimators=100, random_state=0)\n",
    "regressor.fit(X_train, y_train)\n",
    "y_pred = regressor.predict(X_test)"
   ]
  },
  {
   "cell_type": "code",
   "execution_count": null,
   "id": "42182367",
   "metadata": {},
   "outputs": [],
   "source": [
    "from sklearn import metrics\n",
    "\n",
    "print('Mean Absolute Error:', metrics.mean_absolute_error(y_test, y_pred))\n",
    "print('Mean Squared Error:', metrics.mean_squared_error(y_test, y_pred))\n",
    "print('Root Mean Squared Error:', np.sqrt(metrics.mean_squared_error(y_test, y_pred)))\n",
    "print('R^2:', metrics.r2_score(y_test, y_pred))"
   ]
  },
  {
   "cell_type": "code",
   "execution_count": null,
   "id": "6848e5bd",
   "metadata": {},
   "outputs": [],
   "source": [
    "dfr=pd.DataFrame({'Actual_Price':y_test, 'Predicted_Price':y_pred})\n",
    "dfr.head()"
   ]
  },
  {
   "cell_type": "markdown",
   "id": "c9df2471",
   "metadata": {},
   "source": [
    "## Select Built Up Area +District + tenure +floor +rooms + land area + price psf  Attribute"
   ]
  },
  {
   "cell_type": "code",
   "execution_count": null,
   "id": "d2b8143e",
   "metadata": {},
   "outputs": [],
   "source": [
    "house_price55=house_price3.drop(['Distance between Hospital, KM','Building Type','Interest Rate','Min Income','State', 'Distance between School KM'], axis=1)"
   ]
  },
  {
   "cell_type": "code",
   "execution_count": null,
   "id": "3554adaa",
   "metadata": {},
   "outputs": [],
   "source": [
    "house_price55.head(5)"
   ]
  },
  {
   "cell_type": "code",
   "execution_count": null,
   "id": "c179d479",
   "metadata": {},
   "outputs": [],
   "source": [
    "X = house_price55.iloc[:, 0:7].values\n",
    "y = house_price55.iloc[:, 7].values"
   ]
  },
  {
   "cell_type": "code",
   "execution_count": null,
   "id": "6ee7c6be",
   "metadata": {},
   "outputs": [],
   "source": [
    "from sklearn.model_selection import train_test_split\n",
    "\n",
    "X_train, X_test, y_train, y_test = train_test_split(X, y, test_size=0.3, random_state=0)"
   ]
  },
  {
   "cell_type": "code",
   "execution_count": null,
   "id": "4166e89e",
   "metadata": {},
   "outputs": [],
   "source": [
    "from sklearn.ensemble import RandomForestRegressor\n",
    "\n",
    "regressor = RandomForestRegressor(n_estimators=100, random_state=0)\n",
    "regressor.fit(X_train, y_train)\n",
    "y_pred = regressor.predict(X_test)"
   ]
  },
  {
   "cell_type": "code",
   "execution_count": null,
   "id": "14778410",
   "metadata": {},
   "outputs": [],
   "source": [
    "from sklearn import metrics\n",
    "\n",
    "print('Mean Absolute Error:', metrics.mean_absolute_error(y_test, y_pred))\n",
    "print('Mean Squared Error:', metrics.mean_squared_error(y_test, y_pred))\n",
    "print('Root Mean Squared Error:', np.sqrt(metrics.mean_squared_error(y_test, y_pred)))\n",
    "print('R^2:', metrics.r2_score(y_test, y_pred))"
   ]
  },
  {
   "cell_type": "markdown",
   "id": "6749a1b7",
   "metadata": {},
   "source": [
    "## Select state + District + tenure +floor +rooms + land area + price psf  Attribute"
   ]
  },
  {
   "cell_type": "code",
   "execution_count": null,
   "id": "b32c561a",
   "metadata": {},
   "outputs": [],
   "source": [
    "house_price56=house_price3.drop(['Distance between Hospital, KM','Building Type','Interest Rate','Min Income','Built Up Area', 'Distance between School KM'], axis=1)"
   ]
  },
  {
   "cell_type": "code",
   "execution_count": null,
   "id": "009f3202",
   "metadata": {},
   "outputs": [],
   "source": [
    "house_price56.head(5)"
   ]
  },
  {
   "cell_type": "code",
   "execution_count": null,
   "id": "47690a8d",
   "metadata": {},
   "outputs": [],
   "source": [
    "X = house_price56.iloc[:, 0:7].values\n",
    "y = house_price56.iloc[:, 7].values"
   ]
  },
  {
   "cell_type": "code",
   "execution_count": null,
   "id": "a3894071",
   "metadata": {},
   "outputs": [],
   "source": [
    "from sklearn.model_selection import train_test_split\n",
    "\n",
    "X_train, X_test, y_train, y_test = train_test_split(X, y, test_size=0.3, random_state=0)"
   ]
  },
  {
   "cell_type": "code",
   "execution_count": null,
   "id": "fc60f70d",
   "metadata": {},
   "outputs": [],
   "source": [
    "from sklearn.ensemble import RandomForestRegressor\n",
    "\n",
    "regressor = RandomForestRegressor(n_estimators=100, random_state=0)\n",
    "regressor.fit(X_train, y_train)\n",
    "y_pred = regressor.predict(X_test)"
   ]
  },
  {
   "cell_type": "code",
   "execution_count": null,
   "id": "304e29ee",
   "metadata": {},
   "outputs": [],
   "source": [
    "from sklearn import metrics\n",
    "\n",
    "print('Mean Absolute Error:', metrics.mean_absolute_error(y_test, y_pred))\n",
    "print('Mean Squared Error:', metrics.mean_squared_error(y_test, y_pred))\n",
    "print('Root Mean Squared Error:', np.sqrt(metrics.mean_squared_error(y_test, y_pred)))\n",
    "print('R^2:', metrics.r2_score(y_test, y_pred))"
   ]
  },
  {
   "cell_type": "code",
   "execution_count": null,
   "id": "9305265d",
   "metadata": {},
   "outputs": [],
   "source": [
    "# Finding the relations between the variables.\n",
    "plt.figure(figsize=(20,20))\n",
    "c= house_price56.corr(method='pearson')\n",
    "sns.heatmap(c,cmap='BrBG',annot=True)"
   ]
  },
  {
   "cell_type": "code",
   "execution_count": null,
   "id": "03bdf9f5",
   "metadata": {},
   "outputs": [],
   "source": []
  },
  {
   "cell_type": "markdown",
   "id": "7f882bbc",
   "metadata": {},
   "source": [
    "## Select building type +District + tenure +floor +rooms + land area + price psf  Attribute"
   ]
  },
  {
   "cell_type": "code",
   "execution_count": null,
   "id": "cddca5e1",
   "metadata": {},
   "outputs": [],
   "source": [
    "house_price57=house_price3.drop(['Distance between Hospital, KM','State','Interest Rate','Min Income','Built Up Area', 'Distance between School KM'], axis=1)"
   ]
  },
  {
   "cell_type": "code",
   "execution_count": null,
   "id": "a907d0da",
   "metadata": {},
   "outputs": [],
   "source": [
    "house_price57.head(5)"
   ]
  },
  {
   "cell_type": "code",
   "execution_count": null,
   "id": "45375037",
   "metadata": {},
   "outputs": [],
   "source": [
    "X = house_price57.iloc[:, 0:7].values\n",
    "y = house_price57.iloc[:, 7].values"
   ]
  },
  {
   "cell_type": "code",
   "execution_count": null,
   "id": "aa79e91f",
   "metadata": {},
   "outputs": [],
   "source": [
    "from sklearn.model_selection import train_test_split\n",
    "\n",
    "X_train, X_test, y_train, y_test = train_test_split(X, y, test_size=0.3, random_state=0)"
   ]
  },
  {
   "cell_type": "code",
   "execution_count": null,
   "id": "0b531bdb",
   "metadata": {},
   "outputs": [],
   "source": [
    "from sklearn.ensemble import RandomForestRegressor\n",
    "\n",
    "regressor = RandomForestRegressor(n_estimators=100, random_state=0)\n",
    "regressor.fit(X_train, y_train)\n",
    "y_pred = regressor.predict(X_test)"
   ]
  },
  {
   "cell_type": "code",
   "execution_count": null,
   "id": "7edef1a9",
   "metadata": {},
   "outputs": [],
   "source": [
    "from sklearn import metrics\n",
    "\n",
    "print('Mean Absolute Error:', metrics.mean_absolute_error(y_test, y_pred))\n",
    "print('Mean Squared Error:', metrics.mean_squared_error(y_test, y_pred))\n",
    "print('Root Mean Squared Error:', np.sqrt(metrics.mean_squared_error(y_test, y_pred)))\n",
    "print('R^2:', metrics.r2_score(y_test, y_pred))"
   ]
  },
  {
   "cell_type": "markdown",
   "id": "2c4dd3d1",
   "metadata": {},
   "source": [
    "## Select hospital +District + tenure +floor +rooms + land area + price psf  Attribute"
   ]
  },
  {
   "cell_type": "code",
   "execution_count": null,
   "id": "976fbe03",
   "metadata": {},
   "outputs": [],
   "source": [
    "house_price58=house_price3.drop(['Building Type','State','Interest Rate','Min Income','Built Up Area', 'Distance between School KM'], axis=1)"
   ]
  },
  {
   "cell_type": "code",
   "execution_count": null,
   "id": "56a66efc",
   "metadata": {},
   "outputs": [],
   "source": [
    "house_price58.head(5)"
   ]
  },
  {
   "cell_type": "code",
   "execution_count": null,
   "id": "a43b61eb",
   "metadata": {},
   "outputs": [],
   "source": [
    "X = house_price58.iloc[:, 0:7].values\n",
    "y = house_price58.iloc[:, 7].values"
   ]
  },
  {
   "cell_type": "code",
   "execution_count": null,
   "id": "311e074d",
   "metadata": {},
   "outputs": [],
   "source": [
    "from sklearn.model_selection import train_test_split\n",
    "\n",
    "X_train, X_test, y_train, y_test = train_test_split(X, y, test_size=0.3, random_state=0)"
   ]
  },
  {
   "cell_type": "code",
   "execution_count": null,
   "id": "7e0dcac2",
   "metadata": {},
   "outputs": [],
   "source": [
    "from sklearn.ensemble import RandomForestRegressor\n",
    "\n",
    "regressor = RandomForestRegressor(n_estimators=100, random_state=0)\n",
    "regressor.fit(X_train, y_train)\n",
    "y_pred = regressor.predict(X_test)"
   ]
  },
  {
   "cell_type": "code",
   "execution_count": null,
   "id": "99a07192",
   "metadata": {},
   "outputs": [],
   "source": [
    "from sklearn import metrics\n",
    "\n",
    "print('Mean Absolute Error:', metrics.mean_absolute_error(y_test, y_pred))\n",
    "print('Mean Squared Error:', metrics.mean_squared_error(y_test, y_pred))\n",
    "print('Root Mean Squared Error:', np.sqrt(metrics.mean_squared_error(y_test, y_pred)))\n",
    "print('R^2:', metrics.r2_score(y_test, y_pred))"
   ]
  },
  {
   "cell_type": "markdown",
   "id": "b5790132",
   "metadata": {},
   "source": [
    "## Select school +District + tenure +floor +rooms + land area + price psf  Attribute"
   ]
  },
  {
   "cell_type": "code",
   "execution_count": null,
   "id": "1b7f33af",
   "metadata": {},
   "outputs": [],
   "source": [
    "house_price59=house_price3.drop(['Building Type','State','Interest Rate','Min Income','Built Up Area', 'Distance between Hospital, KM'], axis=1)"
   ]
  },
  {
   "cell_type": "code",
   "execution_count": null,
   "id": "568a7eb8",
   "metadata": {},
   "outputs": [],
   "source": [
    "house_price59.head(5)"
   ]
  },
  {
   "cell_type": "code",
   "execution_count": null,
   "id": "797bec19",
   "metadata": {},
   "outputs": [],
   "source": [
    "X = house_price59.iloc[:, 0:7].values\n",
    "y = house_price59.iloc[:, 7].values"
   ]
  },
  {
   "cell_type": "code",
   "execution_count": null,
   "id": "fecd0bdd",
   "metadata": {},
   "outputs": [],
   "source": [
    "from sklearn.model_selection import train_test_split\n",
    "\n",
    "X_train, X_test, y_train, y_test = train_test_split(X, y, test_size=0.3, random_state=0)"
   ]
  },
  {
   "cell_type": "code",
   "execution_count": null,
   "id": "88548707",
   "metadata": {},
   "outputs": [],
   "source": [
    "from sklearn.ensemble import RandomForestRegressor\n",
    "\n",
    "regressor = RandomForestRegressor(n_estimators=100, random_state=0)\n",
    "regressor.fit(X_train, y_train)\n",
    "y_pred = regressor.predict(X_test)"
   ]
  },
  {
   "cell_type": "code",
   "execution_count": null,
   "id": "4e1848b9",
   "metadata": {},
   "outputs": [],
   "source": [
    "from sklearn import metrics\n",
    "\n",
    "print('Mean Absolute Error:', metrics.mean_absolute_error(y_test, y_pred))\n",
    "print('Mean Squared Error:', metrics.mean_squared_error(y_test, y_pred))\n",
    "print('Root Mean Squared Error:', np.sqrt(metrics.mean_squared_error(y_test, y_pred)))\n",
    "print('R^2:', metrics.r2_score(y_test, y_pred))"
   ]
  },
  {
   "cell_type": "markdown",
   "id": "0872f5b8",
   "metadata": {},
   "source": [
    "## Select state + District + tenure +floor +rooms + land area + price psf Attribute"
   ]
  },
  {
   "cell_type": "code",
   "execution_count": null,
   "id": "732ad692",
   "metadata": {},
   "outputs": [],
   "source": [
    "house_price60=house_price3.drop(['Distance between Hospital, KM','Building Type','Interest Rate','Min Income', 'Distance between School KM'], axis=1)"
   ]
  },
  {
   "cell_type": "code",
   "execution_count": null,
   "id": "bdf13c40",
   "metadata": {},
   "outputs": [],
   "source": [
    "house_price60.head(5)"
   ]
  },
  {
   "cell_type": "code",
   "execution_count": null,
   "id": "fc0b818f",
   "metadata": {},
   "outputs": [],
   "source": [
    "X = house_price60.iloc[:, 0:8].values\n",
    "y = house_price60.iloc[:, 8].values"
   ]
  },
  {
   "cell_type": "code",
   "execution_count": null,
   "id": "84f4a274",
   "metadata": {},
   "outputs": [],
   "source": [
    "from sklearn.model_selection import train_test_split\n",
    "\n",
    "X_train, X_test, y_train, y_test = train_test_split(X, y, test_size=0.3, random_state=0)"
   ]
  },
  {
   "cell_type": "code",
   "execution_count": null,
   "id": "d08a3478",
   "metadata": {},
   "outputs": [],
   "source": [
    "from sklearn.ensemble import RandomForestRegressor\n",
    "\n",
    "regressor = RandomForestRegressor(n_estimators=100, random_state=0)\n",
    "regressor.fit(X_train, y_train)\n",
    "y_pred = regressor.predict(X_test)"
   ]
  },
  {
   "cell_type": "code",
   "execution_count": null,
   "id": "f1449ded",
   "metadata": {},
   "outputs": [],
   "source": [
    "from sklearn import metrics\n",
    "\n",
    "print('Mean Absolute Error:', metrics.mean_absolute_error(y_test, y_pred))\n",
    "print('Mean Squared Error:', metrics.mean_squared_error(y_test, y_pred))\n",
    "print('Root Mean Squared Error:', np.sqrt(metrics.mean_squared_error(y_test, y_pred)))\n",
    "print('R^2:', metrics.r2_score(y_test, y_pred))"
   ]
  },
  {
   "cell_type": "markdown",
   "id": "efc61d89",
   "metadata": {},
   "source": [
    "## Select building type +Built Up Area +District + tenure +floor +rooms + land area + price psf Attribute"
   ]
  },
  {
   "cell_type": "code",
   "execution_count": null,
   "id": "5ed0c6dc",
   "metadata": {},
   "outputs": [],
   "source": [
    "house_price61=house_price3.drop(['Distance between Hospital, KM','State','Interest Rate','Min Income', 'Distance between School KM'], axis=1)"
   ]
  },
  {
   "cell_type": "code",
   "execution_count": null,
   "id": "7fe517a1",
   "metadata": {},
   "outputs": [],
   "source": [
    "house_price61.head(5)"
   ]
  },
  {
   "cell_type": "code",
   "execution_count": null,
   "id": "4321fc0e",
   "metadata": {},
   "outputs": [],
   "source": [
    "X = house_price61.iloc[:, 0:8].values\n",
    "y = house_price61.iloc[:, 8].values"
   ]
  },
  {
   "cell_type": "code",
   "execution_count": null,
   "id": "4f0fcba0",
   "metadata": {},
   "outputs": [],
   "source": [
    "from sklearn.model_selection import train_test_split\n",
    "\n",
    "X_train, X_test, y_train, y_test = train_test_split(X, y, test_size=0.3, random_state=0)"
   ]
  },
  {
   "cell_type": "code",
   "execution_count": null,
   "id": "68e2126c",
   "metadata": {},
   "outputs": [],
   "source": [
    "from sklearn.ensemble import RandomForestRegressor\n",
    "\n",
    "regressor = RandomForestRegressor(n_estimators=100, random_state=0)\n",
    "regressor.fit(X_train, y_train)\n",
    "y_pred = regressor.predict(X_test)"
   ]
  },
  {
   "cell_type": "code",
   "execution_count": null,
   "id": "3ca1e8be",
   "metadata": {},
   "outputs": [],
   "source": [
    "from sklearn import metrics\n",
    "\n",
    "print('Mean Absolute Error:', metrics.mean_absolute_error(y_test, y_pred))\n",
    "print('Mean Squared Error:', metrics.mean_squared_error(y_test, y_pred))\n",
    "print('Root Mean Squared Error:', np.sqrt(metrics.mean_squared_error(y_test, y_pred)))\n",
    "print('R^2:', metrics.r2_score(y_test, y_pred))"
   ]
  },
  {
   "cell_type": "markdown",
   "id": "b655cdf9",
   "metadata": {},
   "source": [
    "## Select hospital +Built Up Area +District + tenure +floor +rooms + land area + price psf Attribute"
   ]
  },
  {
   "cell_type": "code",
   "execution_count": null,
   "id": "a135eff9",
   "metadata": {},
   "outputs": [],
   "source": [
    "house_price62=house_price3.drop(['Building Type','State','Interest Rate','Min Income', 'Distance between Hospital, KM'], axis=1)"
   ]
  },
  {
   "cell_type": "code",
   "execution_count": null,
   "id": "dff39cb0",
   "metadata": {},
   "outputs": [],
   "source": [
    "house_price62.head(5)"
   ]
  },
  {
   "cell_type": "code",
   "execution_count": null,
   "id": "60110fed",
   "metadata": {},
   "outputs": [],
   "source": [
    "X = house_price62.iloc[:, 0:8].values\n",
    "y = house_price62.iloc[:, 8].values"
   ]
  },
  {
   "cell_type": "code",
   "execution_count": null,
   "id": "28c56ad1",
   "metadata": {},
   "outputs": [],
   "source": [
    "from sklearn.model_selection import train_test_split\n",
    "\n",
    "X_train, X_test, y_train, y_test = train_test_split(X, y, test_size=0.3, random_state=0)"
   ]
  },
  {
   "cell_type": "code",
   "execution_count": null,
   "id": "a88d9d44",
   "metadata": {},
   "outputs": [],
   "source": [
    "from sklearn.ensemble import RandomForestRegressor\n",
    "\n",
    "regressor = RandomForestRegressor(n_estimators=100, random_state=0)\n",
    "regressor.fit(X_train, y_train)\n",
    "y_pred = regressor.predict(X_test)"
   ]
  },
  {
   "cell_type": "code",
   "execution_count": null,
   "id": "445e564c",
   "metadata": {},
   "outputs": [],
   "source": [
    "from sklearn import metrics\n",
    "\n",
    "print('Mean Absolute Error:', metrics.mean_absolute_error(y_test, y_pred))\n",
    "print('Mean Squared Error:', metrics.mean_squared_error(y_test, y_pred))\n",
    "print('Root Mean Squared Error:', np.sqrt(metrics.mean_squared_error(y_test, y_pred)))\n",
    "print('R^2:', metrics.r2_score(y_test, y_pred))"
   ]
  },
  {
   "cell_type": "markdown",
   "id": "835215ad",
   "metadata": {},
   "source": [
    "## Select state + building type +Built Up Area +District + tenure +floor +rooms + land area + price psf Attribute"
   ]
  },
  {
   "cell_type": "code",
   "execution_count": null,
   "id": "11ceb3fb",
   "metadata": {},
   "outputs": [],
   "source": [
    "house_price63=house_price3.drop(['Distance between Hospital, KM','Interest Rate','Min Income', 'Distance between School KM'], axis=1)"
   ]
  },
  {
   "cell_type": "code",
   "execution_count": null,
   "id": "cbcf5b18",
   "metadata": {},
   "outputs": [],
   "source": [
    "house_price63.head(5)"
   ]
  },
  {
   "cell_type": "code",
   "execution_count": null,
   "id": "72e4b880",
   "metadata": {},
   "outputs": [],
   "source": [
    "X = house_price62.iloc[:, 0:8].values\n",
    "y = house_price62.iloc[:, 8].values"
   ]
  },
  {
   "cell_type": "code",
   "execution_count": null,
   "id": "bc3c5bcc",
   "metadata": {},
   "outputs": [],
   "source": [
    "from sklearn.model_selection import train_test_split\n",
    "\n",
    "X_train, X_test, y_train, y_test = train_test_split(X, y, test_size=0.3, random_state=0)"
   ]
  },
  {
   "cell_type": "code",
   "execution_count": null,
   "id": "f77363b1",
   "metadata": {},
   "outputs": [],
   "source": [
    "from sklearn.ensemble import RandomForestRegressor\n",
    "\n",
    "regressor = RandomForestRegressor(n_estimators=100, random_state=0)\n",
    "regressor.fit(X_train, y_train)\n",
    "y_pred = regressor.predict(X_test)"
   ]
  },
  {
   "cell_type": "code",
   "execution_count": null,
   "id": "9b4bd555",
   "metadata": {},
   "outputs": [],
   "source": [
    "from sklearn import metrics\n",
    "\n",
    "print('Mean Absolute Error:', metrics.mean_absolute_error(y_test, y_pred))\n",
    "print('Mean Squared Error:', metrics.mean_squared_error(y_test, y_pred))\n",
    "print('Root Mean Squared Error:', np.sqrt(metrics.mean_squared_error(y_test, y_pred)))\n",
    "print('R^2:', metrics.r2_score(y_test, y_pred))"
   ]
  },
  {
   "cell_type": "code",
   "execution_count": null,
   "id": "3a4ff899",
   "metadata": {},
   "outputs": [],
   "source": [
    "house_price64=house_price3.drop(['Interest Rate','Min Income'], axis=1)"
   ]
  },
  {
   "cell_type": "code",
   "execution_count": null,
   "id": "f595115e",
   "metadata": {},
   "outputs": [],
   "source": [
    "house_price64.head(5)"
   ]
  },
  {
   "cell_type": "code",
   "execution_count": null,
   "id": "9b99f1f2",
   "metadata": {},
   "outputs": [],
   "source": [
    "X = house_price64.iloc[:, 0:11].values\n",
    "y = house_price64.iloc[:, 11].values"
   ]
  },
  {
   "cell_type": "code",
   "execution_count": null,
   "id": "71b04449",
   "metadata": {},
   "outputs": [],
   "source": [
    "from sklearn.model_selection import train_test_split\n",
    "\n",
    "X_train, X_test, y_train, y_test = train_test_split(X, y, test_size=0.3, random_state=0)"
   ]
  },
  {
   "cell_type": "code",
   "execution_count": null,
   "id": "230428a2",
   "metadata": {},
   "outputs": [],
   "source": [
    "from sklearn.ensemble import RandomForestRegressor\n",
    "\n",
    "regressor = RandomForestRegressor(n_estimators=100, random_state=0)\n",
    "regressor.fit(X_train, y_train)\n",
    "y_pred = regressor.predict(X_test)"
   ]
  },
  {
   "cell_type": "code",
   "execution_count": null,
   "id": "140ebe51",
   "metadata": {},
   "outputs": [],
   "source": [
    "from sklearn import metrics\n",
    "\n",
    "print('Mean Absolute Error:', metrics.mean_absolute_error(y_test, y_pred))\n",
    "print('Mean Squared Error:', metrics.mean_squared_error(y_test, y_pred))\n",
    "print('Root Mean Squared Error:', np.sqrt(metrics.mean_squared_error(y_test, y_pred)))\n",
    "print('R^2:', metrics.r2_score(y_test, y_pred))"
   ]
  },
  {
   "cell_type": "markdown",
   "id": "5663fa42",
   "metadata": {},
   "source": [
    "## Model"
   ]
  },
  {
   "cell_type": "code",
   "execution_count": null,
   "id": "63bf80cf",
   "metadata": {},
   "outputs": [],
   "source": [
    "X = house_price3.iloc[:, 0:8].values\n",
    "y = house_price3.iloc[:, 8].values"
   ]
  },
  {
   "cell_type": "code",
   "execution_count": null,
   "id": "1c21eadd",
   "metadata": {},
   "outputs": [],
   "source": [
    "from sklearn.model_selection import train_test_split\n",
    "\n",
    "X_train, X_test, y_train, y_test = train_test_split(X, y, test_size=0.3, random_state=0)"
   ]
  },
  {
   "cell_type": "code",
   "execution_count": null,
   "id": "801a20fd",
   "metadata": {},
   "outputs": [],
   "source": [
    "def rmse(x,y):\n",
    "    return math.sqrt(((x-y)**2).mean())\n",
    "def print_score(m):\n",
    "    res =[rmse(m.predict(X_train),y_train),rmse(m.predict(X_test),y_test),m.score(X_train,y_train),m.score(X_test,y_test)]\n",
    "    if hasattr(m,'oob_score_'):res.append(m.oob_score_)\n",
    "    print(res)"
   ]
  },
  {
   "cell_type": "code",
   "execution_count": null,
   "id": "4f25c7f4",
   "metadata": {},
   "outputs": [],
   "source": [
    "m=RandomForestRegressor(n_jobs=-1,oob_score=True)\n",
    "m.fit(X_train,y_train)"
   ]
  },
  {
   "cell_type": "code",
   "execution_count": null,
   "id": "7a011679",
   "metadata": {},
   "outputs": [],
   "source": [
    "import math "
   ]
  },
  {
   "cell_type": "code",
   "execution_count": null,
   "id": "ddd0b38e",
   "metadata": {},
   "outputs": [],
   "source": [
    "print_score(m)"
   ]
  },
  {
   "cell_type": "code",
   "execution_count": null,
   "id": "5c5f38e7",
   "metadata": {},
   "outputs": [],
   "source": [
    "from sklearn.feature_selection import SelectFromModel"
   ]
  },
  {
   "cell_type": "code",
   "execution_count": null,
   "id": "110c98b4",
   "metadata": {},
   "outputs": [],
   "source": [
    "def feat_importance(m,df_train):\n",
    "    importance = m.feature_importances_\n",
    "    importance = pd.DataFrame(importance,index=df_train.columns,columns=[\"Importance\"])\n",
    "    return importance.sort_values(by=['Importance'],ascending=False)\n",
    "importance = feat_importance(m,X_train)\n",
    "importance[:]"
   ]
  },
  {
   "cell_type": "code",
   "execution_count": null,
   "id": "cf0b65ca",
   "metadata": {},
   "outputs": [],
   "source": []
  },
  {
   "cell_type": "code",
   "execution_count": null,
   "id": "87a789c2",
   "metadata": {},
   "outputs": [],
   "source": [
    "from sklearn.feature_selection import SelectKBest\n",
    "from sklearn.feature_selection import f_regression"
   ]
  },
  {
   "cell_type": "code",
   "execution_count": null,
   "id": "8b02fb02",
   "metadata": {},
   "outputs": [],
   "source": [
    "house_price5=house_price3.drop(['Min Income','Interest Rate'], axis=1)"
   ]
  },
  {
   "cell_type": "code",
   "execution_count": null,
   "id": "78b7fad8",
   "metadata": {},
   "outputs": [],
   "source": [
    "# UNIVARIATE FEATURE SELECTION\n",
    "# drop target columns\n",
    "drop_cols=['Purchase Price']"
   ]
  },
  {
   "cell_type": "code",
   "execution_count": null,
   "id": "b1f60e46",
   "metadata": {},
   "outputs": [],
   "source": [
    "X = house_price5.drop(drop_cols, axis = 1) # X = independent columns (potential predictors)\n",
    "y = house_price5['Purchase Price'] # y = target column (what we want to predict)\n"
   ]
  },
  {
   "cell_type": "code",
   "execution_count": null,
   "id": "d1facc1b",
   "metadata": {},
   "outputs": [],
   "source": [
    "# instantiate SelectKBest to determine 20 best features\n",
    "best_features = SelectKBest(score_func=f_regression, k=11)\n",
    "fit = best_features.fit(X,y)\n",
    "df_scores = pd.DataFrame(fit.scores_)\n",
    "df_columns = pd.DataFrame(X.columns)\n",
    "# concatenate dataframes\n",
    "feature_scores = pd.concat([df_columns, df_scores],axis=1)\n",
    "feature_scores.columns = ['Feature_Name','Score']  # name output columns\n",
    "print(feature_scores.nlargest(20,'Score'))  # print 20 best features\n",
    "# export selected features to .csv\n",
    "df_univ_feat = feature_scores.nlargest(20,'Score')\n",
    "df_univ_feat.to_csv('feature_selection_UNIVARIATE.csv', index=False)"
   ]
  },
  {
   "cell_type": "code",
   "execution_count": null,
   "id": "f25b51cf",
   "metadata": {},
   "outputs": [],
   "source": [
    "# Feature importance is inbuilt with Tree Based Classifiers\n",
    "from sklearn.ensemble import RandomForestRegressor\n",
    "# FEATURE IMPORTANCE FEATURE SELECTION\n",
    "import numpy as np\n",
    "np.random.seed(42)\n",
    "# drop target columns\n",
    "drop_cols=['Purchase Price']\n",
    "\n",
    "X = house_price5.drop(drop_cols, axis = 1) # X = independent columns (potential predictors)\n",
    "y = house_price5['Purchase Price'] # y = target column (what we want to predict)\n",
    "# instantiate RandomForestClassifier\n",
    "rf_model = RandomForestRegressor()\n",
    "rf_model.fit(X,y)\n",
    "feat_importances = pd.Series(rf_model.feature_importances_, index=X.columns)\n",
    "# determine 20 most important features\n",
    "df_imp_feat = feat_importances.nlargest(13)\n",
    "# print(rf_model.feature_importances_)\n",
    "# export selected features to .csv\n",
    "# df_imp_feat.to_csv('feature_selection_IMPORTANCE.csv', index=False)\n",
    "#df_imp_feat.to_csv('feature_selection_IMPORTANCE.csv')\n",
    "# plot 20 most important features\n",
    "# feat_importances.nlargest(20).plot(kind='barh')\n",
    "df_imp_feat.plot(kind='barh')\n",
    "plt.show()\n",
    "print(df_imp_feat)"
   ]
  },
  {
   "cell_type": "markdown",
   "id": "3731478c",
   "metadata": {},
   "source": [
    "## SAVE\n"
   ]
  },
  {
   "cell_type": "code",
   "execution_count": null,
   "id": "9a58e083",
   "metadata": {},
   "outputs": [],
   "source": [
    "house_price3.to_csv('House Lande1.csv')"
   ]
  },
  {
   "cell_type": "code",
   "execution_count": null,
   "id": "7dfe56e4",
   "metadata": {},
   "outputs": [],
   "source": [
    "house_price3.to_csv('House Lande2.csv')"
   ]
  },
  {
   "cell_type": "code",
   "execution_count": null,
   "id": "fba8b2a1",
   "metadata": {},
   "outputs": [],
   "source": [
    "house_price3.to_csv('House Lande3.csv')"
   ]
  },
  {
   "cell_type": "code",
   "execution_count": null,
   "id": "4cba647b",
   "metadata": {},
   "outputs": [],
   "source": [
    "house_price3.to_csv('House Lande4.csv')"
   ]
  },
  {
   "cell_type": "code",
   "execution_count": null,
   "id": "c7b5bfff",
   "metadata": {},
   "outputs": [],
   "source": [
    "house_price3.to_csv('House Price Phyton R.csv')"
   ]
  },
  {
   "cell_type": "code",
   "execution_count": null,
   "id": "a64cd35d",
   "metadata": {},
   "outputs": [],
   "source": [
    "house_price3.to_csv('House Price-Regression4.csv')"
   ]
  },
  {
   "cell_type": "code",
   "execution_count": null,
   "id": "9dcee0cd",
   "metadata": {},
   "outputs": [],
   "source": [
    "house_price3.info()"
   ]
  },
  {
   "cell_type": "code",
   "execution_count": null,
   "id": "fa0394ff",
   "metadata": {},
   "outputs": [],
   "source": [
    "house_price3.summary"
   ]
  },
  {
   "cell_type": "code",
   "execution_count": null,
   "id": "fa5f51bf",
   "metadata": {},
   "outputs": [],
   "source": [
    "house_price3.describe()"
   ]
  },
  {
   "cell_type": "code",
   "execution_count": null,
   "id": "7f63162e",
   "metadata": {},
   "outputs": [],
   "source": []
  },
  {
   "cell_type": "code",
   "execution_count": null,
   "id": "08bbd62e",
   "metadata": {},
   "outputs": [],
   "source": []
  },
  {
   "cell_type": "code",
   "execution_count": null,
   "id": "32604713",
   "metadata": {},
   "outputs": [],
   "source": []
  }
 ],
 "metadata": {
  "kernelspec": {
   "display_name": "Python 3 (ipykernel)",
   "language": "python",
   "name": "python3"
  },
  "language_info": {
   "codemirror_mode": {
    "name": "ipython",
    "version": 3
   },
   "file_extension": ".py",
   "mimetype": "text/x-python",
   "name": "python",
   "nbconvert_exporter": "python",
   "pygments_lexer": "ipython3",
   "version": "3.9.13"
  }
 },
 "nbformat": 4,
 "nbformat_minor": 5
}
